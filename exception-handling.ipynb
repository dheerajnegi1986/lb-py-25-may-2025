{
 "cells": [
  {
   "cell_type": "markdown",
   "id": "0e7652e5-cc1a-433c-85d8-53ac0dcded1b",
   "metadata": {},
   "source": [
    "# EXCEPTION HANDLING"
   ]
  },
  {
   "cell_type": "markdown",
   "id": "269560b3-4d79-46d7-bf60-cd67818eb48b",
   "metadata": {},
   "source": [
    "It's the process of responding to the occurrence of exception (error) during program execution\n",
    "\n",
    "Without exception handling:\n",
    "- Your program crashes when an error occurs\n",
    "- You can't control or log what went wrong\n",
    "- User experience become poor\n",
    "\n",
    "With:\n",
    "- You can catch and handle error gracefully\n",
    "- Keep the program running even if something goes wrong\n",
    "- Make debugging and troubleshooting easier\n",
    "\n",
    "Type of errors\n",
    "- Syntax error - Incorrect syntax if x > 5 print(x)\n",
    "- Name error - Variable not defined - print(num) when num is undefined\n",
    "- Type error - Wrong data type used - 5 + \"hello\"\n",
    "- Value error - Right type but inappropriate value - int(\"abc\")\n",
    "- Index error - Index out of range - arr = [1,2] arr[5]\n",
    "- Key error - Dictionary key doesn't exists - d{} d['x']\n",
    "- ZeroDevisionError - Division by zero - 5/0\n",
    "- FileNotFound - Tryingto access a file that doesn't exists\n",
    "\n",
    "Basic structure\n",
    "try:\n",
    "    # Code that may cause an exception\n",
    "except ExceptionType:\n",
    "    # Code to run if there is an exception\n",
    "else:\n",
    "    # Code to run if no exception occurs\n",
    "finally:\n",
    "    # Code that always runs (cleanup, closing files etc.)"
   ]
  },
  {
   "cell_type": "code",
   "execution_count": 4,
   "id": "110fb041-ab59-416b-b4d4-e9dff09b722f",
   "metadata": {},
   "outputs": [
    {
     "ename": "SyntaxError",
     "evalue": "invalid syntax (172466112.py, line 1)",
     "output_type": "error",
     "traceback": [
      "\u001b[0;36m  Cell \u001b[0;32mIn[4], line 1\u001b[0;36m\u001b[0m\n\u001b[0;31m    if x > 5 print(x)\u001b[0m\n\u001b[0m             ^\u001b[0m\n\u001b[0;31mSyntaxError\u001b[0m\u001b[0;31m:\u001b[0m invalid syntax\n"
     ]
    }
   ],
   "source": [
    "if x > 5 print(x)"
   ]
  },
  {
   "cell_type": "code",
   "execution_count": 1,
   "id": "6ac6e731-0c20-412e-97a2-44d24398aa3a",
   "metadata": {},
   "outputs": [
    {
     "ename": "NameError",
     "evalue": "name 'om' is not defined",
     "output_type": "error",
     "traceback": [
      "\u001b[0;31m---------------------------------------------------------------------------\u001b[0m",
      "\u001b[0;31mNameError\u001b[0m                                 Traceback (most recent call last)",
      "Cell \u001b[0;32mIn[1], line 1\u001b[0m\n\u001b[0;32m----> 1\u001b[0m \u001b[38;5;28mprint\u001b[39m(om)\n",
      "\u001b[0;31mNameError\u001b[0m: name 'om' is not defined"
     ]
    }
   ],
   "source": [
    "print(om)"
   ]
  },
  {
   "cell_type": "code",
   "execution_count": 5,
   "id": "987e6dc0-ef49-4869-a730-a78fc59167f1",
   "metadata": {},
   "outputs": [
    {
     "ename": "TypeError",
     "evalue": "unsupported operand type(s) for +: 'int' and 'str'",
     "output_type": "error",
     "traceback": [
      "\u001b[0;31m---------------------------------------------------------------------------\u001b[0m",
      "\u001b[0;31mTypeError\u001b[0m                                 Traceback (most recent call last)",
      "Cell \u001b[0;32mIn[5], line 1\u001b[0m\n\u001b[0;32m----> 1\u001b[0m \u001b[38;5;241m5\u001b[39m \u001b[38;5;241m+\u001b[39m \u001b[38;5;124m\"\u001b[39m\u001b[38;5;124mhello\u001b[39m\u001b[38;5;124m\"\u001b[39m\n",
      "\u001b[0;31mTypeError\u001b[0m: unsupported operand type(s) for +: 'int' and 'str'"
     ]
    }
   ],
   "source": [
    "5 + \"hello\""
   ]
  },
  {
   "cell_type": "code",
   "execution_count": 6,
   "id": "ba45307d-7ae3-4ef5-87c6-570e60239e5c",
   "metadata": {},
   "outputs": [
    {
     "ename": "ValueError",
     "evalue": "invalid literal for int() with base 10: 'abc'",
     "output_type": "error",
     "traceback": [
      "\u001b[0;31m---------------------------------------------------------------------------\u001b[0m",
      "\u001b[0;31mValueError\u001b[0m                                Traceback (most recent call last)",
      "Cell \u001b[0;32mIn[6], line 1\u001b[0m\n\u001b[0;32m----> 1\u001b[0m \u001b[38;5;28mint\u001b[39m(\u001b[38;5;124m\"\u001b[39m\u001b[38;5;124mabc\u001b[39m\u001b[38;5;124m\"\u001b[39m)\n",
      "\u001b[0;31mValueError\u001b[0m: invalid literal for int() with base 10: 'abc'"
     ]
    }
   ],
   "source": [
    "int(\"abc\")"
   ]
  },
  {
   "cell_type": "code",
   "execution_count": 8,
   "id": "1287f5c7-baeb-4b71-8e49-cce432e387e8",
   "metadata": {},
   "outputs": [
    {
     "ename": "IndexError",
     "evalue": "list index out of range",
     "output_type": "error",
     "traceback": [
      "\u001b[0;31m---------------------------------------------------------------------------\u001b[0m",
      "\u001b[0;31mIndexError\u001b[0m                                Traceback (most recent call last)",
      "Cell \u001b[0;32mIn[8], line 2\u001b[0m\n\u001b[1;32m      1\u001b[0m arr \u001b[38;5;241m=\u001b[39m [\u001b[38;5;241m1\u001b[39m,\u001b[38;5;241m2\u001b[39m]\n\u001b[0;32m----> 2\u001b[0m arr[\u001b[38;5;241m5\u001b[39m]\n",
      "\u001b[0;31mIndexError\u001b[0m: list index out of range"
     ]
    }
   ],
   "source": [
    "arr = [1,2]\n",
    "arr[5]"
   ]
  },
  {
   "cell_type": "code",
   "execution_count": 9,
   "id": "45fb336a-81d0-46b3-b316-40a3878c8051",
   "metadata": {},
   "outputs": [
    {
     "ename": "KeyError",
     "evalue": "'x'",
     "output_type": "error",
     "traceback": [
      "\u001b[0;31m---------------------------------------------------------------------------\u001b[0m",
      "\u001b[0;31mKeyError\u001b[0m                                  Traceback (most recent call last)",
      "Cell \u001b[0;32mIn[9], line 2\u001b[0m\n\u001b[1;32m      1\u001b[0m d \u001b[38;5;241m=\u001b[39m {}\n\u001b[0;32m----> 2\u001b[0m d[\u001b[38;5;124m'\u001b[39m\u001b[38;5;124mx\u001b[39m\u001b[38;5;124m'\u001b[39m]\n",
      "\u001b[0;31mKeyError\u001b[0m: 'x'"
     ]
    }
   ],
   "source": [
    "d = {}\n",
    "d['x']"
   ]
  },
  {
   "cell_type": "code",
   "execution_count": 11,
   "id": "9168d571-ac5c-4abe-9a0c-8112ff714d0a",
   "metadata": {},
   "outputs": [
    {
     "ename": "ZeroDivisionError",
     "evalue": "division by zero",
     "output_type": "error",
     "traceback": [
      "\u001b[0;31m---------------------------------------------------------------------------\u001b[0m",
      "\u001b[0;31mZeroDivisionError\u001b[0m                         Traceback (most recent call last)",
      "Cell \u001b[0;32mIn[11], line 1\u001b[0m\n\u001b[0;32m----> 1\u001b[0m \u001b[38;5;241m5\u001b[39m\u001b[38;5;241m/\u001b[39m\u001b[38;5;241m0\u001b[39m\n",
      "\u001b[0;31mZeroDivisionError\u001b[0m: division by zero"
     ]
    }
   ],
   "source": [
    "5/0"
   ]
  },
  {
   "cell_type": "code",
   "execution_count": 12,
   "id": "76bfd3ef-4147-4624-a46b-1ebd6b9b0197",
   "metadata": {},
   "outputs": [
    {
     "ename": "FileNotFoundError",
     "evalue": "[Errno 2] No such file or directory: 'omraj.txt'",
     "output_type": "error",
     "traceback": [
      "\u001b[0;31m---------------------------------------------------------------------------\u001b[0m",
      "\u001b[0;31mFileNotFoundError\u001b[0m                         Traceback (most recent call last)",
      "Cell \u001b[0;32mIn[12], line 1\u001b[0m\n\u001b[0;32m----> 1\u001b[0m \u001b[38;5;28mopen\u001b[39m(\u001b[38;5;124m'\u001b[39m\u001b[38;5;124momraj.txt\u001b[39m\u001b[38;5;124m'\u001b[39m)\n",
      "File \u001b[0;32m/opt/anaconda3/lib/python3.12/site-packages/IPython/core/interactiveshell.py:324\u001b[0m, in \u001b[0;36m_modified_open\u001b[0;34m(file, *args, **kwargs)\u001b[0m\n\u001b[1;32m    317\u001b[0m \u001b[38;5;28;01mif\u001b[39;00m file \u001b[38;5;129;01min\u001b[39;00m {\u001b[38;5;241m0\u001b[39m, \u001b[38;5;241m1\u001b[39m, \u001b[38;5;241m2\u001b[39m}:\n\u001b[1;32m    318\u001b[0m     \u001b[38;5;28;01mraise\u001b[39;00m \u001b[38;5;167;01mValueError\u001b[39;00m(\n\u001b[1;32m    319\u001b[0m         \u001b[38;5;124mf\u001b[39m\u001b[38;5;124m\"\u001b[39m\u001b[38;5;124mIPython won\u001b[39m\u001b[38;5;124m'\u001b[39m\u001b[38;5;124mt let you open fd=\u001b[39m\u001b[38;5;132;01m{\u001b[39;00mfile\u001b[38;5;132;01m}\u001b[39;00m\u001b[38;5;124m by default \u001b[39m\u001b[38;5;124m\"\u001b[39m\n\u001b[1;32m    320\u001b[0m         \u001b[38;5;124m\"\u001b[39m\u001b[38;5;124mas it is likely to crash IPython. If you know what you are doing, \u001b[39m\u001b[38;5;124m\"\u001b[39m\n\u001b[1;32m    321\u001b[0m         \u001b[38;5;124m\"\u001b[39m\u001b[38;5;124myou can use builtins\u001b[39m\u001b[38;5;124m'\u001b[39m\u001b[38;5;124m open.\u001b[39m\u001b[38;5;124m\"\u001b[39m\n\u001b[1;32m    322\u001b[0m     )\n\u001b[0;32m--> 324\u001b[0m \u001b[38;5;28;01mreturn\u001b[39;00m io_open(file, \u001b[38;5;241m*\u001b[39margs, \u001b[38;5;241m*\u001b[39m\u001b[38;5;241m*\u001b[39mkwargs)\n",
      "\u001b[0;31mFileNotFoundError\u001b[0m: [Errno 2] No such file or directory: 'omraj.txt'"
     ]
    }
   ],
   "source": [
    "open('omraj.txt')"
   ]
  },
  {
   "cell_type": "code",
   "execution_count": 18,
   "id": "2dab1c53-adb0-480f-93f0-7a8af33aac01",
   "metadata": {},
   "outputs": [
    {
     "name": "stdin",
     "output_type": "stream",
     "text": [
      "Enter a number 0\n"
     ]
    },
    {
     "ename": "ZeroDivisionError",
     "evalue": "division by zero",
     "output_type": "error",
     "traceback": [
      "\u001b[0;31m---------------------------------------------------------------------------\u001b[0m",
      "\u001b[0;31mZeroDivisionError\u001b[0m                         Traceback (most recent call last)",
      "Cell \u001b[0;32mIn[18], line 2\u001b[0m\n\u001b[1;32m      1\u001b[0m num \u001b[38;5;241m=\u001b[39m \u001b[38;5;28mint\u001b[39m(\u001b[38;5;28minput\u001b[39m(\u001b[38;5;124m'\u001b[39m\u001b[38;5;124mEnter a number\u001b[39m\u001b[38;5;124m'\u001b[39m))\n\u001b[0;32m----> 2\u001b[0m result \u001b[38;5;241m=\u001b[39m \u001b[38;5;241m10\u001b[39m \u001b[38;5;241m/\u001b[39m num\n\u001b[1;32m      3\u001b[0m \u001b[38;5;28mprint\u001b[39m(result)\n",
      "\u001b[0;31mZeroDivisionError\u001b[0m: division by zero"
     ]
    }
   ],
   "source": [
    "num = int(input('Enter a number'))\n",
    "result = 10 / num\n",
    "print(result)"
   ]
  },
  {
   "cell_type": "code",
   "execution_count": 16,
   "id": "9cca6bb9-38fd-42c6-bd82-0ab164483444",
   "metadata": {},
   "outputs": [
    {
     "name": "stdin",
     "output_type": "stream",
     "text": [
      "Enter a number 0\n"
     ]
    },
    {
     "name": "stdout",
     "output_type": "stream",
     "text": [
      "Division with zero is invalid\n",
      "This always runs, no matter what\n"
     ]
    }
   ],
   "source": [
    "try:\n",
    "    num = int(input('Enter a number'))\n",
    "    result = 10 / num\n",
    "except ZeroDivisionError:\n",
    "    print('Division with zero is invalid')\n",
    "else:\n",
    "    print(result)\n",
    "finally:\n",
    "    print('This always runs, no matter what')"
   ]
  },
  {
   "cell_type": "code",
   "execution_count": 27,
   "id": "9d2a239c-55c9-46f8-9291-5dc36da549b5",
   "metadata": {},
   "outputs": [
    {
     "ename": "SyntaxError",
     "evalue": "unterminated string literal (detected at line 9) (1127376465.py, line 9)",
     "output_type": "error",
     "traceback": [
      "\u001b[0;36m  Cell \u001b[0;32mIn[27], line 9\u001b[0;36m\u001b[0m\n\u001b[0;31m    print('🛑 error occured : , e)\u001b[0m\n\u001b[0m          ^\u001b[0m\n\u001b[0;31mSyntaxError\u001b[0m\u001b[0;31m:\u001b[0m unterminated string literal (detected at line 9)\n"
     ]
    }
   ],
   "source": [
    "try:\n",
    "    num = int(input('Enter a number'))\n",
    "    result = 10 / num\n",
    "except ZeroDivisionError:\n",
    "    print('🛑 Division with zero is invalid')\n",
    "except ValueError:\n",
    "    print('🛑 Input a valid number')\n",
    "except Exception as e: # catch all the errors\n",
    "    print('🛑 error occured : ', e)\n",
    "else:\n",
    "    print(result)\n",
    "finally:\n",
    "    print('This always runs, no matter what')"
   ]
  },
  {
   "cell_type": "code",
   "execution_count": 23,
   "id": "d4cd7df6-feed-4215-860d-b140a38ff310",
   "metadata": {},
   "outputs": [
    {
     "name": "stdin",
     "output_type": "stream",
     "text": [
      "Enter a number 0\n"
     ]
    },
    {
     "name": "stdout",
     "output_type": "stream",
     "text": [
      "🛑 error occured :  division by zero\n",
      "This always runs, no matter what\n"
     ]
    }
   ],
   "source": [
    "try:\n",
    "    num = int(input('Enter a number'))\n",
    "    result = 10 / num\n",
    "except Exception as e: # catch all the errors\n",
    "    print('🛑 error occured : ', e)\n",
    "else:\n",
    "    print(result)\n",
    "finally:\n",
    "    print('This always runs, no matter what')"
   ]
  },
  {
   "cell_type": "markdown",
   "id": "886b1b64-bbce-4fc5-a064-39007b825c68",
   "metadata": {},
   "source": [
    "### USER DEFINED ERRORS"
   ]
  },
  {
   "cell_type": "code",
   "execution_count": 29,
   "id": "817d0d03-de25-4eb8-9028-b76d85bed8d7",
   "metadata": {},
   "outputs": [
    {
     "name": "stdin",
     "output_type": "stream",
     "text": [
      "Enter your age:  12\n"
     ]
    },
    {
     "name": "stdout",
     "output_type": "stream",
     "text": [
      "Error: Age is too small. Must be atleast 18.\n"
     ]
    }
   ],
   "source": [
    "class AgeTooSmallError(Exception):\n",
    "    pass\n",
    "\n",
    "try:\n",
    "    age = int(input(\"Enter your age: \"))\n",
    "    if age < 18:\n",
    "        raise AgeTooSmallError\n",
    "    else:\n",
    "        print('You are eligible')\n",
    "except AgeTooSmallError:\n",
    "    print('Error: Age is too small. Must be atleast 18.')"
   ]
  },
  {
   "cell_type": "code",
   "execution_count": null,
   "id": "be72aa09-1774-4fdd-b707-465a4ea5d503",
   "metadata": {},
   "outputs": [],
   "source": []
  }
 ],
 "metadata": {
  "kernelspec": {
   "display_name": "Python [conda env:base] *",
   "language": "python",
   "name": "conda-base-py"
  },
  "language_info": {
   "codemirror_mode": {
    "name": "ipython",
    "version": 3
   },
   "file_extension": ".py",
   "mimetype": "text/x-python",
   "name": "python",
   "nbconvert_exporter": "python",
   "pygments_lexer": "ipython3",
   "version": "3.12.7"
  }
 },
 "nbformat": 4,
 "nbformat_minor": 5
}
