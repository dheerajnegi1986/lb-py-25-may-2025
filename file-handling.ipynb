{
 "cells": [
  {
   "cell_type": "markdown",
   "id": "e132b397-5917-4149-9c1a-9b1c710a1355",
   "metadata": {},
   "source": [
    "# FILE HANDLING"
   ]
  },
  {
   "cell_type": "markdown",
   "id": "1c44ca1a-5fd0-41ea-b9df-419b43da4d11",
   "metadata": {},
   "source": [
    "You can create, read, write and append data to files etc\n",
    "\n",
    "Why ?\n",
    "- Store data permanently\n",
    "- Share data between programs\n",
    "- Read data from external sources\n",
    "\n",
    "Types of files\n",
    "- Text files - .txt, .csv, .log, .py, .html, \n",
    "- Binary files - .jpg, .pdf, .exe, .mp3\n",
    "\n",
    "Operation\n",
    "- Open a file - open()\n",
    "- Read from file - read()\n",
    "- Write to file - write()\n",
    "- close a file - close()\n",
    "\n",
    "File modes\n",
    "- r - read\n",
    "- w - write\n",
    "- a - append (add at the last)\n",
    "- b - binary mode\n",
    "- x - create\n",
    "- \"+\" - read and write"
   ]
  },
  {
   "cell_type": "code",
   "execution_count": 1,
   "id": "c8df48b7-ff6d-4aa9-b680-e1d41516cb63",
   "metadata": {},
   "outputs": [
    {
     "name": "stdout",
     "output_type": "stream",
     "text": [
      "Hello world!\n",
      "I'm Omraj from Delhi. Happy to see you :)\n"
     ]
    }
   ],
   "source": [
    "file = open('sample.txt', 'r')\n",
    "print(file.read())\n",
    "file.close()"
   ]
  },
  {
   "cell_type": "code",
   "execution_count": 2,
   "id": "5d2c2e4c-81e1-4254-b658-97c6dff4b820",
   "metadata": {},
   "outputs": [],
   "source": [
    "f = open('sample.txt', 'w')\n",
    "f.write('Hi Everyone, welcome to another lecture on file handling') # overwrite\n",
    "f.close()"
   ]
  },
  {
   "cell_type": "code",
   "execution_count": 5,
   "id": "3da07dd3-e2c4-40a1-86f2-201716a17d79",
   "metadata": {},
   "outputs": [],
   "source": [
    "f = open('sample.txt', 'a') # append mode\n",
    "f.write('\\nWelcome Manish') # adding at the end\n",
    "f.close()"
   ]
  },
  {
   "cell_type": "code",
   "execution_count": 7,
   "id": "88b30e1e-2131-42d4-83f4-a5ab418de2c9",
   "metadata": {},
   "outputs": [
    {
     "name": "stdout",
     "output_type": "stream",
     "text": [
      "Hi Everyone, welcome to another lecture on file handlingWelcome Arnab\n",
      "Welcome Arnab\n",
      "Welcome Manish\n"
     ]
    }
   ],
   "source": [
    "with open('sample.txt', 'r') as f:  # automatically closes the file after use\n",
    "    print(f.read())"
   ]
  },
  {
   "cell_type": "code",
   "execution_count": 10,
   "id": "2cf567fa-e98e-47dd-8306-d35602fcbf30",
   "metadata": {},
   "outputs": [
    {
     "name": "stdout",
     "output_type": "stream",
     "text": [
      "Hi Everyone, welcome to another lecture on file handlingWelcome Arnab\n",
      "\n"
     ]
    }
   ],
   "source": [
    "with open('sample.txt', 'r') as f:\n",
    "    print(f.readline()) # read first line"
   ]
  },
  {
   "cell_type": "code",
   "execution_count": 13,
   "id": "292bf532-1e1a-4731-b6fc-17c5f5e3dfe4",
   "metadata": {},
   "outputs": [
    {
     "name": "stdout",
     "output_type": "stream",
     "text": [
      "['Hi Everyone, welcome to another lecture on file handlingWelcome Arnab\\n', 'Welcome Arnab\\n', 'Welcome Manish']\n"
     ]
    }
   ],
   "source": [
    "with open('sample.txt', 'r') as f:\n",
    "    print(f.readlines()) # read all ines into a list"
   ]
  },
  {
   "cell_type": "code",
   "execution_count": 18,
   "id": "ba5e669a-9114-48e4-afec-711ddd2d3104",
   "metadata": {},
   "outputs": [],
   "source": [
    "while(True):\n",
    "    f = open('sample.txt', 'a')\n",
    "    attendee = input(\"Enter the attendee's name: \")\n",
    "    f.write(attendee + \"\\n\")\n",
    "    f.close()"
   ]
  },
  {
   "cell_type": "code",
   "execution_count": 19,
   "id": "42d8b0cb-ebba-4ae4-a3ac-f1fa192f3bad",
   "metadata": {},
   "outputs": [
    {
     "data": {
      "text/plain": [
       "'Hi Every'"
      ]
     },
     "execution_count": 19,
     "metadata": {},
     "output_type": "execute_result"
    }
   ],
   "source": [
    "# TELL() - return the current position of pointer in file\n",
    "f = open('sample.txt', 'r')\n",
    "f.read(8)"
   ]
  },
  {
   "cell_type": "code",
   "execution_count": 20,
   "id": "822e8f9b-6a5e-4ab6-a5d7-5dd3c47fc379",
   "metadata": {},
   "outputs": [
    {
     "data": {
      "text/plain": [
       "8"
      ]
     },
     "execution_count": 20,
     "metadata": {},
     "output_type": "execute_result"
    }
   ],
   "source": [
    "f.tell()"
   ]
  },
  {
   "cell_type": "code",
   "execution_count": 21,
   "id": "8a270630-997d-4a76-877e-533185800f24",
   "metadata": {},
   "outputs": [
    {
     "data": {
      "text/plain": [
       "'one, welco'"
      ]
     },
     "execution_count": 21,
     "metadata": {},
     "output_type": "execute_result"
    }
   ],
   "source": [
    "f.read(10)"
   ]
  },
  {
   "cell_type": "code",
   "execution_count": 22,
   "id": "0109e9de-b6b3-4736-ab4c-3c900c4c55e8",
   "metadata": {},
   "outputs": [
    {
     "data": {
      "text/plain": [
       "18"
      ]
     },
     "execution_count": 22,
     "metadata": {},
     "output_type": "execute_result"
    }
   ],
   "source": [
    "f.tell()"
   ]
  },
  {
   "cell_type": "code",
   "execution_count": 23,
   "id": "6444fc54-8dac-4e8d-bd0f-43b54cc6c2fe",
   "metadata": {},
   "outputs": [],
   "source": [
    "# SEEK - file point to a specific position"
   ]
  },
  {
   "cell_type": "code",
   "execution_count": 24,
   "id": "97ce4cda-2ccb-449f-9d53-f1f40386ce6c",
   "metadata": {},
   "outputs": [],
   "source": [
    "f = open('sample.txt', 'r')\n"
   ]
  },
  {
   "cell_type": "code",
   "execution_count": 25,
   "id": "35d0fdf2-72c9-4343-8a38-8a3ac0171667",
   "metadata": {},
   "outputs": [
    {
     "data": {
      "text/plain": [
       "' to anothe'"
      ]
     },
     "execution_count": 25,
     "metadata": {},
     "output_type": "execute_result"
    }
   ],
   "source": [
    "f.seek(20)\n",
    "f.read(10)"
   ]
  },
  {
   "cell_type": "code",
   "execution_count": 26,
   "id": "53033c74-4803-4405-aa48-6cc580c1f574",
   "metadata": {},
   "outputs": [
    {
     "data": {
      "text/plain": [
       "30"
      ]
     },
     "execution_count": 26,
     "metadata": {},
     "output_type": "execute_result"
    }
   ],
   "source": [
    "f.tell()"
   ]
  },
  {
   "cell_type": "code",
   "execution_count": null,
   "id": "e7e11f35-d97f-45a4-827d-dac1b2f69273",
   "metadata": {},
   "outputs": [],
   "source": []
  }
 ],
 "metadata": {
  "kernelspec": {
   "display_name": "Python [conda env:base] *",
   "language": "python",
   "name": "conda-base-py"
  },
  "language_info": {
   "codemirror_mode": {
    "name": "ipython",
    "version": 3
   },
   "file_extension": ".py",
   "mimetype": "text/x-python",
   "name": "python",
   "nbconvert_exporter": "python",
   "pygments_lexer": "ipython3",
   "version": "3.12.7"
  }
 },
 "nbformat": 4,
 "nbformat_minor": 5
}
