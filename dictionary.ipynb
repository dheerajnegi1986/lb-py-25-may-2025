{
 "cells": [
  {
   "cell_type": "markdown",
   "id": "63107c56-c3d6-4a24-9c6d-c89c62d3fc5c",
   "metadata": {},
   "source": [
    "# DICTIONARY"
   ]
  },
  {
   "cell_type": "markdown",
   "id": "be12b0d0-f79e-4bb4-a07d-80e016fd3c3a",
   "metadata": {},
   "source": [
    "key:value pair collection\n",
    "\n",
    "Features\n",
    "1. Unordered\n",
    "2. Mutable\n",
    "3. No index but keys\n",
    "4. Keys are unique "
   ]
  },
  {
   "cell_type": "code",
   "execution_count": 1,
   "id": "4136fb0c-dd91-4981-9594-943cfb72ada5",
   "metadata": {},
   "outputs": [
    {
     "data": {
      "text/plain": [
       "{'company': 'apple', 'model': 'm2', 'memory': 16, 'disk': 256}"
      ]
     },
     "execution_count": 1,
     "metadata": {},
     "output_type": "execute_result"
    }
   ],
   "source": [
    "laptop = {\n",
    "    \"company\": \"apple\",\n",
    "    \"model\": \"m2\",\n",
    "    \"memory\": 16,\n",
    "    \"disk\": 256\n",
    "}\n",
    "laptop"
   ]
  },
  {
   "cell_type": "code",
   "execution_count": 3,
   "id": "e9fc04cb-a4b1-437f-ace7-92090a7d301a",
   "metadata": {},
   "outputs": [
    {
     "data": {
      "text/plain": [
       "{'company': 'hp', 'model': 'm2', 'memory': 16, 'disk': 256}"
      ]
     },
     "execution_count": 3,
     "metadata": {},
     "output_type": "execute_result"
    }
   ],
   "source": [
    "laptop = {\n",
    "    \"company\": \"apple\",\n",
    "    \"company\": \"microsoft\",\n",
    "    \"company\": \"hp\",\n",
    "    \"model\": \"m2\",\n",
    "    \"memory\": 16,\n",
    "    \"disk\": 256\n",
    "}\n",
    "laptop"
   ]
  },
  {
   "cell_type": "markdown",
   "id": "dbf51f87-02a2-41e5-a4b5-432b63ab2dbc",
   "metadata": {},
   "source": [
    "### ACCESS"
   ]
  },
  {
   "cell_type": "code",
   "execution_count": 4,
   "id": "2461a25a-be59-413e-8e69-f3457adff5a2",
   "metadata": {},
   "outputs": [
    {
     "data": {
      "text/plain": [
       "'hp'"
      ]
     },
     "execution_count": 4,
     "metadata": {},
     "output_type": "execute_result"
    }
   ],
   "source": [
    "laptop['company']"
   ]
  },
  {
   "cell_type": "code",
   "execution_count": 5,
   "id": "10760388-2545-4b25-8f05-47344cf78d68",
   "metadata": {},
   "outputs": [
    {
     "data": {
      "text/plain": [
       "'m2'"
      ]
     },
     "execution_count": 5,
     "metadata": {},
     "output_type": "execute_result"
    }
   ],
   "source": [
    "laptop['model']"
   ]
  },
  {
   "cell_type": "code",
   "execution_count": 6,
   "id": "e6393fbf-fa2e-4892-8cc6-56641c080dba",
   "metadata": {},
   "outputs": [
    {
     "ename": "KeyError",
     "evalue": "'name'",
     "output_type": "error",
     "traceback": [
      "\u001b[0;31m---------------------------------------------------------------------------\u001b[0m",
      "\u001b[0;31mKeyError\u001b[0m                                  Traceback (most recent call last)",
      "Cell \u001b[0;32mIn[6], line 1\u001b[0m\n\u001b[0;32m----> 1\u001b[0m laptop[\u001b[38;5;124m'\u001b[39m\u001b[38;5;124mname\u001b[39m\u001b[38;5;124m'\u001b[39m]\n",
      "\u001b[0;31mKeyError\u001b[0m: 'name'"
     ]
    }
   ],
   "source": [
    "laptop['name']"
   ]
  },
  {
   "cell_type": "markdown",
   "id": "589aa067-70db-4895-8bb7-7d62644c7fff",
   "metadata": {},
   "source": [
    "### GET"
   ]
  },
  {
   "cell_type": "code",
   "execution_count": 7,
   "id": "f65f425e-dd33-405e-b4b5-c6e4b3baad9f",
   "metadata": {},
   "outputs": [
    {
     "data": {
      "text/plain": [
       "'m2'"
      ]
     },
     "execution_count": 7,
     "metadata": {},
     "output_type": "execute_result"
    }
   ],
   "source": [
    "laptop.get('model')"
   ]
  },
  {
   "cell_type": "code",
   "execution_count": 9,
   "id": "301917e8-393a-4205-9f19-27f5a36139e4",
   "metadata": {},
   "outputs": [],
   "source": [
    "laptop.get('screen')  # don't give you a key error"
   ]
  },
  {
   "cell_type": "markdown",
   "id": "8f09f6bf-ca87-4aec-9719-837482cc0e7e",
   "metadata": {},
   "source": [
    "### ITERATION"
   ]
  },
  {
   "cell_type": "code",
   "execution_count": 10,
   "id": "cd707d8d-0882-4e88-90a2-ed99bbea455a",
   "metadata": {},
   "outputs": [
    {
     "data": {
      "text/plain": [
       "{'company': 'hp', 'model': 'm2', 'memory': 16, 'disk': 256}"
      ]
     },
     "execution_count": 10,
     "metadata": {},
     "output_type": "execute_result"
    }
   ],
   "source": [
    "laptop"
   ]
  },
  {
   "cell_type": "code",
   "execution_count": 11,
   "id": "829515c4-5bb5-4457-aff2-d14abcd1eee0",
   "metadata": {},
   "outputs": [
    {
     "name": "stdout",
     "output_type": "stream",
     "text": [
      "company\n",
      "model\n",
      "memory\n",
      "disk\n"
     ]
    }
   ],
   "source": [
    "for k in laptop:\n",
    "    print(k)"
   ]
  },
  {
   "cell_type": "code",
   "execution_count": 12,
   "id": "bac16172-c0c4-40f1-b6c4-f84a38d847f4",
   "metadata": {},
   "outputs": [
    {
     "name": "stdout",
     "output_type": "stream",
     "text": [
      "company  :  hp\n",
      "model  :  m2\n",
      "memory  :  16\n",
      "disk  :  256\n"
     ]
    }
   ],
   "source": [
    "for k in laptop:\n",
    "    print(k, \" : \", laptop[k])"
   ]
  },
  {
   "cell_type": "markdown",
   "id": "2f5a9993-8ff5-45c8-97bd-6b34dbc61892",
   "metadata": {},
   "source": [
    "### NESTED DICTIONARY"
   ]
  },
  {
   "cell_type": "code",
   "execution_count": 13,
   "id": "28b19b53-c267-450b-abf1-c3e871362ade",
   "metadata": {},
   "outputs": [],
   "source": [
    "employee = {\n",
    "    'name': 'Omraj',\n",
    "    'phone': '1234567890',\n",
    "    'email': 'omraj7413@gmail.com',\n",
    "    'company': 'abc',\n",
    "    'address': {\n",
    "        'area': 'green glen',\n",
    "        'city': 'bangalore',\n",
    "        'state': 'karnataka',\n",
    "        'pin': 12345,\n",
    "        'geoLoc': {\n",
    "            'lat': 123,\n",
    "            'loc': 1234\n",
    "        }\n",
    "    }\n",
    "}"
   ]
  },
  {
   "cell_type": "code",
   "execution_count": 14,
   "id": "bb31a76d-801b-4db3-843a-16299a005cd7",
   "metadata": {},
   "outputs": [
    {
     "data": {
      "text/plain": [
       "{'name': 'Omraj',\n",
       " 'phone': '1234567890',\n",
       " 'email': 'omraj7413@gmail.com',\n",
       " 'company': 'abc',\n",
       " 'address': {'area': 'green glen',\n",
       "  'city': 'bangalore',\n",
       "  'state': 'karnataka',\n",
       "  'pin': 12345,\n",
       "  'geoLoc': {'lat': 123, 'loc': 1234}}}"
      ]
     },
     "execution_count": 14,
     "metadata": {},
     "output_type": "execute_result"
    }
   ],
   "source": [
    "employee"
   ]
  },
  {
   "cell_type": "code",
   "execution_count": 15,
   "id": "24b58a26-9e3c-4aae-a7f2-d03a60473e14",
   "metadata": {},
   "outputs": [
    {
     "data": {
      "text/plain": [
       "'Omraj'"
      ]
     },
     "execution_count": 15,
     "metadata": {},
     "output_type": "execute_result"
    }
   ],
   "source": [
    "employee['name']"
   ]
  },
  {
   "cell_type": "code",
   "execution_count": 16,
   "id": "b9b1518a-00b8-47ed-8e0b-7309fa5aa511",
   "metadata": {},
   "outputs": [
    {
     "data": {
      "text/plain": [
       "{'area': 'green glen',\n",
       " 'city': 'bangalore',\n",
       " 'state': 'karnataka',\n",
       " 'pin': 12345,\n",
       " 'geoLoc': {'lat': 123, 'loc': 1234}}"
      ]
     },
     "execution_count": 16,
     "metadata": {},
     "output_type": "execute_result"
    }
   ],
   "source": [
    "employee['address']"
   ]
  },
  {
   "cell_type": "code",
   "execution_count": 17,
   "id": "ffbe973e-d30b-42a3-a42f-a63981af3550",
   "metadata": {},
   "outputs": [
    {
     "data": {
      "text/plain": [
       "12345"
      ]
     },
     "execution_count": 17,
     "metadata": {},
     "output_type": "execute_result"
    }
   ],
   "source": [
    "employee['address']['pin']"
   ]
  },
  {
   "cell_type": "code",
   "execution_count": 18,
   "id": "adb748d7-616f-442a-8ef8-9bf5a1f7e61e",
   "metadata": {},
   "outputs": [
    {
     "data": {
      "text/plain": [
       "{'lat': 123, 'loc': 1234}"
      ]
     },
     "execution_count": 18,
     "metadata": {},
     "output_type": "execute_result"
    }
   ],
   "source": [
    "employee['address']['geoLoc']"
   ]
  },
  {
   "cell_type": "code",
   "execution_count": 19,
   "id": "7748e14c-d976-49fb-8629-ae02ed746204",
   "metadata": {},
   "outputs": [
    {
     "data": {
      "text/plain": [
       "1234"
      ]
     },
     "execution_count": 19,
     "metadata": {},
     "output_type": "execute_result"
    }
   ],
   "source": [
    "employee['address']['geoLoc']['loc']"
   ]
  },
  {
   "cell_type": "markdown",
   "id": "31e761c5-8ac5-4a64-b792-c42d2a10e871",
   "metadata": {},
   "source": [
    "### SHALOW COPY"
   ]
  },
  {
   "cell_type": "code",
   "execution_count": 20,
   "id": "acf24703-73ec-433c-8ff1-eaedf12024a7",
   "metadata": {},
   "outputs": [],
   "source": [
    "employeeCopy = employee"
   ]
  },
  {
   "cell_type": "code",
   "execution_count": 22,
   "id": "63a37960-7968-453f-a553-740054ba4ef8",
   "metadata": {},
   "outputs": [
    {
     "data": {
      "text/plain": [
       "{'name': 'Omraj',\n",
       " 'phone': '1234567890',\n",
       " 'email': 'omraj7413@gmail.com',\n",
       " 'company': 'abc',\n",
       " 'address': {'area': 'green glen',\n",
       "  'city': 'bangalore',\n",
       "  'state': 'karnataka',\n",
       "  'pin': 12345,\n",
       "  'geoLoc': {'lat': 123, 'loc': 1234}}}"
      ]
     },
     "execution_count": 22,
     "metadata": {},
     "output_type": "execute_result"
    }
   ],
   "source": [
    "employee"
   ]
  },
  {
   "cell_type": "code",
   "execution_count": 23,
   "id": "1aabd0c6-2c7b-49b1-94f0-aa8b332f417e",
   "metadata": {},
   "outputs": [
    {
     "data": {
      "text/plain": [
       "{'name': 'Omraj',\n",
       " 'phone': '1234567890',\n",
       " 'email': 'omraj7413@gmail.com',\n",
       " 'company': 'abc',\n",
       " 'address': {'area': 'green glen',\n",
       "  'city': 'bangalore',\n",
       "  'state': 'karnataka',\n",
       "  'pin': 12345,\n",
       "  'geoLoc': {'lat': 123, 'loc': 1234}}}"
      ]
     },
     "execution_count": 23,
     "metadata": {},
     "output_type": "execute_result"
    }
   ],
   "source": [
    "employeeCopy"
   ]
  },
  {
   "cell_type": "code",
   "execution_count": 24,
   "id": "ebac4e7d-ec8f-4241-96ee-17509c349beb",
   "metadata": {},
   "outputs": [],
   "source": [
    "employee['name'] = 'Omraj Sharma'"
   ]
  },
  {
   "cell_type": "code",
   "execution_count": 25,
   "id": "3675ad60-3f5e-44ad-a4a1-a4ff3f4ce94c",
   "metadata": {},
   "outputs": [
    {
     "data": {
      "text/plain": [
       "{'name': 'Omraj Sharma',\n",
       " 'phone': '1234567890',\n",
       " 'email': 'omraj7413@gmail.com',\n",
       " 'company': 'abc',\n",
       " 'address': {'area': 'green glen',\n",
       "  'city': 'bangalore',\n",
       "  'state': 'karnataka',\n",
       "  'pin': 12345,\n",
       "  'geoLoc': {'lat': 123, 'loc': 1234}}}"
      ]
     },
     "execution_count": 25,
     "metadata": {},
     "output_type": "execute_result"
    }
   ],
   "source": [
    "employee"
   ]
  },
  {
   "cell_type": "code",
   "execution_count": 26,
   "id": "4b32f86d-308f-4166-bd49-f1fa25a4ded8",
   "metadata": {},
   "outputs": [
    {
     "data": {
      "text/plain": [
       "{'name': 'Omraj Sharma',\n",
       " 'phone': '1234567890',\n",
       " 'email': 'omraj7413@gmail.com',\n",
       " 'company': 'abc',\n",
       " 'address': {'area': 'green glen',\n",
       "  'city': 'bangalore',\n",
       "  'state': 'karnataka',\n",
       "  'pin': 12345,\n",
       "  'geoLoc': {'lat': 123, 'loc': 1234}}}"
      ]
     },
     "execution_count": 26,
     "metadata": {},
     "output_type": "execute_result"
    }
   ],
   "source": [
    "employeeCopy"
   ]
  },
  {
   "cell_type": "markdown",
   "id": "1dbff4db-6e57-4088-9377-f9d13722b646",
   "metadata": {},
   "source": [
    "### DEEP COPY"
   ]
  },
  {
   "cell_type": "code",
   "execution_count": 28,
   "id": "2b0a3238-00e7-4b84-a133-5f6c8fda1ae6",
   "metadata": {},
   "outputs": [],
   "source": [
    "import copy"
   ]
  },
  {
   "cell_type": "code",
   "execution_count": 29,
   "id": "71ac5305-1d76-40bf-bf1c-4b1363955966",
   "metadata": {},
   "outputs": [],
   "source": [
    "employeeCopy = copy.deepcopy(employee)"
   ]
  },
  {
   "cell_type": "code",
   "execution_count": 30,
   "id": "fcae1e0d-f38c-439f-9f32-7b0faac6aca6",
   "metadata": {},
   "outputs": [
    {
     "data": {
      "text/plain": [
       "{'name': 'Omraj Sharma',\n",
       " 'phone': '1234567890',\n",
       " 'email': 'omraj7413@gmail.com',\n",
       " 'company': 'abc',\n",
       " 'address': {'area': 'green glen',\n",
       "  'city': 'bangalore',\n",
       "  'state': 'karnataka',\n",
       "  'pin': 12345,\n",
       "  'geoLoc': {'lat': 123, 'loc': 1234}}}"
      ]
     },
     "execution_count": 30,
     "metadata": {},
     "output_type": "execute_result"
    }
   ],
   "source": [
    "employee"
   ]
  },
  {
   "cell_type": "code",
   "execution_count": 31,
   "id": "fbe9c5e7-84c1-40d4-9991-3a4fd2db9867",
   "metadata": {},
   "outputs": [
    {
     "data": {
      "text/plain": [
       "{'name': 'Omraj Sharma',\n",
       " 'phone': '1234567890',\n",
       " 'email': 'omraj7413@gmail.com',\n",
       " 'company': 'abc',\n",
       " 'address': {'area': 'green glen',\n",
       "  'city': 'bangalore',\n",
       "  'state': 'karnataka',\n",
       "  'pin': 12345,\n",
       "  'geoLoc': {'lat': 123, 'loc': 1234}}}"
      ]
     },
     "execution_count": 31,
     "metadata": {},
     "output_type": "execute_result"
    }
   ],
   "source": [
    "employeeCopy"
   ]
  },
  {
   "cell_type": "code",
   "execution_count": 32,
   "id": "001e8761-8e08-4de6-b694-0ec5fe11b3d5",
   "metadata": {},
   "outputs": [],
   "source": [
    "employee['phone'] = 12345"
   ]
  },
  {
   "cell_type": "code",
   "execution_count": 33,
   "id": "67a0ce42-76f9-4f29-bb52-c7780f5ae5cc",
   "metadata": {},
   "outputs": [
    {
     "data": {
      "text/plain": [
       "{'name': 'Omraj Sharma',\n",
       " 'phone': '1234567890',\n",
       " 'email': 'omraj7413@gmail.com',\n",
       " 'company': 'abc',\n",
       " 'address': {'area': 'green glen',\n",
       "  'city': 'bangalore',\n",
       "  'state': 'karnataka',\n",
       "  'pin': 12345,\n",
       "  'geoLoc': {'lat': 123, 'loc': 1234}}}"
      ]
     },
     "execution_count": 33,
     "metadata": {},
     "output_type": "execute_result"
    }
   ],
   "source": [
    "employeeCopy"
   ]
  },
  {
   "cell_type": "code",
   "execution_count": 34,
   "id": "7e9b1528-2177-491c-84ca-4f92df4c885b",
   "metadata": {},
   "outputs": [
    {
     "data": {
      "text/plain": [
       "{'name': 'Omraj Sharma',\n",
       " 'phone': 12345,\n",
       " 'email': 'omraj7413@gmail.com',\n",
       " 'company': 'abc',\n",
       " 'address': {'area': 'green glen',\n",
       "  'city': 'bangalore',\n",
       "  'state': 'karnataka',\n",
       "  'pin': 12345,\n",
       "  'geoLoc': {'lat': 123, 'loc': 1234}}}"
      ]
     },
     "execution_count": 34,
     "metadata": {},
     "output_type": "execute_result"
    }
   ],
   "source": [
    "employee"
   ]
  },
  {
   "cell_type": "markdown",
   "id": "537e223b-a8bc-470d-9d0a-66169ce28a57",
   "metadata": {},
   "source": [
    "### KEYS"
   ]
  },
  {
   "cell_type": "code",
   "execution_count": 35,
   "id": "e07fbc14-cc5c-4bf9-8247-3089e675ec9b",
   "metadata": {},
   "outputs": [
    {
     "data": {
      "text/plain": [
       "{'name': 'Omraj Sharma',\n",
       " 'phone': 12345,\n",
       " 'email': 'omraj7413@gmail.com',\n",
       " 'company': 'abc',\n",
       " 'address': {'area': 'green glen',\n",
       "  'city': 'bangalore',\n",
       "  'state': 'karnataka',\n",
       "  'pin': 12345,\n",
       "  'geoLoc': {'lat': 123, 'loc': 1234}}}"
      ]
     },
     "execution_count": 35,
     "metadata": {},
     "output_type": "execute_result"
    }
   ],
   "source": [
    "employee"
   ]
  },
  {
   "cell_type": "code",
   "execution_count": 36,
   "id": "0ea4595d-cd08-4484-b17c-8d906a0b5dfd",
   "metadata": {},
   "outputs": [
    {
     "data": {
      "text/plain": [
       "dict_keys(['name', 'phone', 'email', 'company', 'address'])"
      ]
     },
     "execution_count": 36,
     "metadata": {},
     "output_type": "execute_result"
    }
   ],
   "source": [
    "employee.keys()"
   ]
  },
  {
   "cell_type": "markdown",
   "id": "ac1e891e-70c5-4774-9fb6-17da54527dc8",
   "metadata": {},
   "source": [
    "### VALUES"
   ]
  },
  {
   "cell_type": "code",
   "execution_count": 37,
   "id": "74caf851-a0d5-4fc3-ba40-8cfeaf7982ed",
   "metadata": {},
   "outputs": [
    {
     "data": {
      "text/plain": [
       "dict_values(['Omraj Sharma', 12345, 'omraj7413@gmail.com', 'abc', {'area': 'green glen', 'city': 'bangalore', 'state': 'karnataka', 'pin': 12345, 'geoLoc': {'lat': 123, 'loc': 1234}}])"
      ]
     },
     "execution_count": 37,
     "metadata": {},
     "output_type": "execute_result"
    }
   ],
   "source": [
    "employee.values()"
   ]
  },
  {
   "cell_type": "markdown",
   "id": "5e89d545-0c6f-4aa4-8182-58cba14fc6cc",
   "metadata": {},
   "source": [
    "### ITEMS()"
   ]
  },
  {
   "cell_type": "code",
   "execution_count": 42,
   "id": "9c2102c0-d609-4325-8dbb-3fe85a9023c3",
   "metadata": {},
   "outputs": [
    {
     "name": "stdout",
     "output_type": "stream",
     "text": [
      "name  :  Omraj Sharma\n",
      "phone  :  12345\n",
      "email  :  omraj7413@gmail.com\n",
      "company  :  abc\n",
      "address  :  {'area': 'green glen', 'city': 'bangalore', 'state': 'karnataka', 'pin': 12345, 'geoLoc': {'lat': 123, 'loc': 1234}}\n"
     ]
    }
   ],
   "source": [
    "for k,v in employee.items():\n",
    "    print(k, \" : \", v)"
   ]
  },
  {
   "cell_type": "markdown",
   "id": "0fc844ba-c80b-4f81-9ea1-125ae78a9fda",
   "metadata": {},
   "source": [
    "### UPDATE"
   ]
  },
  {
   "cell_type": "code",
   "execution_count": 43,
   "id": "dcfbcc0b-eca5-4142-adf3-49758fd260b0",
   "metadata": {},
   "outputs": [
    {
     "data": {
      "text/plain": [
       "{'company': 'hp', 'model': 'm2', 'memory': 16, 'disk': 256}"
      ]
     },
     "execution_count": 43,
     "metadata": {},
     "output_type": "execute_result"
    }
   ],
   "source": [
    "laptop"
   ]
  },
  {
   "cell_type": "code",
   "execution_count": 45,
   "id": "b48613e7-2848-400a-b548-534cc59a8666",
   "metadata": {},
   "outputs": [],
   "source": [
    "laptop.update({'disk': 512})"
   ]
  },
  {
   "cell_type": "code",
   "execution_count": 46,
   "id": "f65d3a7c-e9a4-45d3-b1e4-22eead82b9ab",
   "metadata": {},
   "outputs": [
    {
     "data": {
      "text/plain": [
       "{'company': 'hp', 'model': 'm2', 'memory': 16, 'disk': 512}"
      ]
     },
     "execution_count": 46,
     "metadata": {},
     "output_type": "execute_result"
    }
   ],
   "source": [
    "laptop"
   ]
  },
  {
   "cell_type": "code",
   "execution_count": 47,
   "id": "1c6f2ab9-b117-4ae7-8cce-17e8ac2a2950",
   "metadata": {},
   "outputs": [],
   "source": [
    "laptop.update({'disk': 256, 'name': 'Macbook air'})"
   ]
  },
  {
   "cell_type": "code",
   "execution_count": 48,
   "id": "e947aef7-65ad-41c7-bb66-c6aa9879c479",
   "metadata": {},
   "outputs": [
    {
     "data": {
      "text/plain": [
       "{'company': 'hp',\n",
       " 'model': 'm2',\n",
       " 'memory': 16,\n",
       " 'disk': 256,\n",
       " 'name': 'Macbook air'}"
      ]
     },
     "execution_count": 48,
     "metadata": {},
     "output_type": "execute_result"
    }
   ],
   "source": [
    "laptop"
   ]
  },
  {
   "cell_type": "markdown",
   "id": "1a3e7822-fb37-43ec-9c01-bcb4678dd423",
   "metadata": {},
   "source": [
    "### POP"
   ]
  },
  {
   "cell_type": "code",
   "execution_count": 49,
   "id": "c5911268-1ede-45a0-8791-154955d4e923",
   "metadata": {},
   "outputs": [
    {
     "data": {
      "text/plain": [
       "'Macbook air'"
      ]
     },
     "execution_count": 49,
     "metadata": {},
     "output_type": "execute_result"
    }
   ],
   "source": [
    "laptop.pop('name')"
   ]
  },
  {
   "cell_type": "code",
   "execution_count": 50,
   "id": "ee4c42dc-8635-4596-aae7-db32c028936a",
   "metadata": {},
   "outputs": [
    {
     "data": {
      "text/plain": [
       "{'company': 'hp', 'model': 'm2', 'memory': 16, 'disk': 256}"
      ]
     },
     "execution_count": 50,
     "metadata": {},
     "output_type": "execute_result"
    }
   ],
   "source": [
    "laptop"
   ]
  },
  {
   "cell_type": "code",
   "execution_count": 51,
   "id": "5c597aa9-d9e2-4ea9-99bd-0ba4530405ed",
   "metadata": {},
   "outputs": [
    {
     "ename": "KeyError",
     "evalue": "'name'",
     "output_type": "error",
     "traceback": [
      "\u001b[0;31m---------------------------------------------------------------------------\u001b[0m",
      "\u001b[0;31mKeyError\u001b[0m                                  Traceback (most recent call last)",
      "Cell \u001b[0;32mIn[51], line 1\u001b[0m\n\u001b[0;32m----> 1\u001b[0m laptop\u001b[38;5;241m.\u001b[39mpop(\u001b[38;5;124m'\u001b[39m\u001b[38;5;124mname\u001b[39m\u001b[38;5;124m'\u001b[39m)\n",
      "\u001b[0;31mKeyError\u001b[0m: 'name'"
     ]
    }
   ],
   "source": [
    "laptop.pop('name')"
   ]
  },
  {
   "cell_type": "code",
   "execution_count": 52,
   "id": "3868a233-0bc1-4a66-949d-9978645a5d89",
   "metadata": {},
   "outputs": [
    {
     "data": {
      "text/plain": [
       "{'company': 'hp', 'model': 'm2', 'memory': 16, 'disk': 256}"
      ]
     },
     "execution_count": 52,
     "metadata": {},
     "output_type": "execute_result"
    }
   ],
   "source": [
    "laptop"
   ]
  },
  {
   "cell_type": "code",
   "execution_count": 53,
   "id": "27c2a4ef-bb5d-4dc6-bb3a-40e179cb89a5",
   "metadata": {},
   "outputs": [
    {
     "data": {
      "text/plain": [
       "'m2'"
      ]
     },
     "execution_count": 53,
     "metadata": {},
     "output_type": "execute_result"
    }
   ],
   "source": [
    "laptop.pop('model')"
   ]
  },
  {
   "cell_type": "code",
   "execution_count": 54,
   "id": "bdc2efbd-eb87-4de9-b8c0-074e607413e1",
   "metadata": {},
   "outputs": [
    {
     "data": {
      "text/plain": [
       "{'company': 'hp', 'memory': 16, 'disk': 256}"
      ]
     },
     "execution_count": 54,
     "metadata": {},
     "output_type": "execute_result"
    }
   ],
   "source": [
    "laptop"
   ]
  },
  {
   "cell_type": "markdown",
   "id": "f059ae8f-c1f3-486f-bb5f-16f4207c5924",
   "metadata": {},
   "source": [
    "### CLEAR"
   ]
  },
  {
   "cell_type": "code",
   "execution_count": 55,
   "id": "b3cfaf92-b7d1-4833-8f4d-6728bb63841f",
   "metadata": {},
   "outputs": [
    {
     "data": {
      "text/plain": [
       "{'company': 'hp', 'memory': 16, 'disk': 256}"
      ]
     },
     "execution_count": 55,
     "metadata": {},
     "output_type": "execute_result"
    }
   ],
   "source": [
    "laptop"
   ]
  },
  {
   "cell_type": "code",
   "execution_count": 56,
   "id": "220e1c56-f9b2-48fc-bf5b-d5298f960eda",
   "metadata": {},
   "outputs": [],
   "source": [
    "laptop.clear()"
   ]
  },
  {
   "cell_type": "code",
   "execution_count": 57,
   "id": "3a483ec3-052c-4492-86d0-c85d8fdccc22",
   "metadata": {},
   "outputs": [
    {
     "data": {
      "text/plain": [
       "{}"
      ]
     },
     "execution_count": 57,
     "metadata": {},
     "output_type": "execute_result"
    }
   ],
   "source": [
    "laptop"
   ]
  },
  {
   "cell_type": "code",
   "execution_count": null,
   "id": "2b865fed-f9cd-40ef-9d0f-cdd90be48c6d",
   "metadata": {},
   "outputs": [],
   "source": []
  }
 ],
 "metadata": {
  "kernelspec": {
   "display_name": "Python 3 (ipykernel)",
   "language": "python",
   "name": "python3"
  },
  "language_info": {
   "codemirror_mode": {
    "name": "ipython",
    "version": 3
   },
   "file_extension": ".py",
   "mimetype": "text/x-python",
   "name": "python",
   "nbconvert_exporter": "python",
   "pygments_lexer": "ipython3",
   "version": "3.12.7"
  }
 },
 "nbformat": 4,
 "nbformat_minor": 5
}
