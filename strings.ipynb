{
 "cells": [
  {
   "cell_type": "code",
   "execution_count": 1,
   "id": "2f8004d2-a1aa-4166-a95d-c772be3e5ac5",
   "metadata": {},
   "outputs": [],
   "source": [
    "# STRINGS"
   ]
  },
  {
   "cell_type": "code",
   "execution_count": 3,
   "id": "7458535d-a7a7-4ef0-8cd6-300621ecf0bc",
   "metadata": {},
   "outputs": [],
   "source": [
    "# DEFINE\n",
    "name1 = 'Shyam'\n",
    "name2 = \"Omraj\"\n",
    "name3 = '''\n",
    "Omraj\n",
    "Sharma\n",
    "'''"
   ]
  },
  {
   "cell_type": "code",
   "execution_count": 4,
   "id": "41cfec8f-16bb-4a6f-8a35-ebd0bea57ac6",
   "metadata": {},
   "outputs": [
    {
     "name": "stdout",
     "output_type": "stream",
     "text": [
      "Shyam\n",
      "Omraj\n",
      "\n",
      "Omraj\n",
      "Sharma\n",
      "\n"
     ]
    }
   ],
   "source": [
    "print(name1)\n",
    "print(name2)\n",
    "print(name3)"
   ]
  },
  {
   "cell_type": "code",
   "execution_count": 6,
   "id": "6cd1d742-4d4b-4892-aebe-af93c3ab4657",
   "metadata": {},
   "outputs": [
    {
     "name": "stdout",
     "output_type": "stream",
     "text": [
      "J\n",
      "J\n"
     ]
    }
   ],
   "source": [
    "# INDEXES - introduction\n",
    "name = \"OMRAJ\"\n",
    "print(name[4])\n",
    "print(name[-1])"
   ]
  },
  {
   "cell_type": "code",
   "execution_count": 8,
   "id": "d42e0fb1-ab41-4f33-95cb-8c94a3ace334",
   "metadata": {},
   "outputs": [
    {
     "name": "stdout",
     "output_type": "stream",
     "text": [
      "M\n"
     ]
    },
    {
     "ename": "IndexError",
     "evalue": "string index out of range",
     "output_type": "error",
     "traceback": [
      "\u001b[0;31m---------------------------------------------------------------------------\u001b[0m",
      "\u001b[0;31mIndexError\u001b[0m                                Traceback (most recent call last)",
      "Cell \u001b[0;32mIn[8], line 4\u001b[0m\n\u001b[1;32m      1\u001b[0m \u001b[38;5;66;03m# QUESTION\u001b[39;00m\n\u001b[1;32m      3\u001b[0m \u001b[38;5;28mprint\u001b[39m(name[\u001b[38;5;241m1\u001b[39m])\n\u001b[0;32m----> 4\u001b[0m \u001b[38;5;28mprint\u001b[39m(name[\u001b[38;5;241m100\u001b[39m])\n",
      "\u001b[0;31mIndexError\u001b[0m: string index out of range"
     ]
    }
   ],
   "source": [
    "# QUESTION\n",
    "\n",
    "print(name[1])\n",
    "print(name[100])"
   ]
  },
  {
   "cell_type": "code",
   "execution_count": 9,
   "id": "9625abe1-b448-45c1-8c66-c50054167088",
   "metadata": {},
   "outputs": [
    {
     "name": "stdout",
     "output_type": "stream",
     "text": [
      "LEARN\n"
     ]
    }
   ],
   "source": [
    "# SLICING - [startIdx, endIdx excluded, steps]\n",
    "name = \"LEARNBAY\"\n",
    "print(name[0:5])"
   ]
  },
  {
   "cell_type": "code",
   "execution_count": 10,
   "id": "31eae8d4-c6cf-4cd8-84aa-25f926c0d16d",
   "metadata": {},
   "outputs": [
    {
     "name": "stdout",
     "output_type": "stream",
     "text": [
      "BAY\n"
     ]
    }
   ],
   "source": [
    "print(name[5:8])"
   ]
  },
  {
   "cell_type": "code",
   "execution_count": 11,
   "id": "053ec35f-63a0-4161-b5b6-c063fbe262f2",
   "metadata": {},
   "outputs": [
    {
     "name": "stdout",
     "output_type": "stream",
     "text": [
      "ARNBAY\n"
     ]
    }
   ],
   "source": [
    "print(name[2:])"
   ]
  },
  {
   "cell_type": "code",
   "execution_count": 12,
   "id": "bbb6c163-f1e6-415c-9561-829e26d959df",
   "metadata": {},
   "outputs": [
    {
     "name": "stdout",
     "output_type": "stream",
     "text": [
      "LEARNBA\n"
     ]
    }
   ],
   "source": [
    "print(name[:7])"
   ]
  },
  {
   "cell_type": "code",
   "execution_count": 13,
   "id": "48d2249a-dcc3-4060-ae4a-5731a8272704",
   "metadata": {},
   "outputs": [
    {
     "name": "stdout",
     "output_type": "stream",
     "text": [
      "LANA\n"
     ]
    }
   ],
   "source": [
    "print(name[:7:2])"
   ]
  },
  {
   "cell_type": "code",
   "execution_count": 14,
   "id": "9c279d50-8f97-40ea-9986-9d27ec8fbcf9",
   "metadata": {},
   "outputs": [],
   "source": [
    "# COUNT\n",
    "name = \"LEARNBAY\""
   ]
  },
  {
   "cell_type": "code",
   "execution_count": 15,
   "id": "6013b160-15c2-4daa-90f7-2587e9fe5776",
   "metadata": {},
   "outputs": [
    {
     "name": "stdout",
     "output_type": "stream",
     "text": [
      "2\n"
     ]
    }
   ],
   "source": [
    "print(name.count('A'))"
   ]
  },
  {
   "cell_type": "code",
   "execution_count": 16,
   "id": "7fe35eca-7602-4822-9e86-f79c3c2d41ff",
   "metadata": {},
   "outputs": [
    {
     "name": "stdout",
     "output_type": "stream",
     "text": [
      "1\n"
     ]
    }
   ],
   "source": [
    "print(name.count('R'))"
   ]
  },
  {
   "cell_type": "code",
   "execution_count": 20,
   "id": "afbd9b7e-43ee-4a62-86d1-87c0c5758658",
   "metadata": {},
   "outputs": [
    {
     "name": "stdout",
     "output_type": "stream",
     "text": [
      "0\n"
     ]
    }
   ],
   "source": [
    "print(name.count('x'))"
   ]
  },
  {
   "cell_type": "code",
   "execution_count": 21,
   "id": "338e91d5-4e28-465f-b190-4551594e78a4",
   "metadata": {},
   "outputs": [],
   "source": [
    "# STRIP\n",
    "name = \"       LEARNBAY               \""
   ]
  },
  {
   "cell_type": "code",
   "execution_count": 22,
   "id": "6000bf1c-7597-4c6d-97ab-f8471e2a32a8",
   "metadata": {},
   "outputs": [
    {
     "name": "stdout",
     "output_type": "stream",
     "text": [
      "       LEARNBAY               \n"
     ]
    }
   ],
   "source": [
    "print(name)"
   ]
  },
  {
   "cell_type": "code",
   "execution_count": 23,
   "id": "cf1b1996-0ede-4ebc-9957-b3b339688a29",
   "metadata": {},
   "outputs": [
    {
     "data": {
      "text/plain": [
       "'       LEARNBAY               '"
      ]
     },
     "execution_count": 23,
     "metadata": {},
     "output_type": "execute_result"
    }
   ],
   "source": [
    "name"
   ]
  },
  {
   "cell_type": "code",
   "execution_count": 25,
   "id": "e5a2ec54-c5e9-4583-bf9a-82e816fb03d1",
   "metadata": {},
   "outputs": [
    {
     "data": {
      "text/plain": [
       "'LEARNBAY'"
      ]
     },
     "execution_count": 25,
     "metadata": {},
     "output_type": "execute_result"
    }
   ],
   "source": [
    "name.strip()"
   ]
  },
  {
   "cell_type": "code",
   "execution_count": 26,
   "id": "3fc6b7ce-5493-4687-846f-f14e58eb6485",
   "metadata": {},
   "outputs": [
    {
     "data": {
      "text/plain": [
       "'LEARNBAY               '"
      ]
     },
     "execution_count": 26,
     "metadata": {},
     "output_type": "execute_result"
    }
   ],
   "source": [
    "name.lstrip()"
   ]
  },
  {
   "cell_type": "code",
   "execution_count": 27,
   "id": "2802b6ee-76fd-4908-93a6-8a8ef80be112",
   "metadata": {},
   "outputs": [
    {
     "data": {
      "text/plain": [
       "'       LEARNBAY'"
      ]
     },
     "execution_count": 27,
     "metadata": {},
     "output_type": "execute_result"
    }
   ],
   "source": [
    "name.rstrip()"
   ]
  },
  {
   "cell_type": "code",
   "execution_count": 43,
   "id": "925c31eb-6344-48f2-bf74-cbc9e7d78df4",
   "metadata": {},
   "outputs": [],
   "source": [
    "name = '--------------LEARNBAY-----------'"
   ]
  },
  {
   "cell_type": "code",
   "execution_count": 44,
   "id": "43d54f49-9019-4f52-b06f-74a5747f06e7",
   "metadata": {},
   "outputs": [
    {
     "data": {
      "text/plain": [
       "'--------------LEARNBAY-----------'"
      ]
     },
     "execution_count": 44,
     "metadata": {},
     "output_type": "execute_result"
    }
   ],
   "source": [
    "name"
   ]
  },
  {
   "cell_type": "code",
   "execution_count": 46,
   "id": "d66b40cb-eb81-4671-9eb8-887e889d3c5b",
   "metadata": {},
   "outputs": [
    {
     "data": {
      "text/plain": [
       "'LEARNBAY'"
      ]
     },
     "execution_count": 46,
     "metadata": {},
     "output_type": "execute_result"
    }
   ],
   "source": [
    "name.strip('-')"
   ]
  },
  {
   "cell_type": "code",
   "execution_count": 47,
   "id": "37b4359c-62b9-4408-800b-db3e0b3094d2",
   "metadata": {},
   "outputs": [],
   "source": [
    "# INDEX\n",
    "name = 'LEARNBAY'"
   ]
  },
  {
   "cell_type": "code",
   "execution_count": 48,
   "id": "08006353-60ca-4593-b6f1-80ff3701cf07",
   "metadata": {},
   "outputs": [
    {
     "data": {
      "text/plain": [
       "2"
      ]
     },
     "execution_count": 48,
     "metadata": {},
     "output_type": "execute_result"
    }
   ],
   "source": [
    "name.index('A')"
   ]
  },
  {
   "cell_type": "code",
   "execution_count": 49,
   "id": "96ee5131-dc22-4951-aa4e-a2a0f54fbbd0",
   "metadata": {},
   "outputs": [
    {
     "ename": "ValueError",
     "evalue": "substring not found",
     "output_type": "error",
     "traceback": [
      "\u001b[0;31m---------------------------------------------------------------------------\u001b[0m",
      "\u001b[0;31mValueError\u001b[0m                                Traceback (most recent call last)",
      "Cell \u001b[0;32mIn[49], line 1\u001b[0m\n\u001b[0;32m----> 1\u001b[0m name\u001b[38;5;241m.\u001b[39mindex(\u001b[38;5;124m'\u001b[39m\u001b[38;5;124mx\u001b[39m\u001b[38;5;124m'\u001b[39m)\n",
      "\u001b[0;31mValueError\u001b[0m: substring not found"
     ]
    }
   ],
   "source": [
    "name.index('x')"
   ]
  },
  {
   "cell_type": "code",
   "execution_count": 50,
   "id": "b40f7c56-b3cf-4c01-bc48-9c1427bba587",
   "metadata": {},
   "outputs": [],
   "source": [
    "# FIND\n",
    "name = 'LEARNBAY'"
   ]
  },
  {
   "cell_type": "code",
   "execution_count": 51,
   "id": "682328ce-7337-4358-8eac-1e503d6b5097",
   "metadata": {},
   "outputs": [
    {
     "data": {
      "text/plain": [
       "2"
      ]
     },
     "execution_count": 51,
     "metadata": {},
     "output_type": "execute_result"
    }
   ],
   "source": [
    "name.find('A')"
   ]
  },
  {
   "cell_type": "code",
   "execution_count": 52,
   "id": "e25bb20c-2743-448b-833e-84c3c11c10a1",
   "metadata": {},
   "outputs": [
    {
     "data": {
      "text/plain": [
       "-1"
      ]
     },
     "execution_count": 52,
     "metadata": {},
     "output_type": "execute_result"
    }
   ],
   "source": [
    "name.find('x')"
   ]
  },
  {
   "cell_type": "code",
   "execution_count": 53,
   "id": "473e823c-672d-4e39-9fea-0c97dec51e69",
   "metadata": {},
   "outputs": [],
   "source": [
    "# STARTSWITH and ENDSWITH\n",
    "name = 'I am a student at learnbay'"
   ]
  },
  {
   "cell_type": "code",
   "execution_count": 56,
   "id": "278abf40-08cc-4fbc-a859-91266b857ef4",
   "metadata": {},
   "outputs": [
    {
     "data": {
      "text/plain": [
       "True"
      ]
     },
     "execution_count": 56,
     "metadata": {},
     "output_type": "execute_result"
    }
   ],
   "source": [
    "name.startswith('I')"
   ]
  },
  {
   "cell_type": "code",
   "execution_count": 57,
   "id": "7367bacd-336e-4b0a-ab90-827752349953",
   "metadata": {},
   "outputs": [
    {
     "data": {
      "text/plain": [
       "False"
      ]
     },
     "execution_count": 57,
     "metadata": {},
     "output_type": "execute_result"
    }
   ],
   "source": [
    "name.startswith('Hello')"
   ]
  },
  {
   "cell_type": "code",
   "execution_count": 59,
   "id": "f67bf7ca-81dd-418d-bc9f-19d4027b512d",
   "metadata": {},
   "outputs": [
    {
     "data": {
      "text/plain": [
       "True"
      ]
     },
     "execution_count": 59,
     "metadata": {},
     "output_type": "execute_result"
    }
   ],
   "source": [
    "name.endswith('learnbay')"
   ]
  },
  {
   "cell_type": "code",
   "execution_count": 60,
   "id": "b5c49d35-a7df-4919-989a-f5457baffb5d",
   "metadata": {},
   "outputs": [
    {
     "data": {
      "text/plain": [
       "False"
      ]
     },
     "execution_count": 60,
     "metadata": {},
     "output_type": "execute_result"
    }
   ],
   "source": [
    "name.endswith('world')"
   ]
  },
  {
   "cell_type": "code",
   "execution_count": 63,
   "id": "7b11c52f-dd07-4189-a6a6-1f7fd8584039",
   "metadata": {},
   "outputs": [
    {
     "name": "stdout",
     "output_type": "stream",
     "text": [
      "\n",
      "Hi Ankit,\n",
      "Welcome to our amazing platform and enjoy this day\n",
      "\n",
      "\n",
      "Hi Suresh,\n",
      "Welcome to our amazing platform and enjoy this day\n",
      "\n",
      "\n",
      "Hi Sourabh,\n",
      "Welcome to our amazing platform and enjoy this day\n",
      "\n",
      "\n",
      "Hi Harpreet,\n",
      "Welcome to our amazing platform and enjoy this day\n",
      "\n"
     ]
    }
   ],
   "source": [
    "# FORMAT\n",
    "names = ['Ankit', 'Suresh', 'Sourabh', 'Harpreet']\n",
    "\n",
    "template = '''\n",
    "Hi {},\n",
    "Welcome to our amazing platform and enjoy this day\n",
    "'''\n",
    "\n",
    "for name in names:\n",
    "    print(template.format(name))"
   ]
  },
  {
   "cell_type": "code",
   "execution_count": 71,
   "id": "8faf7290-749d-4360-a55c-0a286cb444e4",
   "metadata": {},
   "outputs": [],
   "source": [
    "name = \"Omraj Sharma\"\n",
    "phone = 123456\n",
    "emailBody = '''\n",
    "Hi {}\n",
    "We're love to welcome you on our place. Please confirm your phone number {}.\n",
    "'''"
   ]
  },
  {
   "cell_type": "code",
   "execution_count": 72,
   "id": "f080aff3-f591-4b5c-b5a3-8fc988f8e649",
   "metadata": {},
   "outputs": [],
   "source": [
    "finalbody = emailBody.format(name, phone)"
   ]
  },
  {
   "cell_type": "code",
   "execution_count": 73,
   "id": "c46fc32c-bf12-4703-8c70-ff61b5347720",
   "metadata": {},
   "outputs": [
    {
     "data": {
      "text/plain": [
       "\"\\nHi Omraj Sharma\\nWe're love to welcome you on our place. Please confirm your phone number 123456.\\n\""
      ]
     },
     "execution_count": 73,
     "metadata": {},
     "output_type": "execute_result"
    }
   ],
   "source": [
    "finalbody"
   ]
  },
  {
   "cell_type": "code",
   "execution_count": 76,
   "id": "fc37c423-bf47-465a-b3d5-11944c5456d5",
   "metadata": {},
   "outputs": [],
   "source": [
    "name = \"Omraj Sharma\""
   ]
  },
  {
   "cell_type": "code",
   "execution_count": 77,
   "id": "4ecbe5f5-308b-48b0-8d41-1620ca8504d0",
   "metadata": {},
   "outputs": [
    {
     "data": {
      "text/plain": [
       "'OMRAJ SHARMA'"
      ]
     },
     "execution_count": 77,
     "metadata": {},
     "output_type": "execute_result"
    }
   ],
   "source": [
    "# UPPER\n",
    "name.upper()"
   ]
  },
  {
   "cell_type": "code",
   "execution_count": 79,
   "id": "802ff571-7ede-414f-b934-345067188840",
   "metadata": {},
   "outputs": [
    {
     "data": {
      "text/plain": [
       "'omraj sharma'"
      ]
     },
     "execution_count": 79,
     "metadata": {},
     "output_type": "execute_result"
    }
   ],
   "source": [
    "# LOWER\n",
    "name.lower()"
   ]
  },
  {
   "cell_type": "code",
   "execution_count": 81,
   "id": "018d015b-31da-45ac-ac72-e98071720ded",
   "metadata": {},
   "outputs": [
    {
     "data": {
      "text/plain": [
       "'oMRAJ sHARMA'"
      ]
     },
     "execution_count": 81,
     "metadata": {},
     "output_type": "execute_result"
    }
   ],
   "source": [
    "# SWAP\n",
    "name.swapcase()"
   ]
  },
  {
   "cell_type": "code",
   "execution_count": 82,
   "id": "f1273efc-878a-4c36-8e9b-2f7f970105ae",
   "metadata": {},
   "outputs": [
    {
     "data": {
      "text/plain": [
       "'Shyamraj Sharma'"
      ]
     },
     "execution_count": 82,
     "metadata": {},
     "output_type": "execute_result"
    }
   ],
   "source": [
    "# REPLACE\n",
    "name.replace(\"Omraj\", \"Shyamraj\")"
   ]
  },
  {
   "cell_type": "code",
   "execution_count": 83,
   "id": "f58a7193-6e0d-495d-8f87-f66c73765315",
   "metadata": {},
   "outputs": [
    {
     "data": {
      "text/plain": [
       "'oranges are sweet'"
      ]
     },
     "execution_count": 83,
     "metadata": {},
     "output_type": "execute_result"
    }
   ],
   "source": [
    "favFruit = \"apples are sweet\"\n",
    "favFruit.replace(\"apple\", \"orange\")"
   ]
  },
  {
   "cell_type": "code",
   "execution_count": 84,
   "id": "4cbc2d9b-9ef1-477b-a7ad-0709600c2d0f",
   "metadata": {},
   "outputs": [],
   "source": [
    "name = 'LEARNBAY'"
   ]
  },
  {
   "cell_type": "code",
   "execution_count": 88,
   "id": "374de0a7-d989-40cb-95b8-5d81bc6f2d0c",
   "metadata": {},
   "outputs": [
    {
     "data": {
      "text/plain": [
       "2"
      ]
     },
     "execution_count": 88,
     "metadata": {},
     "output_type": "execute_result"
    }
   ],
   "source": [
    "# RINDEX\n",
    "name.index('A')"
   ]
  },
  {
   "cell_type": "code",
   "execution_count": 89,
   "id": "18b48b5a-3b3b-4b29-ae66-590c03e22ee9",
   "metadata": {},
   "outputs": [
    {
     "data": {
      "text/plain": [
       "6"
      ]
     },
     "execution_count": 89,
     "metadata": {},
     "output_type": "execute_result"
    }
   ],
   "source": [
    "name.rindex('A')"
   ]
  },
  {
   "cell_type": "code",
   "execution_count": 90,
   "id": "5ef9b54e-390a-4e2d-93bf-e2644c28eb7e",
   "metadata": {},
   "outputs": [
    {
     "ename": "ValueError",
     "evalue": "substring not found",
     "output_type": "error",
     "traceback": [
      "\u001b[0;31m---------------------------------------------------------------------------\u001b[0m",
      "\u001b[0;31mValueError\u001b[0m                                Traceback (most recent call last)",
      "Cell \u001b[0;32mIn[90], line 1\u001b[0m\n\u001b[0;32m----> 1\u001b[0m name\u001b[38;5;241m.\u001b[39mrindex(\u001b[38;5;124m'\u001b[39m\u001b[38;5;124mX\u001b[39m\u001b[38;5;124m'\u001b[39m)\n",
      "\u001b[0;31mValueError\u001b[0m: substring not found"
     ]
    }
   ],
   "source": [
    "name.rindex('X')"
   ]
  },
  {
   "cell_type": "code",
   "execution_count": 91,
   "id": "74347851-036b-4d90-af5f-37ed348947ed",
   "metadata": {},
   "outputs": [
    {
     "data": {
      "text/plain": [
       "6"
      ]
     },
     "execution_count": 91,
     "metadata": {},
     "output_type": "execute_result"
    }
   ],
   "source": [
    "# RFIND\n",
    "name.rfind('A')"
   ]
  },
  {
   "cell_type": "code",
   "execution_count": 92,
   "id": "c77877ce-41ab-42b1-84d9-b66ab77f2471",
   "metadata": {},
   "outputs": [
    {
     "data": {
      "text/plain": [
       "-1"
      ]
     },
     "execution_count": 92,
     "metadata": {},
     "output_type": "execute_result"
    }
   ],
   "source": [
    "name.rfind('X')"
   ]
  },
  {
   "cell_type": "code",
   "execution_count": 99,
   "id": "8a32a2cc-a221-4344-8e08-635b4ba3784a",
   "metadata": {},
   "outputs": [],
   "source": [
    "name = 'welcome to Learnbay'"
   ]
  },
  {
   "cell_type": "code",
   "execution_count": 100,
   "id": "a4355c5e-878d-4245-b9d4-7d67dadd7d4d",
   "metadata": {},
   "outputs": [
    {
     "data": {
      "text/plain": [
       "'Welcome To Learnbay'"
      ]
     },
     "execution_count": 100,
     "metadata": {},
     "output_type": "execute_result"
    }
   ],
   "source": [
    "# TITLE - capitalising first character\n",
    "name.title()"
   ]
  },
  {
   "cell_type": "code",
   "execution_count": 102,
   "id": "da0a652e-5d16-4da4-96a2-b7ac0d271471",
   "metadata": {},
   "outputs": [],
   "source": [
    "name = \"LEARNBAY\""
   ]
  },
  {
   "cell_type": "code",
   "execution_count": 103,
   "id": "8946edf7-dd13-43ac-8b90-82c83f76672c",
   "metadata": {},
   "outputs": [
    {
     "data": {
      "text/plain": [
       "True"
      ]
     },
     "execution_count": 103,
     "metadata": {},
     "output_type": "execute_result"
    }
   ],
   "source": [
    "name.isupper()"
   ]
  },
  {
   "cell_type": "code",
   "execution_count": 104,
   "id": "fad4db6f-5d34-4c9a-96c9-d5870972ae6e",
   "metadata": {},
   "outputs": [
    {
     "data": {
      "text/plain": [
       "False"
      ]
     },
     "execution_count": 104,
     "metadata": {},
     "output_type": "execute_result"
    }
   ],
   "source": [
    "name.islower()"
   ]
  },
  {
   "cell_type": "code",
   "execution_count": null,
   "id": "4642f0fa-fb0d-488e-9e1e-e9dd2e711f22",
   "metadata": {},
   "outputs": [],
   "source": []
  }
 ],
 "metadata": {
  "kernelspec": {
   "display_name": "Python 3 (ipykernel)",
   "language": "python",
   "name": "python3"
  },
  "language_info": {
   "codemirror_mode": {
    "name": "ipython",
    "version": 3
   },
   "file_extension": ".py",
   "mimetype": "text/x-python",
   "name": "python",
   "nbconvert_exporter": "python",
   "pygments_lexer": "ipython3",
   "version": "3.12.7"
  }
 },
 "nbformat": 4,
 "nbformat_minor": 5
}
