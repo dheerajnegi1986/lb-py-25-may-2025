{
 "cells": [
  {
   "cell_type": "code",
   "execution_count": 1,
   "id": "0a2e1df1-b00c-43bc-9278-4cdc6d11ec1c",
   "metadata": {},
   "outputs": [],
   "source": [
    "# CONDITIONALS"
   ]
  },
  {
   "cell_type": "code",
   "execution_count": 25,
   "id": "e50333a2-f1f9-4753-9bd1-95245a95e239",
   "metadata": {},
   "outputs": [
    {
     "name": "stdin",
     "output_type": "stream",
     "text": [
      "Enter a grade:  2\n"
     ]
    },
    {
     "name": "stdout",
     "output_type": "stream",
     "text": [
      "GRADE: F\n"
     ]
    }
   ],
   "source": [
    "# GRADING SYSTEM\n",
    "# marks 1-100\n",
    "# IDENTATION\n",
    "\n",
    "marks = int(input(\"Enter a grade: \"))\n",
    "\n",
    "if marks > 100 or marks < 0:\n",
    "    print(\"WARN: Marks can't be greater than 100 or less than 0\")\n",
    "elif marks > 90:\n",
    "    print(\"GRADE: A+\")\n",
    "elif marks > 80:\n",
    "    print(\"GRADE: A\")\n",
    "elif marks > 70:\n",
    "    print(\"GRADE: B+\")\n",
    "elif marks > 60:\n",
    "    print(\"GRADE: B\")\n",
    "elif marks > 50:\n",
    "    print(\"GRADE: C+\")\n",
    "elif marks > 40:\n",
    "    print(\"GRADE: C\")\n",
    "else:\n",
    "    print(\"GRADE: F\")"
   ]
  },
  {
   "cell_type": "code",
   "execution_count": 16,
   "id": "3962f04c-7aaf-4715-adb4-3bfce0a5dd39",
   "metadata": {},
   "outputs": [
    {
     "name": "stdin",
     "output_type": "stream",
     "text": [
      "Enter traffice light color (red/yellow/green):  blue\n"
     ]
    },
    {
     "name": "stdout",
     "output_type": "stream",
     "text": [
      "ERROR: INVALID INPUT\n"
     ]
    }
   ],
   "source": [
    "# TRAFFIC LIGHT\n",
    "\n",
    "light = input(\"Enter traffice light color (red/yellow/green): \")\n",
    "\n",
    "if light == 'red':\n",
    "    print(\"STOP 🛑\")\n",
    "elif light == 'yellow':\n",
    "    print(\"GET READY ⚠️\")\n",
    "elif light == 'green':\n",
    "    print(\"GO 🟢\")\n",
    "else:\n",
    "    print(\"ERROR: INVALID INPUT\")"
   ]
  },
  {
   "cell_type": "code",
   "execution_count": 19,
   "id": "6068bd8e-df15-4f5e-b5ff-07c406aad566",
   "metadata": {},
   "outputs": [],
   "source": [
    "# LOOPS - REPEATING, ITERATIVE"
   ]
  },
  {
   "cell_type": "code",
   "execution_count": 21,
   "id": "48c7c4c0-440a-49fc-afb7-08337534a79d",
   "metadata": {},
   "outputs": [
    {
     "name": "stdout",
     "output_type": "stream",
     "text": [
      "45\n",
      "10\n",
      "36\n",
      "50\n",
      "77\n",
      "2\n",
      "6\n",
      "8\n",
      "49\n",
      "31\n",
      "18\n",
      "0\n",
      "50\n",
      "5\n",
      "10\n"
     ]
    }
   ],
   "source": [
    "# FOR LOOPS\n",
    "# ITERATE OVER A LIST\n",
    "nums = [45, 10, 36, 50, 77, 2, 6, 8, 49, 31, 18, 00, 50, 5, 10]\n",
    "\n",
    "for num in nums:\n",
    "    print(num)"
   ]
  },
  {
   "cell_type": "code",
   "execution_count": 35,
   "id": "8fd0dd96-5a53-4ded-9a7b-d8f9be65790a",
   "metadata": {},
   "outputs": [
    {
     "name": "stdout",
     "output_type": "stream",
     "text": [
      "397\n"
     ]
    }
   ],
   "source": [
    "# SUM OF ALL ELEMENTS in nums\n",
    "totalSum = 0\n",
    "for num in nums:\n",
    "    totalSum += num\n",
    "\n",
    "print(totalSum)"
   ]
  },
  {
   "cell_type": "code",
   "execution_count": 36,
   "id": "935b52c9-3d8c-4f29-90dd-a6e3b929950c",
   "metadata": {},
   "outputs": [
    {
     "name": "stdout",
     "output_type": "stream",
     "text": [
      "range(1, 10)\n"
     ]
    }
   ],
   "source": [
    "# RANGE FUNCTION\n",
    "# last value is excluded\n",
    "print(range(1,10))  # range(1,10) - [1,2,3,4,5,6,7,8,9]"
   ]
  },
  {
   "cell_type": "code",
   "execution_count": 43,
   "id": "314aca35-8578-4724-ad71-f480355ff5c6",
   "metadata": {},
   "outputs": [
    {
     "name": "stdout",
     "output_type": "stream",
     "text": [
      "1\n",
      "3\n",
      "5\n",
      "7\n",
      "9\n"
     ]
    }
   ],
   "source": [
    "# ITERATE OVER A RANGE\n",
    "# range(START_VALUE, END_VALUE excluded, STEPS)\n",
    "for i in range(1,10,2):\n",
    "    print(i)"
   ]
  },
  {
   "cell_type": "code",
   "execution_count": 46,
   "id": "60e9738e-4f1f-453c-abbd-3f77c55338b9",
   "metadata": {},
   "outputs": [
    {
     "name": "stdout",
     "output_type": "stream",
     "text": [
      "1\n",
      "2\n",
      "3\n",
      "4\n",
      "5\n",
      "6\n",
      "7\n",
      "8\n",
      "9\n",
      "10\n",
      "11\n",
      "12\n",
      "13\n",
      "14\n",
      "15\n",
      "16\n",
      "17\n",
      "18\n",
      "19\n",
      "20\n"
     ]
    }
   ],
   "source": [
    "# ASSIGNMEN 1 - print 1-20\n",
    "for i in range(1,21):\n",
    "    print(i)"
   ]
  },
  {
   "cell_type": "code",
   "execution_count": 50,
   "id": "644ed1c1-a1d7-4365-824b-bd3e7263ab89",
   "metadata": {},
   "outputs": [
    {
     "name": "stdout",
     "output_type": "stream",
     "text": [
      "0\n",
      "2\n",
      "4\n",
      "6\n",
      "8\n",
      "10\n",
      "12\n",
      "14\n",
      "16\n",
      "18\n",
      "20\n"
     ]
    }
   ],
   "source": [
    "# ASSIGNMEN 2 - print all even numbers from 0-20\n",
    "for i in range(0,21, 2):\n",
    "    # running 10 times\n",
    "    print(i)\n",
    "\n",
    "# NOTE: NOT OPTIMISED\n",
    "# for i in range(0,21):\n",
    "#     # running 20 times\n",
    "#     if i % 2 == 0:\n",
    "#         print(i)"
   ]
  },
  {
   "cell_type": "code",
   "execution_count": 52,
   "id": "22647b6c-9a6a-4b00-aa51-10db10fcd731",
   "metadata": {},
   "outputs": [
    {
     "name": "stdout",
     "output_type": "stream",
     "text": [
      "1\n",
      "2\n",
      "3\n",
      "4\n",
      "5\n",
      "6\n",
      "7\n",
      "8\n",
      "9\n",
      "10\n"
     ]
    }
   ],
   "source": [
    "# WHILE LOOP\n",
    "# incrementer, condition, increment\n",
    "\n",
    "i = 1\n",
    "while i <= 10: \n",
    "    print(i)\n",
    "    i += 1"
   ]
  },
  {
   "cell_type": "code",
   "execution_count": 54,
   "id": "87bba2e7-5947-41ae-b849-dfa5cd19c595",
   "metadata": {},
   "outputs": [
    {
     "name": "stdout",
     "output_type": "stream",
     "text": [
      "1\n",
      "2\n",
      "3\n",
      "4\n",
      "5\n",
      "6\n"
     ]
    }
   ],
   "source": [
    "# BREAK - break the loop\n",
    "for i in range(1,11):\n",
    "    if i == 7:\n",
    "        break\n",
    "    print(i)"
   ]
  },
  {
   "cell_type": "code",
   "execution_count": 57,
   "id": "b05eb2de-98b9-417d-b9b2-0c3b38827243",
   "metadata": {},
   "outputs": [
    {
     "name": "stdout",
     "output_type": "stream",
     "text": [
      "34\n",
      "21\n",
      "36\n"
     ]
    }
   ],
   "source": [
    "# break example\n",
    "\n",
    "itemsCost = [34,21,36,32,76,22,12,56,86]\n",
    "budget = 100\n",
    "\n",
    "billAmount = 0\n",
    "\n",
    "for i in itemsCost:\n",
    "    billAmount += i\n",
    "    if billAmount > budget:\n",
    "        break\n",
    "    print(i)"
   ]
  },
  {
   "cell_type": "code",
   "execution_count": 59,
   "id": "eed9c65c-0b8c-4ab3-b44c-2fa7e195a80b",
   "metadata": {},
   "outputs": [
    {
     "name": "stdout",
     "output_type": "stream",
     "text": [
      "1\n",
      "2\n",
      "4\n",
      "5\n"
     ]
    }
   ],
   "source": [
    "# CONTINUE - skip something in loop\n",
    "\n",
    "for i in range(1,6):\n",
    "    if i == 3:\n",
    "        continue\n",
    "    print(i)"
   ]
  },
  {
   "cell_type": "code",
   "execution_count": 66,
   "id": "c1fa3eca-d1a0-4f43-9971-9982b691456d",
   "metadata": {},
   "outputs": [
    {
     "name": "stdout",
     "output_type": "stream",
     "text": [
      "24\n"
     ]
    }
   ],
   "source": [
    "# ASSIGNMENT 3 - FACTORIAL OF A NUMBER - (try with for and while both)\n",
    "# 5! = 5 * 4 * 3 * 2 * 1\n",
    "\n",
    "num = 4\n",
    "factorial = 1\n",
    "\n",
    "# for loop\n",
    "# for i in range (2, 6):\n",
    "#     factorial *= i\n",
    "\n",
    "# while loop\n",
    "# i = 2\n",
    "# while i <= num:\n",
    "#     factorial *= i\n",
    "#     i+=1\n",
    "\n",
    "print(factorial)"
   ]
  },
  {
   "cell_type": "code",
   "execution_count": null,
   "id": "cde9d6db-dfd2-4aaf-9ff0-fddea842a641",
   "metadata": {},
   "outputs": [],
   "source": []
  }
 ],
 "metadata": {
  "kernelspec": {
   "display_name": "Python 3 (ipykernel)",
   "language": "python",
   "name": "python3"
  },
  "language_info": {
   "codemirror_mode": {
    "name": "ipython",
    "version": 3
   },
   "file_extension": ".py",
   "mimetype": "text/x-python",
   "name": "python",
   "nbconvert_exporter": "python",
   "pygments_lexer": "ipython3",
   "version": "3.12.7"
  }
 },
 "nbformat": 4,
 "nbformat_minor": 5
}
