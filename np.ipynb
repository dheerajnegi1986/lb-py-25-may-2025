{
 "cells": [
  {
   "cell_type": "markdown",
   "id": "79f4320a-0af3-48d1-bcaf-871f5eb2b733",
   "metadata": {},
   "source": [
    "# NUMPY"
   ]
  },
  {
   "cell_type": "raw",
   "id": "30733d80-39c7-493e-a27a-d6234c063f0b",
   "metadata": {},
   "source": [
    "list -> more space, numpy - less space -> master\n",
    "list - data can be anywhere\n",
    "numpy - contigeous memory\n",
    "effectice cache utilisation\n",
    "provides lot's of function/methods to operate on array\n",
    "applicaiton - matlab replacement, plotting, backend, machine learning\n",
    "\n",
    "list ~ array"
   ]
  },
  {
   "cell_type": "code",
   "execution_count": null,
   "id": "55927c50-3ae6-450d-a3c2-643c7903bff1",
   "metadata": {},
   "outputs": [],
   "source": [
    "PYTHON LIST V/S NUMPY ARRAY\n",
    "- can hold elements of different datatypes - must be of same type\n",
    "- slower for numerical operations - much faster due to optimised c backend\n",
    "- Consumes more memory - Uses less memory and is more efficient\n",
    "- Limited build in operations - Have more operations to work on\n",
    "- Limited support in scientific libraries - Wide support for scientific, visualisation, ML libraries"
   ]
  },
  {
   "cell_type": "code",
   "execution_count": 1,
   "id": "934e79ca-5da7-4095-a867-dba9b7808d81",
   "metadata": {},
   "outputs": [],
   "source": [
    "import numpy as np"
   ]
  },
  {
   "cell_type": "code",
   "execution_count": 2,
   "id": "1a117159-f679-4349-a5d5-af309cef0715",
   "metadata": {},
   "outputs": [],
   "source": [
    "a = np.array([1,2,3])"
   ]
  },
  {
   "cell_type": "code",
   "execution_count": 3,
   "id": "d268527c-db84-4485-9c8b-77d7482eed52",
   "metadata": {},
   "outputs": [
    {
     "data": {
      "text/plain": [
       "array([1, 2, 3])"
      ]
     },
     "execution_count": 3,
     "metadata": {},
     "output_type": "execute_result"
    }
   ],
   "source": [
    "a"
   ]
  },
  {
   "cell_type": "code",
   "execution_count": 4,
   "id": "2d134940-8446-4cd8-a57f-f29cd334eb35",
   "metadata": {},
   "outputs": [
    {
     "data": {
      "text/plain": [
       "3"
      ]
     },
     "execution_count": 4,
     "metadata": {},
     "output_type": "execute_result"
    }
   ],
   "source": [
    "# number of elements\n",
    "a.size"
   ]
  },
  {
   "cell_type": "code",
   "execution_count": 6,
   "id": "94084cf6-05a7-49bf-aaa7-97c356e6043d",
   "metadata": {},
   "outputs": [
    {
     "data": {
      "text/plain": [
       "8"
      ]
     },
     "execution_count": 6,
     "metadata": {},
     "output_type": "execute_result"
    }
   ],
   "source": [
    "# size of each element - byte 8 - bits 64\n",
    "a.itemsize"
   ]
  },
  {
   "cell_type": "raw",
   "id": "9a506944-a5b1-4c0d-9b95-dcbea70f260c",
   "metadata": {},
   "source": [
    "4,8 \n",
    "- default size of numpy\n",
    "- arch 64, 32\n",
    "\n",
    "What is a bit ?\n",
    "- smallest unit of memory\n",
    "- 0,1\n",
    "\n",
    "1 byte - 8 bits\n",
    "2 byte - 16 bits\n",
    "4 byte - 32 bits\n",
    "8 byte - 64 bits"
   ]
  },
  {
   "cell_type": "code",
   "execution_count": 9,
   "id": "45163b14-d688-4ee4-835e-a12ff4584951",
   "metadata": {},
   "outputs": [],
   "source": [
    "a = np.array([1,2,3], dtype='int32') # 32 bit"
   ]
  },
  {
   "cell_type": "code",
   "execution_count": 10,
   "id": "16dd2524-68ac-4ca2-bd3b-ac1bbaa2be45",
   "metadata": {},
   "outputs": [
    {
     "data": {
      "text/plain": [
       "4"
      ]
     },
     "execution_count": 10,
     "metadata": {},
     "output_type": "execute_result"
    }
   ],
   "source": [
    "a.itemsize # byte"
   ]
  },
  {
   "cell_type": "code",
   "execution_count": 11,
   "id": "8fcf7541-3f50-4f93-a064-1eebc8db7cd6",
   "metadata": {},
   "outputs": [],
   "source": [
    "a = np.array([1,2,3], dtype='int16') # 16 bit"
   ]
  },
  {
   "cell_type": "code",
   "execution_count": 12,
   "id": "3d6d2771-07aa-46db-8ee0-793f39790c68",
   "metadata": {},
   "outputs": [
    {
     "data": {
      "text/plain": [
       "2"
      ]
     },
     "execution_count": 12,
     "metadata": {},
     "output_type": "execute_result"
    }
   ],
   "source": [
    "a.itemsize # byte"
   ]
  },
  {
   "cell_type": "code",
   "execution_count": 13,
   "id": "b963461b-6425-449b-92a5-488b2477bae6",
   "metadata": {},
   "outputs": [],
   "source": [
    "a = np.array([1,2,3], dtype='int8') # 8 bit"
   ]
  },
  {
   "cell_type": "code",
   "execution_count": 14,
   "id": "1f5daef5-183e-45a7-856c-8ad8f3c441ae",
   "metadata": {},
   "outputs": [
    {
     "data": {
      "text/plain": [
       "1"
      ]
     },
     "execution_count": 14,
     "metadata": {},
     "output_type": "execute_result"
    }
   ],
   "source": [
    "a.itemsize # byte"
   ]
  },
  {
   "cell_type": "code",
   "execution_count": 15,
   "id": "f607e216-34e1-4f23-b229-b7f6a8a02841",
   "metadata": {},
   "outputs": [
    {
     "name": "stderr",
     "output_type": "stream",
     "text": [
      "/var/folders/yv/_ddlvjkn6k11_jp7sl8jcy500000gn/T/ipykernel_47052/312744479.py:1: DeprecationWarning: NumPy will stop allowing conversion of out-of-bound Python integers to integer arrays.  The conversion of 1000 to int8 will fail in the future.\n",
      "For the old behavior, usually:\n",
      "    np.array(value).astype(dtype)\n",
      "will give the desired result (the cast overflows).\n",
      "  a = np.array([1,2,3, 1000], dtype='int8') # 8 bit\n"
     ]
    }
   ],
   "source": [
    "a = np.array([1,2,3, 1000], dtype='int8') # 8 bit"
   ]
  },
  {
   "cell_type": "code",
   "execution_count": 16,
   "id": "d2ef4237-e345-4398-bd65-d994e9c1e3cb",
   "metadata": {},
   "outputs": [
    {
     "name": "stderr",
     "output_type": "stream",
     "text": [
      "/var/folders/yv/_ddlvjkn6k11_jp7sl8jcy500000gn/T/ipykernel_47052/3984844114.py:1: DeprecationWarning: NumPy will stop allowing conversion of out-of-bound Python integers to integer arrays.  The conversion of 200 to int8 will fail in the future.\n",
      "For the old behavior, usually:\n",
      "    np.array(value).astype(dtype)\n",
      "will give the desired result (the cast overflows).\n",
      "  a = np.array([1,2,3,200], dtype='int8') # 8 bit\n"
     ]
    }
   ],
   "source": [
    "a = np.array([1,2,3,200], dtype='int8') # 8 bit"
   ]
  },
  {
   "cell_type": "code",
   "execution_count": 17,
   "id": "947267ce-a5b3-4a73-8b6b-7fb3c8a95fca",
   "metadata": {},
   "outputs": [],
   "source": [
    "a = np.array([1,2,3,120], dtype='int8') # 8 bit"
   ]
  },
  {
   "cell_type": "code",
   "execution_count": 19,
   "id": "5b77e4f4-717a-4f48-9801-146e09f6f165",
   "metadata": {},
   "outputs": [
    {
     "data": {
      "text/plain": [
       "dtype('int8')"
      ]
     },
     "execution_count": 19,
     "metadata": {},
     "output_type": "execute_result"
    }
   ],
   "source": [
    "# get datatype\n",
    "a.dtype"
   ]
  },
  {
   "cell_type": "code",
   "execution_count": 21,
   "id": "5e638246-4814-4532-a455-c28510320606",
   "metadata": {},
   "outputs": [
    {
     "data": {
      "text/plain": [
       "4"
      ]
     },
     "execution_count": 21,
     "metadata": {},
     "output_type": "execute_result"
    }
   ],
   "source": [
    "# total size of array\n",
    "a.nbytes"
   ]
  },
  {
   "cell_type": "code",
   "execution_count": 22,
   "id": "1390098f-b811-468a-8826-31c94888c947",
   "metadata": {},
   "outputs": [
    {
     "data": {
      "text/plain": [
       "1"
      ]
     },
     "execution_count": 22,
     "metadata": {},
     "output_type": "execute_result"
    }
   ],
   "source": [
    "a.itemsize"
   ]
  },
  {
   "cell_type": "code",
   "execution_count": 26,
   "id": "4b938fa7-4466-49d7-9fb9-b8f8181c3eb8",
   "metadata": {},
   "outputs": [],
   "source": [
    "# 2D arrays\n",
    "b = np.array(\n",
    "    [\n",
    "        [1,2,3,4,5,6,7,8,9,10],\n",
    "        [11,12,13,14,15,16,17,18,19,20],\n",
    "    ]\n",
    ")"
   ]
  },
  {
   "cell_type": "code",
   "execution_count": 27,
   "id": "b0943eb8-7e88-4761-9684-17a4eccb4039",
   "metadata": {},
   "outputs": [
    {
     "data": {
      "text/plain": [
       "dtype('int64')"
      ]
     },
     "execution_count": 27,
     "metadata": {},
     "output_type": "execute_result"
    }
   ],
   "source": [
    "b.dtype"
   ]
  },
  {
   "cell_type": "code",
   "execution_count": 28,
   "id": "60f1e02a-bb2d-4974-a747-c7350af03052",
   "metadata": {},
   "outputs": [
    {
     "data": {
      "text/plain": [
       "8"
      ]
     },
     "execution_count": 28,
     "metadata": {},
     "output_type": "execute_result"
    }
   ],
   "source": [
    "b.itemsize"
   ]
  },
  {
   "cell_type": "code",
   "execution_count": 29,
   "id": "b04b149b-af6b-40b5-8417-d6d91a6abc93",
   "metadata": {},
   "outputs": [
    {
     "data": {
      "text/plain": [
       "160"
      ]
     },
     "execution_count": 29,
     "metadata": {},
     "output_type": "execute_result"
    }
   ],
   "source": [
    "b.nbytes"
   ]
  },
  {
   "cell_type": "code",
   "execution_count": 30,
   "id": "29a6abdc-c265-425d-8e40-28518eeaa1b8",
   "metadata": {},
   "outputs": [
    {
     "data": {
      "text/plain": [
       "2"
      ]
     },
     "execution_count": 30,
     "metadata": {},
     "output_type": "execute_result"
    }
   ],
   "source": [
    "# dimension\n",
    "b.ndim"
   ]
  },
  {
   "cell_type": "code",
   "execution_count": 31,
   "id": "3790a084-c928-48a3-a7b1-95eabd269c7c",
   "metadata": {},
   "outputs": [
    {
     "data": {
      "text/plain": [
       "1"
      ]
     },
     "execution_count": 31,
     "metadata": {},
     "output_type": "execute_result"
    }
   ],
   "source": [
    "a.ndim"
   ]
  },
  {
   "cell_type": "code",
   "execution_count": 32,
   "id": "1a821606-9268-4b90-b67e-fa00fce402e1",
   "metadata": {},
   "outputs": [
    {
     "data": {
      "text/plain": [
       "(2, 10)"
      ]
     },
     "execution_count": 32,
     "metadata": {},
     "output_type": "execute_result"
    }
   ],
   "source": [
    "# shape\n",
    "b.shape"
   ]
  },
  {
   "cell_type": "code",
   "execution_count": 33,
   "id": "718bb8f2-e8b6-44b2-bc06-595fc17943ec",
   "metadata": {},
   "outputs": [
    {
     "data": {
      "text/plain": [
       "(4,)"
      ]
     },
     "execution_count": 33,
     "metadata": {},
     "output_type": "execute_result"
    }
   ],
   "source": [
    "a.shape"
   ]
  },
  {
   "cell_type": "code",
   "execution_count": 35,
   "id": "dae78101-eaad-4990-859f-b1712fab1983",
   "metadata": {},
   "outputs": [
    {
     "data": {
      "text/plain": [
       "array([[ 1,  2,  3,  4,  5,  6,  7,  8,  9, 10],\n",
       "       [11, 12, 13, 14, 15, 16, 17, 18, 19, 20]])"
      ]
     },
     "execution_count": 35,
     "metadata": {},
     "output_type": "execute_result"
    }
   ],
   "source": [
    "b"
   ]
  },
  {
   "cell_type": "code",
   "execution_count": 38,
   "id": "2fa4ec08-825f-4ee0-bd57-15775e0ab786",
   "metadata": {},
   "outputs": [
    {
     "data": {
      "text/plain": [
       "array([11, 12, 13, 14, 15, 16, 17, 18, 19, 20])"
      ]
     },
     "execution_count": 38,
     "metadata": {},
     "output_type": "execute_result"
    }
   ],
   "source": [
    "# get specific row\n",
    "b[1]"
   ]
  },
  {
   "cell_type": "code",
   "execution_count": 39,
   "id": "7a365af2-27c3-48b6-b62a-47d0a47881df",
   "metadata": {},
   "outputs": [
    {
     "data": {
      "text/plain": [
       "16"
      ]
     },
     "execution_count": 39,
     "metadata": {},
     "output_type": "execute_result"
    }
   ],
   "source": [
    "# get specific element\n",
    "b[1][5]"
   ]
  },
  {
   "cell_type": "code",
   "execution_count": 41,
   "id": "2f93b9a4-69bb-41ef-91aa-2c97c7d02c6d",
   "metadata": {},
   "outputs": [
    {
     "data": {
      "text/plain": [
       "array([ 5, 15])"
      ]
     },
     "execution_count": 41,
     "metadata": {},
     "output_type": "execute_result"
    }
   ],
   "source": [
    "# get specific column - startingIdx, lastInx (excluded), steps\n",
    "b[ : , 4]"
   ]
  },
  {
   "cell_type": "code",
   "execution_count": 42,
   "id": "42f01891-cf44-47a9-b3ba-8e4a84d5ce40",
   "metadata": {},
   "outputs": [
    {
     "data": {
      "text/plain": [
       "array([11, 12, 13, 14, 15, 16, 17, 18, 19, 20])"
      ]
     },
     "execution_count": 42,
     "metadata": {},
     "output_type": "execute_result"
    }
   ],
   "source": [
    "# get specific row\n",
    "b[1, : ]"
   ]
  },
  {
   "cell_type": "code",
   "execution_count": 43,
   "id": "963f7c17-442b-4670-b65a-061279ddf43d",
   "metadata": {},
   "outputs": [
    {
     "data": {
      "text/plain": [
       "array([11, 12, 13, 14, 15])"
      ]
     },
     "execution_count": 43,
     "metadata": {},
     "output_type": "execute_result"
    }
   ],
   "source": [
    "b[1, 0:5 ]"
   ]
  },
  {
   "cell_type": "code",
   "execution_count": 44,
   "id": "275edfe7-c118-4e1d-98aa-c912c550c81d",
   "metadata": {},
   "outputs": [
    {
     "data": {
      "text/plain": [
       "array([11, 13, 15])"
      ]
     },
     "execution_count": 44,
     "metadata": {},
     "output_type": "execute_result"
    }
   ],
   "source": [
    "b[1, 0:5:2 ]"
   ]
  },
  {
   "cell_type": "code",
   "execution_count": 45,
   "id": "39ff8a75-cb24-4c0b-94f1-21bb77e9aa2c",
   "metadata": {},
   "outputs": [
    {
     "data": {
      "text/plain": [
       "20"
      ]
     },
     "execution_count": 45,
     "metadata": {},
     "output_type": "execute_result"
    }
   ],
   "source": [
    "b[1, 9]"
   ]
  },
  {
   "cell_type": "code",
   "execution_count": 46,
   "id": "c158d824-f9e8-4807-8227-e0efbe63b627",
   "metadata": {},
   "outputs": [],
   "source": [
    "# UPDATE AN ELEMENT\n",
    "b[1, 9] = 200"
   ]
  },
  {
   "cell_type": "code",
   "execution_count": 47,
   "id": "00394ed4-f0ad-4bad-b517-5aea1356b2d2",
   "metadata": {},
   "outputs": [
    {
     "data": {
      "text/plain": [
       "200"
      ]
     },
     "execution_count": 47,
     "metadata": {},
     "output_type": "execute_result"
    }
   ],
   "source": [
    "b[1, 9]"
   ]
  },
  {
   "cell_type": "code",
   "execution_count": 48,
   "id": "4e61fbea-b7c3-400c-b4f3-b431c1bd9d29",
   "metadata": {},
   "outputs": [
    {
     "data": {
      "text/plain": [
       "array([[  1,   2,   3,   4,   5,   6,   7,   8,   9,  10],\n",
       "       [ 11,  12,  13,  14,  15,  16,  17,  18,  19, 200]])"
      ]
     },
     "execution_count": 48,
     "metadata": {},
     "output_type": "execute_result"
    }
   ],
   "source": [
    "b"
   ]
  },
  {
   "cell_type": "code",
   "execution_count": 49,
   "id": "8db3f23c-2784-4105-9a3d-2c49264c3c27",
   "metadata": {},
   "outputs": [],
   "source": [
    "# 3D arrays\n",
    "c = np.array(\n",
    "    [\n",
    "        [\n",
    "            [1,2,3],\n",
    "            [4,5,6],\n",
    "            [7,8,9],\n",
    "        ],\n",
    "        [\n",
    "            [11,12,13],\n",
    "            [14,15,16],\n",
    "            [17,18,19],\n",
    "        ]\n",
    "    ]\n",
    ")"
   ]
  },
  {
   "cell_type": "code",
   "execution_count": 50,
   "id": "22d609c3-4740-46bf-b636-40c778ed38ec",
   "metadata": {},
   "outputs": [
    {
     "data": {
      "text/plain": [
       "array([[1, 2, 3],\n",
       "       [4, 5, 6],\n",
       "       [7, 8, 9]])"
      ]
     },
     "execution_count": 50,
     "metadata": {},
     "output_type": "execute_result"
    }
   ],
   "source": [
    "c[0]"
   ]
  },
  {
   "cell_type": "code",
   "execution_count": 51,
   "id": "a82abd29-fddc-4965-9600-5e7c0565388f",
   "metadata": {},
   "outputs": [
    {
     "data": {
      "text/plain": [
       "array([[11, 12, 13],\n",
       "       [14, 15, 16],\n",
       "       [17, 18, 19]])"
      ]
     },
     "execution_count": 51,
     "metadata": {},
     "output_type": "execute_result"
    }
   ],
   "source": [
    "c[1]"
   ]
  },
  {
   "cell_type": "code",
   "execution_count": 52,
   "id": "4fa98f0a-7e7c-4d1b-8b59-b4bdcf8de30a",
   "metadata": {},
   "outputs": [
    {
     "data": {
      "text/plain": [
       "6"
      ]
     },
     "execution_count": 52,
     "metadata": {},
     "output_type": "execute_result"
    }
   ],
   "source": [
    "c[0][1][2]"
   ]
  },
  {
   "cell_type": "code",
   "execution_count": 55,
   "id": "78d79987-9af8-4c30-9ef0-cad93f703c80",
   "metadata": {},
   "outputs": [
    {
     "data": {
      "text/plain": [
       "array([[0, 0, 0, 0, 0],\n",
       "       [0, 0, 0, 0, 0],\n",
       "       [0, 0, 0, 0, 0],\n",
       "       [0, 0, 0, 0, 0]], dtype=int32)"
      ]
     },
     "execution_count": 55,
     "metadata": {},
     "output_type": "execute_result"
    }
   ],
   "source": [
    "# create zero array\n",
    "np.zeros((4,5), dtype='int32')"
   ]
  },
  {
   "cell_type": "code",
   "execution_count": 56,
   "id": "a0f9daff-1398-4151-b37c-7800ba7f28a9",
   "metadata": {},
   "outputs": [
    {
     "data": {
      "text/plain": [
       "array([0, 0, 0, 0], dtype=int32)"
      ]
     },
     "execution_count": 56,
     "metadata": {},
     "output_type": "execute_result"
    }
   ],
   "source": [
    "np.zeros((4,), dtype='int32')"
   ]
  },
  {
   "cell_type": "code",
   "execution_count": 57,
   "id": "b9149d57-e039-4df8-a4de-b96791a7e2b9",
   "metadata": {},
   "outputs": [
    {
     "data": {
      "text/plain": [
       "array([[[0, 0],\n",
       "        [0, 0],\n",
       "        [0, 0],\n",
       "        [0, 0],\n",
       "        [0, 0]],\n",
       "\n",
       "       [[0, 0],\n",
       "        [0, 0],\n",
       "        [0, 0],\n",
       "        [0, 0],\n",
       "        [0, 0]],\n",
       "\n",
       "       [[0, 0],\n",
       "        [0, 0],\n",
       "        [0, 0],\n",
       "        [0, 0],\n",
       "        [0, 0]],\n",
       "\n",
       "       [[0, 0],\n",
       "        [0, 0],\n",
       "        [0, 0],\n",
       "        [0, 0],\n",
       "        [0, 0]]], dtype=int32)"
      ]
     },
     "execution_count": 57,
     "metadata": {},
     "output_type": "execute_result"
    }
   ],
   "source": [
    "np.zeros((4,5,2), dtype='int32')"
   ]
  },
  {
   "cell_type": "code",
   "execution_count": 58,
   "id": "985a4aba-ef91-4369-94f8-58da47794664",
   "metadata": {},
   "outputs": [
    {
     "data": {
      "text/plain": [
       "array([[1, 1, 1, 1, 1],\n",
       "       [1, 1, 1, 1, 1],\n",
       "       [1, 1, 1, 1, 1],\n",
       "       [1, 1, 1, 1, 1]], dtype=int32)"
      ]
     },
     "execution_count": 58,
     "metadata": {},
     "output_type": "execute_result"
    }
   ],
   "source": [
    "np.ones((4,5), dtype='int32')"
   ]
  },
  {
   "cell_type": "code",
   "execution_count": 59,
   "id": "6699a09f-5fbb-4b33-b5de-bfe038942174",
   "metadata": {},
   "outputs": [
    {
     "data": {
      "text/plain": [
       "array([[100, 100, 100, 100, 100],\n",
       "       [100, 100, 100, 100, 100],\n",
       "       [100, 100, 100, 100, 100],\n",
       "       [100, 100, 100, 100, 100]])"
      ]
     },
     "execution_count": 59,
     "metadata": {},
     "output_type": "execute_result"
    }
   ],
   "source": [
    "np.full((4,5), 100)"
   ]
  },
  {
   "cell_type": "code",
   "execution_count": 62,
   "id": "79c6e276-b5f2-4f7c-805e-37ec5873b594",
   "metadata": {},
   "outputs": [
    {
     "data": {
      "text/plain": [
       "array([[0.59909941, 0.77314015, 0.11525419, 0.04641616],\n",
       "       [0.99126881, 0.00285285, 0.25404313, 0.05944875],\n",
       "       [0.76462583, 0.50247762, 0.9145559 , 0.557238  ]])"
      ]
     },
     "execution_count": 62,
     "metadata": {},
     "output_type": "execute_result"
    }
   ],
   "source": [
    "# random array\n",
    "np.random.rand(3,4)"
   ]
  },
  {
   "cell_type": "code",
   "execution_count": 63,
   "id": "7544097b-83d7-47f9-b897-ade07b576663",
   "metadata": {},
   "outputs": [
    {
     "data": {
      "text/plain": [
       "array([[ 6.62715389, 11.4912978 , 25.46782764, 90.47082205],\n",
       "       [53.83955523, 31.6601024 ,  1.72260961, 83.40637438],\n",
       "       [55.96588712,  4.205393  , 20.26239921, 47.92926417]])"
      ]
     },
     "execution_count": 63,
     "metadata": {},
     "output_type": "execute_result"
    }
   ],
   "source": [
    "np.random.rand(3,4) * 100"
   ]
  },
  {
   "cell_type": "code",
   "execution_count": 67,
   "id": "a0ea8d7a-e823-458d-92f3-6ba289fda8f0",
   "metadata": {},
   "outputs": [
    {
     "data": {
      "text/plain": [
       "array([[ 8, 29, 86,  9],\n",
       "       [13, 43, 58, 44],\n",
       "       [99, 16, 22, 80]])"
      ]
     },
     "execution_count": 67,
     "metadata": {},
     "output_type": "execute_result"
    }
   ],
   "source": [
    "np.random.randint(1,100, size=(3,4))"
   ]
  },
  {
   "cell_type": "code",
   "execution_count": 72,
   "id": "7bbb139f-41e7-45ef-ab53-ee7b6ccb7265",
   "metadata": {},
   "outputs": [
    {
     "data": {
      "text/plain": [
       "array([[1., 0., 0., 0., 0.],\n",
       "       [0., 1., 0., 0., 0.],\n",
       "       [0., 0., 1., 0., 0.],\n",
       "       [0., 0., 0., 1., 0.],\n",
       "       [0., 0., 0., 0., 1.]])"
      ]
     },
     "execution_count": 72,
     "metadata": {},
     "output_type": "execute_result"
    }
   ],
   "source": [
    "# INDENTITY MATRIX\n",
    "np.identity(5)"
   ]
  },
  {
   "cell_type": "code",
   "execution_count": 73,
   "id": "84ecfaf9-1262-4621-abe3-5e016e4c55b8",
   "metadata": {},
   "outputs": [],
   "source": [
    "# deep and shallow copy"
   ]
  },
  {
   "cell_type": "code",
   "execution_count": 74,
   "id": "63969adc-e8e9-4fe2-b03a-c917ac12bc93",
   "metadata": {},
   "outputs": [],
   "source": [
    "p = np.array([1,2,3,4,5])"
   ]
  },
  {
   "cell_type": "code",
   "execution_count": 76,
   "id": "3fa846e3-55fb-4c6d-ac8e-009132d51a65",
   "metadata": {},
   "outputs": [],
   "source": [
    "q = p # shallow copy"
   ]
  },
  {
   "cell_type": "code",
   "execution_count": 77,
   "id": "b64ffdba-9eb5-44b8-84ea-cfdac906540c",
   "metadata": {},
   "outputs": [],
   "source": [
    "q = p.copy() # deep copy"
   ]
  },
  {
   "cell_type": "code",
   "execution_count": 78,
   "id": "6986de84-0352-4742-98ba-a36f6eb2d18e",
   "metadata": {},
   "outputs": [
    {
     "data": {
      "text/plain": [
       "1"
      ]
     },
     "execution_count": 78,
     "metadata": {},
     "output_type": "execute_result"
    }
   ],
   "source": [
    "q[0]"
   ]
  },
  {
   "cell_type": "code",
   "execution_count": 79,
   "id": "250cb8a9-705f-4f8f-9c65-b26b7828403e",
   "metadata": {},
   "outputs": [
    {
     "data": {
      "text/plain": [
       "1"
      ]
     },
     "execution_count": 79,
     "metadata": {},
     "output_type": "execute_result"
    }
   ],
   "source": [
    "p[0]"
   ]
  },
  {
   "cell_type": "code",
   "execution_count": 80,
   "id": "79d0a551-1e1e-402d-8a95-38f9bde1175f",
   "metadata": {},
   "outputs": [],
   "source": [
    "q[0] = 10"
   ]
  },
  {
   "cell_type": "code",
   "execution_count": 81,
   "id": "8c76c5fd-db5a-446b-8db8-61d405b9b10a",
   "metadata": {},
   "outputs": [
    {
     "data": {
      "text/plain": [
       "1"
      ]
     },
     "execution_count": 81,
     "metadata": {},
     "output_type": "execute_result"
    }
   ],
   "source": [
    "p[0]"
   ]
  },
  {
   "cell_type": "code",
   "execution_count": 82,
   "id": "e750f0d4-d95d-4a72-8d88-fbc353af0b9f",
   "metadata": {},
   "outputs": [
    {
     "data": {
      "text/plain": [
       "10"
      ]
     },
     "execution_count": 82,
     "metadata": {},
     "output_type": "execute_result"
    }
   ],
   "source": [
    "q[0]"
   ]
  },
  {
   "cell_type": "code",
   "execution_count": 83,
   "id": "51e1eec2-e475-4f3c-8f5f-db7b7dd41617",
   "metadata": {},
   "outputs": [
    {
     "data": {
      "text/plain": [
       "array([1, 2, 3, 4, 5])"
      ]
     },
     "execution_count": 83,
     "metadata": {},
     "output_type": "execute_result"
    }
   ],
   "source": [
    "p"
   ]
  },
  {
   "cell_type": "code",
   "execution_count": 84,
   "id": "2d5bb9a7-6b07-42fb-bb7a-a36aedd84d8f",
   "metadata": {},
   "outputs": [],
   "source": [
    "# some mathemetic"
   ]
  },
  {
   "cell_type": "code",
   "execution_count": 85,
   "id": "c20ee744-706a-48f5-9895-27f366c24001",
   "metadata": {},
   "outputs": [
    {
     "data": {
      "text/plain": [
       "array([11, 12, 13, 14, 15])"
      ]
     },
     "execution_count": 85,
     "metadata": {},
     "output_type": "execute_result"
    }
   ],
   "source": [
    "p + 10"
   ]
  },
  {
   "cell_type": "code",
   "execution_count": 86,
   "id": "462cecbd-b58d-4753-9e06-fa2120d607f2",
   "metadata": {},
   "outputs": [
    {
     "data": {
      "text/plain": [
       "array([-9, -8, -7, -6, -5])"
      ]
     },
     "execution_count": 86,
     "metadata": {},
     "output_type": "execute_result"
    }
   ],
   "source": [
    "p - 10"
   ]
  },
  {
   "cell_type": "code",
   "execution_count": 87,
   "id": "c0f9200d-1ad0-4930-b57f-7b89561decb7",
   "metadata": {},
   "outputs": [
    {
     "data": {
      "text/plain": [
       "array([10, 20, 30, 40, 50])"
      ]
     },
     "execution_count": 87,
     "metadata": {},
     "output_type": "execute_result"
    }
   ],
   "source": [
    "p * 10"
   ]
  },
  {
   "cell_type": "code",
   "execution_count": 88,
   "id": "fc9257f5-1ab6-419e-a0b3-4d72304eec24",
   "metadata": {},
   "outputs": [
    {
     "data": {
      "text/plain": [
       "array([0.1, 0.2, 0.3, 0.4, 0.5])"
      ]
     },
     "execution_count": 88,
     "metadata": {},
     "output_type": "execute_result"
    }
   ],
   "source": [
    "p / 10"
   ]
  },
  {
   "cell_type": "code",
   "execution_count": 89,
   "id": "fa588e80-55d8-438c-ad71-1cae465eaa97",
   "metadata": {},
   "outputs": [
    {
     "data": {
      "text/plain": [
       "array([10,  2,  3,  4,  5])"
      ]
     },
     "execution_count": 89,
     "metadata": {},
     "output_type": "execute_result"
    }
   ],
   "source": [
    "q"
   ]
  },
  {
   "cell_type": "code",
   "execution_count": 90,
   "id": "aacebc44-08e7-4838-8f36-01df317223b1",
   "metadata": {},
   "outputs": [
    {
     "data": {
      "text/plain": [
       "array([11,  4,  6,  8, 10])"
      ]
     },
     "execution_count": 90,
     "metadata": {},
     "output_type": "execute_result"
    }
   ],
   "source": [
    "q + p"
   ]
  },
  {
   "cell_type": "code",
   "execution_count": 91,
   "id": "7839eef9-99d4-440a-a52c-df0765715f3e",
   "metadata": {},
   "outputs": [
    {
     "data": {
      "text/plain": [
       "5"
      ]
     },
     "execution_count": 91,
     "metadata": {},
     "output_type": "execute_result"
    }
   ],
   "source": [
    "np.max(p)"
   ]
  },
  {
   "cell_type": "code",
   "execution_count": 92,
   "id": "8fc25da0-e896-4afc-96e8-285d5a1fcf85",
   "metadata": {},
   "outputs": [
    {
     "data": {
      "text/plain": [
       "1"
      ]
     },
     "execution_count": 92,
     "metadata": {},
     "output_type": "execute_result"
    }
   ],
   "source": [
    "np.min(p)"
   ]
  },
  {
   "cell_type": "code",
   "execution_count": 93,
   "id": "58a9222d-135a-400f-9eb5-39f5e04edee1",
   "metadata": {},
   "outputs": [
    {
     "data": {
      "text/plain": [
       "15"
      ]
     },
     "execution_count": 93,
     "metadata": {},
     "output_type": "execute_result"
    }
   ],
   "source": [
    "np.sum(p)"
   ]
  },
  {
   "cell_type": "code",
   "execution_count": 94,
   "id": "4c769af6-8402-4aef-bedc-04b707b28ed0",
   "metadata": {},
   "outputs": [
    {
     "data": {
      "text/plain": [
       "3.0"
      ]
     },
     "execution_count": 94,
     "metadata": {},
     "output_type": "execute_result"
    }
   ],
   "source": [
    "np.average(p)"
   ]
  },
  {
   "cell_type": "code",
   "execution_count": 95,
   "id": "3cfd6abd-689a-4cb4-81d3-cc3701a08fb9",
   "metadata": {},
   "outputs": [
    {
     "data": {
      "text/plain": [
       "3.0"
      ]
     },
     "execution_count": 95,
     "metadata": {},
     "output_type": "execute_result"
    }
   ],
   "source": [
    "np.mean(p)"
   ]
  },
  {
   "cell_type": "code",
   "execution_count": null,
   "id": "a6d44e28-4192-464f-8a22-8e63a95148de",
   "metadata": {},
   "outputs": [],
   "source": []
  }
 ],
 "metadata": {
  "kernelspec": {
   "display_name": "Python [conda env:base] *",
   "language": "python",
   "name": "conda-base-py"
  },
  "language_info": {
   "codemirror_mode": {
    "name": "ipython",
    "version": 3
   },
   "file_extension": ".py",
   "mimetype": "text/x-python",
   "name": "python",
   "nbconvert_exporter": "python",
   "pygments_lexer": "ipython3",
   "version": "3.12.7"
  }
 },
 "nbformat": 4,
 "nbformat_minor": 5
}
