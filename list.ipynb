{
 "cells": [
  {
   "cell_type": "markdown",
   "id": "bdf657a5-6e60-4844-b45a-36d0a645a40e",
   "metadata": {},
   "source": [
    "# List"
   ]
  },
  {
   "cell_type": "markdown",
   "id": "8037d761-9700-4721-b556-5ecb5e430d7e",
   "metadata": {},
   "source": [
    "a bucket that holds many items. It's a collection of items\n",
    "\n",
    "features:\n",
    "1. Ordered\n",
    "2. Changeable\n",
    "3. Duplicate\n",
    "4. Any data type as value"
   ]
  },
  {
   "cell_type": "markdown",
   "id": "660faac3-3cb6-43cc-924d-cee197a38c6b",
   "metadata": {},
   "source": [
    "### List creation"
   ]
  },
  {
   "cell_type": "code",
   "execution_count": 4,
   "id": "4d2e3cae-3c33-47f2-b49d-2d5e51ee5fba",
   "metadata": {},
   "outputs": [
    {
     "data": {
      "text/plain": [
       "[1, 3, 5, 7, 9, 11, 3, 3, 3, 3, 3]"
      ]
     },
     "execution_count": 4,
     "metadata": {},
     "output_type": "execute_result"
    }
   ],
   "source": [
    "nums = [1,3,5,7,9,11,3,3,3,3,3] # nums - list of integers\n",
    "nums"
   ]
  },
  {
   "cell_type": "code",
   "execution_count": 3,
   "id": "403b267d-b21d-448b-85fb-62b9684e3bf2",
   "metadata": {},
   "outputs": [
    {
     "data": {
      "text/plain": [
       "['Amit', 'Sucheta', 'Swaroop', 'Sourav']"
      ]
     },
     "execution_count": 3,
     "metadata": {},
     "output_type": "execute_result"
    }
   ],
   "source": [
    "names = ['Amit', 'Sucheta', 'Swaroop', 'Sourav'] # names - list of strings\n",
    "names"
   ]
  },
  {
   "cell_type": "code",
   "execution_count": 5,
   "id": "38ad34e7-7d66-4072-b5ec-24c557e14de7",
   "metadata": {},
   "outputs": [
    {
     "data": {
      "text/plain": [
       "[True, False, True, False, False]"
      ]
     },
     "execution_count": 5,
     "metadata": {},
     "output_type": "execute_result"
    }
   ],
   "source": [
    "ans = [True, False, True, False, False] # ans - list of boolean\n",
    "ans"
   ]
  },
  {
   "cell_type": "code",
   "execution_count": 6,
   "id": "ed5d17ba-aec9-4c68-9df7-0739bacacd43",
   "metadata": {},
   "outputs": [
    {
     "data": {
      "text/plain": [
       "[1, 'apple', True, 2.5]"
      ]
     },
     "execution_count": 6,
     "metadata": {},
     "output_type": "execute_result"
    }
   ],
   "source": [
    "mix_list = [1, 'apple', True, 2.5] # only valid for few language\n",
    "mix_list"
   ]
  },
  {
   "cell_type": "markdown",
   "id": "8a8aa718-b7ba-4db2-bc37-fa54327b71aa",
   "metadata": {},
   "source": [
    "### Indexing"
   ]
  },
  {
   "cell_type": "code",
   "execution_count": 7,
   "id": "b3545c66-b7cf-473d-86f8-4bdb4f77bb77",
   "metadata": {},
   "outputs": [
    {
     "data": {
      "text/plain": [
       "'apple'"
      ]
     },
     "execution_count": 7,
     "metadata": {},
     "output_type": "execute_result"
    }
   ],
   "source": [
    "mix_list[1]"
   ]
  },
  {
   "cell_type": "code",
   "execution_count": 8,
   "id": "bcc8151c-4820-48a3-876d-0204b6e3fff7",
   "metadata": {},
   "outputs": [
    {
     "data": {
      "text/plain": [
       "2.5"
      ]
     },
     "execution_count": 8,
     "metadata": {},
     "output_type": "execute_result"
    }
   ],
   "source": [
    "mix_list[3]"
   ]
  },
  {
   "cell_type": "code",
   "execution_count": 9,
   "id": "81722bb6-a3af-47c3-8967-d808009cf0a4",
   "metadata": {},
   "outputs": [
    {
     "ename": "IndexError",
     "evalue": "list index out of range",
     "output_type": "error",
     "traceback": [
      "\u001b[0;31m---------------------------------------------------------------------------\u001b[0m",
      "\u001b[0;31mIndexError\u001b[0m                                Traceback (most recent call last)",
      "Cell \u001b[0;32mIn[9], line 1\u001b[0m\n\u001b[0;32m----> 1\u001b[0m mix_list[\u001b[38;5;241m10\u001b[39m]\n",
      "\u001b[0;31mIndexError\u001b[0m: list index out of range"
     ]
    }
   ],
   "source": [
    "mix_list[10]"
   ]
  },
  {
   "cell_type": "code",
   "execution_count": 10,
   "id": "d0f3b48f-f27d-4727-8d6b-13139983628c",
   "metadata": {},
   "outputs": [
    {
     "data": {
      "text/plain": [
       "2.5"
      ]
     },
     "execution_count": 10,
     "metadata": {},
     "output_type": "execute_result"
    }
   ],
   "source": [
    "mix_list[-1]"
   ]
  },
  {
   "cell_type": "markdown",
   "id": "4205a8bf-e2cf-4641-b79d-83057893e5da",
   "metadata": {},
   "source": [
    "### Slicing"
   ]
  },
  {
   "cell_type": "code",
   "execution_count": 14,
   "id": "8a9659fb-20d6-4a85-86f3-b2fafa7fcf3b",
   "metadata": {},
   "outputs": [
    {
     "data": {
      "text/plain": [
       "[1, 3, 5, 7, 9, 11, 3, 3, 3, 3, 3]"
      ]
     },
     "execution_count": 14,
     "metadata": {},
     "output_type": "execute_result"
    }
   ],
   "source": [
    "nums"
   ]
  },
  {
   "cell_type": "code",
   "execution_count": 15,
   "id": "7089af70-a852-4eb2-a2eb-497df9f986bf",
   "metadata": {},
   "outputs": [
    {
     "data": {
      "text/plain": [
       "[5, 7, 9, 11, 3]"
      ]
     },
     "execution_count": 15,
     "metadata": {},
     "output_type": "execute_result"
    }
   ],
   "source": [
    "# slice list from index 2 to 6\n",
    "nums[2:7] # start:end(excluded)"
   ]
  },
  {
   "cell_type": "code",
   "execution_count": 16,
   "id": "98fafc69-c7ba-4361-9b85-859d5aff3286",
   "metadata": {},
   "outputs": [
    {
     "data": {
      "text/plain": [
       "[5, 9, 3]"
      ]
     },
     "execution_count": 16,
     "metadata": {},
     "output_type": "execute_result"
    }
   ],
   "source": [
    "# slice list from index 2 to 6 with step 2\n",
    "nums[2:7:2] # start:end:steps"
   ]
  },
  {
   "cell_type": "code",
   "execution_count": 17,
   "id": "50ab78d3-a60c-441f-884d-39d7af134b4e",
   "metadata": {},
   "outputs": [
    {
     "data": {
      "text/plain": [
       "[5, 7, 9, 11, 3, 3, 3, 3, 3]"
      ]
     },
     "execution_count": 17,
     "metadata": {},
     "output_type": "execute_result"
    }
   ],
   "source": [
    "nums[2:] # slice from index 2 to last"
   ]
  },
  {
   "cell_type": "code",
   "execution_count": 18,
   "id": "4ab0fe64-1305-49d1-9155-5639465d3cca",
   "metadata": {},
   "outputs": [
    {
     "data": {
      "text/plain": [
       "[1, 3]"
      ]
     },
     "execution_count": 18,
     "metadata": {},
     "output_type": "execute_result"
    }
   ],
   "source": [
    "nums[:2] # slice from start to index 1"
   ]
  },
  {
   "cell_type": "markdown",
   "id": "d91972ba-e808-42b2-ad3c-4ccbdab02484",
   "metadata": {},
   "source": [
    "## List Methods"
   ]
  },
  {
   "cell_type": "markdown",
   "id": "f02ba411-cf23-4153-8169-9e8dadd45c56",
   "metadata": {},
   "source": [
    "### APPEND"
   ]
  },
  {
   "cell_type": "markdown",
   "id": "3575b5d7-1321-4dba-84e4-66d4042b9fd5",
   "metadata": {},
   "source": [
    "Adds at the end"
   ]
  },
  {
   "cell_type": "code",
   "execution_count": 19,
   "id": "1a221190-552f-4692-8a26-cf79d35872a0",
   "metadata": {},
   "outputs": [
    {
     "data": {
      "text/plain": [
       "['Amit', 'Sucheta', 'Swaroop', 'Sourav']"
      ]
     },
     "execution_count": 19,
     "metadata": {},
     "output_type": "execute_result"
    }
   ],
   "source": [
    "names"
   ]
  },
  {
   "cell_type": "code",
   "execution_count": 22,
   "id": "5378f163-0cf2-4cf2-98e1-a5b244cab0a9",
   "metadata": {},
   "outputs": [
    {
     "data": {
      "text/plain": [
       "['Amit', 'Sucheta', 'Swaroop', 'Sourav', 'Omraj', 'Omraj', 'Omraj']"
      ]
     },
     "execution_count": 22,
     "metadata": {},
     "output_type": "execute_result"
    }
   ],
   "source": [
    "names.append('Omraj')\n",
    "names"
   ]
  },
  {
   "cell_type": "markdown",
   "id": "7d428a17-0351-4ff5-80d9-2b4f54ff7d62",
   "metadata": {},
   "source": [
    "### INSERT"
   ]
  },
  {
   "cell_type": "markdown",
   "id": "8901713f-b124-4716-a223-92fec42f8a0f",
   "metadata": {},
   "source": [
    "With the help of insert we can insert a value at a paticular location"
   ]
  },
  {
   "cell_type": "markdown",
   "id": "348eb83f-8573-4647-b3ab-cab9351fe824",
   "metadata": {},
   "source": [
    "names.insert(1, 'Mayur')\n",
    "names"
   ]
  },
  {
   "cell_type": "markdown",
   "id": "93b56599-67a2-4372-81eb-43ef45473851",
   "metadata": {},
   "source": [
    "### REMOVE"
   ]
  },
  {
   "cell_type": "markdown",
   "id": "4bcb2a8f-7dd9-4c71-b1b7-b94856b58c34",
   "metadata": {},
   "source": [
    "Removes the first match of {value}"
   ]
  },
  {
   "cell_type": "code",
   "execution_count": 28,
   "id": "801bdf3b-7685-4ca9-840f-df57f10b93fb",
   "metadata": {},
   "outputs": [
    {
     "ename": "ValueError",
     "evalue": "list.remove(x): x not in list",
     "output_type": "error",
     "traceback": [
      "\u001b[0;31m---------------------------------------------------------------------------\u001b[0m",
      "\u001b[0;31mValueError\u001b[0m                                Traceback (most recent call last)",
      "Cell \u001b[0;32mIn[28], line 1\u001b[0m\n\u001b[0;32m----> 1\u001b[0m names\u001b[38;5;241m.\u001b[39mremove(\u001b[38;5;124m\"\u001b[39m\u001b[38;5;124mOmraj\u001b[39m\u001b[38;5;124m\"\u001b[39m)\n\u001b[1;32m      2\u001b[0m names\n",
      "\u001b[0;31mValueError\u001b[0m: list.remove(x): x not in list"
     ]
    }
   ],
   "source": [
    "names.remove(\"Omraj\")\n",
    "names"
   ]
  },
  {
   "cell_type": "markdown",
   "id": "d4e97965-bdde-498a-84b1-ff9abc10b5ef",
   "metadata": {},
   "source": [
    "### POP"
   ]
  },
  {
   "cell_type": "markdown",
   "id": "26700d46-6b63-4065-8b91-87b52a86d34d",
   "metadata": {},
   "source": [
    "Removes from the last"
   ]
  },
  {
   "cell_type": "code",
   "execution_count": 29,
   "id": "61600079-a9e6-467c-969e-3b73a07547c4",
   "metadata": {},
   "outputs": [
    {
     "data": {
      "text/plain": [
       "['Amit', 'Mayur', 'Sucheta', 'Swaroop', 'Sourav']"
      ]
     },
     "execution_count": 29,
     "metadata": {},
     "output_type": "execute_result"
    }
   ],
   "source": [
    "names"
   ]
  },
  {
   "cell_type": "code",
   "execution_count": 30,
   "id": "ab44b51d-80eb-4258-bab4-9668b6c5f0af",
   "metadata": {},
   "outputs": [
    {
     "data": {
      "text/plain": [
       "'Sourav'"
      ]
     },
     "execution_count": 30,
     "metadata": {},
     "output_type": "execute_result"
    }
   ],
   "source": [
    "names.pop()"
   ]
  },
  {
   "cell_type": "code",
   "execution_count": 31,
   "id": "09105775-6c7a-47ef-9369-1bc1ad2c94e5",
   "metadata": {},
   "outputs": [
    {
     "data": {
      "text/plain": [
       "['Amit', 'Mayur', 'Sucheta', 'Swaroop']"
      ]
     },
     "execution_count": 31,
     "metadata": {},
     "output_type": "execute_result"
    }
   ],
   "source": [
    "names"
   ]
  },
  {
   "cell_type": "markdown",
   "id": "c16bd8d1-4e2e-4590-abd1-964fe8df28f5",
   "metadata": {},
   "source": [
    "### REVERSE"
   ]
  },
  {
   "cell_type": "code",
   "execution_count": 32,
   "id": "023cd35d-426c-4af8-86a1-48cd9fde756a",
   "metadata": {},
   "outputs": [],
   "source": [
    "names.reverse()"
   ]
  },
  {
   "cell_type": "code",
   "execution_count": 33,
   "id": "43b4d8b8-4ad9-48c3-8522-33831a38797a",
   "metadata": {},
   "outputs": [
    {
     "data": {
      "text/plain": [
       "['Swaroop', 'Sucheta', 'Mayur', 'Amit']"
      ]
     },
     "execution_count": 33,
     "metadata": {},
     "output_type": "execute_result"
    }
   ],
   "source": [
    "names"
   ]
  },
  {
   "cell_type": "markdown",
   "id": "8cb391b6-1001-4bd1-bbed-5b491647f2d1",
   "metadata": {},
   "source": [
    "### COUNT "
   ]
  },
  {
   "cell_type": "markdown",
   "id": "1a817445-4bba-4845-a090-561a32328ff9",
   "metadata": {},
   "source": [
    "Count of a value"
   ]
  },
  {
   "cell_type": "code",
   "execution_count": 34,
   "id": "9170268e-6434-48ca-ba64-3c2306ac0b96",
   "metadata": {},
   "outputs": [
    {
     "data": {
      "text/plain": [
       "0"
      ]
     },
     "execution_count": 34,
     "metadata": {},
     "output_type": "execute_result"
    }
   ],
   "source": [
    "names.count('Omraj')"
   ]
  },
  {
   "cell_type": "code",
   "execution_count": 35,
   "id": "92aac773-68fa-4de9-ac17-0b45e5e43f3c",
   "metadata": {},
   "outputs": [
    {
     "data": {
      "text/plain": [
       "1"
      ]
     },
     "execution_count": 35,
     "metadata": {},
     "output_type": "execute_result"
    }
   ],
   "source": [
    "names.count('Amit')"
   ]
  },
  {
   "cell_type": "markdown",
   "id": "5f1f4f4f-3cb7-4aed-8aae-268d18c3176f",
   "metadata": {},
   "source": [
    "### INDEX"
   ]
  },
  {
   "cell_type": "code",
   "execution_count": 36,
   "id": "05089820-8ce7-440b-84e9-c5d043048115",
   "metadata": {},
   "outputs": [
    {
     "data": {
      "text/plain": [
       "0"
      ]
     },
     "execution_count": 36,
     "metadata": {},
     "output_type": "execute_result"
    }
   ],
   "source": [
    "names.index('Swaroop')"
   ]
  },
  {
   "cell_type": "code",
   "execution_count": 37,
   "id": "9fe44bad-d9e0-4787-aabb-9e6b3c174264",
   "metadata": {},
   "outputs": [
    {
     "data": {
      "text/plain": [
       "3"
      ]
     },
     "execution_count": 37,
     "metadata": {},
     "output_type": "execute_result"
    }
   ],
   "source": [
    "names.index('Amit')"
   ]
  },
  {
   "cell_type": "code",
   "execution_count": 40,
   "id": "c5cc4bcc-3c13-4775-8784-05ce62ad49bd",
   "metadata": {},
   "outputs": [
    {
     "ename": "ValueError",
     "evalue": "'Omraj' is not in list",
     "output_type": "error",
     "traceback": [
      "\u001b[0;31m---------------------------------------------------------------------------\u001b[0m",
      "\u001b[0;31mValueError\u001b[0m                                Traceback (most recent call last)",
      "Cell \u001b[0;32mIn[40], line 1\u001b[0m\n\u001b[0;32m----> 1\u001b[0m names\u001b[38;5;241m.\u001b[39mindex(\u001b[38;5;124m'\u001b[39m\u001b[38;5;124mOmraj\u001b[39m\u001b[38;5;124m'\u001b[39m)\n",
      "\u001b[0;31mValueError\u001b[0m: 'Omraj' is not in list"
     ]
    }
   ],
   "source": [
    "names.index('Omraj')"
   ]
  },
  {
   "cell_type": "markdown",
   "id": "c63d1d46-383f-4e18-97d6-890ad1ee64f3",
   "metadata": {},
   "source": [
    "### COPY"
   ]
  },
  {
   "cell_type": "code",
   "execution_count": 47,
   "id": "ee76787e-dd40-45e5-8e2f-4e80d21a9f68",
   "metadata": {},
   "outputs": [
    {
     "data": {
      "text/plain": [
       "[1, 3, 5, 7, 9, 11, 3, 3, 3, 3, 3]"
      ]
     },
     "execution_count": 47,
     "metadata": {},
     "output_type": "execute_result"
    }
   ],
   "source": [
    "nums"
   ]
  },
  {
   "cell_type": "code",
   "execution_count": 48,
   "id": "121f1760-2319-47d9-a1e0-35f075cf39a8",
   "metadata": {},
   "outputs": [],
   "source": [
    "numsDup = nums # shallow copy"
   ]
  },
  {
   "cell_type": "code",
   "execution_count": 49,
   "id": "94c977bb-896f-4880-9056-cf51b7a0db03",
   "metadata": {},
   "outputs": [
    {
     "data": {
      "text/plain": [
       "[1, 3, 5, 7, 9, 11, 3, 3, 3, 3, 3]"
      ]
     },
     "execution_count": 49,
     "metadata": {},
     "output_type": "execute_result"
    }
   ],
   "source": [
    "numsDup"
   ]
  },
  {
   "cell_type": "code",
   "execution_count": 50,
   "id": "0a41e50e-f503-4e19-b763-d4207d40b0c8",
   "metadata": {},
   "outputs": [],
   "source": [
    "nums[2] = 50"
   ]
  },
  {
   "cell_type": "code",
   "execution_count": 51,
   "id": "f2b7d1e4-b56d-4aa5-b938-341a46f66cd9",
   "metadata": {},
   "outputs": [
    {
     "data": {
      "text/plain": [
       "[1, 3, 50, 7, 9, 11, 3, 3, 3, 3, 3]"
      ]
     },
     "execution_count": 51,
     "metadata": {},
     "output_type": "execute_result"
    }
   ],
   "source": [
    "nums"
   ]
  },
  {
   "cell_type": "code",
   "execution_count": 52,
   "id": "a40c7e56-78f0-489f-a2eb-cfab17f83671",
   "metadata": {},
   "outputs": [
    {
     "data": {
      "text/plain": [
       "[1, 3, 50, 7, 9, 11, 3, 3, 3, 3, 3]"
      ]
     },
     "execution_count": 52,
     "metadata": {},
     "output_type": "execute_result"
    }
   ],
   "source": [
    "numsDup"
   ]
  },
  {
   "cell_type": "markdown",
   "id": "02d21d73-9340-4f58-b583-60a616fcbb89",
   "metadata": {},
   "source": [
    "Let's see deep copy"
   ]
  },
  {
   "cell_type": "code",
   "execution_count": 53,
   "id": "dc47b947-70f2-41cd-b630-600f0eef5eaf",
   "metadata": {},
   "outputs": [],
   "source": [
    "numsDup = nums.copy() # deep copy"
   ]
  },
  {
   "cell_type": "code",
   "execution_count": 54,
   "id": "4278e89e-7964-4ae2-8117-b306cd0031dd",
   "metadata": {},
   "outputs": [
    {
     "data": {
      "text/plain": [
       "[1, 3, 50, 7, 9, 11, 3, 3, 3, 3, 3]"
      ]
     },
     "execution_count": 54,
     "metadata": {},
     "output_type": "execute_result"
    }
   ],
   "source": [
    "nums"
   ]
  },
  {
   "cell_type": "code",
   "execution_count": 55,
   "id": "03eb8a6d-2bfb-49a7-a215-a2a13466f935",
   "metadata": {},
   "outputs": [
    {
     "data": {
      "text/plain": [
       "[1, 3, 50, 7, 9, 11, 3, 3, 3, 3, 3]"
      ]
     },
     "execution_count": 55,
     "metadata": {},
     "output_type": "execute_result"
    }
   ],
   "source": [
    "numsDup"
   ]
  },
  {
   "cell_type": "code",
   "execution_count": 56,
   "id": "520750a6-843e-497d-b181-5836467b45be",
   "metadata": {},
   "outputs": [],
   "source": [
    "nums[2] = 500"
   ]
  },
  {
   "cell_type": "code",
   "execution_count": 57,
   "id": "a41fe23c-30c7-45d0-84cf-e223778d8875",
   "metadata": {},
   "outputs": [
    {
     "data": {
      "text/plain": [
       "[1, 3, 500, 7, 9, 11, 3, 3, 3, 3, 3]"
      ]
     },
     "execution_count": 57,
     "metadata": {},
     "output_type": "execute_result"
    }
   ],
   "source": [
    "nums"
   ]
  },
  {
   "cell_type": "code",
   "execution_count": 58,
   "id": "72dab8dc-2032-4571-b24b-03f144e26321",
   "metadata": {},
   "outputs": [
    {
     "data": {
      "text/plain": [
       "[1, 3, 50, 7, 9, 11, 3, 3, 3, 3, 3]"
      ]
     },
     "execution_count": 58,
     "metadata": {},
     "output_type": "execute_result"
    }
   ],
   "source": [
    "numsDup"
   ]
  },
  {
   "cell_type": "code",
   "execution_count": 60,
   "id": "b6f8cbd8-b060-44ab-aef4-084e98082b5b",
   "metadata": {},
   "outputs": [],
   "source": [
    "# TUPLE - IMMUTABLE LIST\n",
    "t = (1,2,3,4,5,4,3,2,1)"
   ]
  },
  {
   "cell_type": "markdown",
   "id": "a054bed0-e9f5-44be-ab6a-5db885f44b4a",
   "metadata": {},
   "source": [
    "### COUNT"
   ]
  },
  {
   "cell_type": "code",
   "execution_count": 61,
   "id": "2b7fc16b-e93f-489f-b219-868357c2194e",
   "metadata": {},
   "outputs": [
    {
     "data": {
      "text/plain": [
       "2"
      ]
     },
     "execution_count": 61,
     "metadata": {},
     "output_type": "execute_result"
    }
   ],
   "source": [
    "t.count(2)"
   ]
  },
  {
   "cell_type": "code",
   "execution_count": 62,
   "id": "e356e126-b0c3-4c31-9898-117527b1c531",
   "metadata": {},
   "outputs": [
    {
     "data": {
      "text/plain": [
       "0"
      ]
     },
     "execution_count": 62,
     "metadata": {},
     "output_type": "execute_result"
    }
   ],
   "source": [
    "t.count(100)"
   ]
  },
  {
   "cell_type": "markdown",
   "id": "be6976fd-e918-47ae-b2ef-3484e0c530f3",
   "metadata": {},
   "source": [
    "### INDEX"
   ]
  },
  {
   "cell_type": "code",
   "execution_count": 63,
   "id": "6241c494-fffb-4f86-a915-2c68d46a75f7",
   "metadata": {},
   "outputs": [
    {
     "data": {
      "text/plain": [
       "1"
      ]
     },
     "execution_count": 63,
     "metadata": {},
     "output_type": "execute_result"
    }
   ],
   "source": [
    "t.index(2)"
   ]
  },
  {
   "cell_type": "code",
   "execution_count": 64,
   "id": "055f08db-6246-47fe-aee9-fe457701a45a",
   "metadata": {},
   "outputs": [
    {
     "ename": "ValueError",
     "evalue": "tuple.index(x): x not in tuple",
     "output_type": "error",
     "traceback": [
      "\u001b[0;31m---------------------------------------------------------------------------\u001b[0m",
      "\u001b[0;31mValueError\u001b[0m                                Traceback (most recent call last)",
      "Cell \u001b[0;32mIn[64], line 1\u001b[0m\n\u001b[0;32m----> 1\u001b[0m t\u001b[38;5;241m.\u001b[39mindex(\u001b[38;5;241m200\u001b[39m)\n",
      "\u001b[0;31mValueError\u001b[0m: tuple.index(x): x not in tuple"
     ]
    }
   ],
   "source": [
    "t.index(200)"
   ]
  },
  {
   "cell_type": "code",
   "execution_count": null,
   "id": "1c990d31-9455-40db-9348-c0392a606c75",
   "metadata": {},
   "outputs": [],
   "source": []
  },
  {
   "cell_type": "code",
   "execution_count": null,
   "id": "0179e5bb-4e73-412c-a150-b585e8d175a5",
   "metadata": {},
   "outputs": [],
   "source": []
  }
 ],
 "metadata": {
  "kernelspec": {
   "display_name": "Python 3 (ipykernel)",
   "language": "python",
   "name": "python3"
  },
  "language_info": {
   "codemirror_mode": {
    "name": "ipython",
    "version": 3
   },
   "file_extension": ".py",
   "mimetype": "text/x-python",
   "name": "python",
   "nbconvert_exporter": "python",
   "pygments_lexer": "ipython3",
   "version": "3.12.7"
  }
 },
 "nbformat": 4,
 "nbformat_minor": 5
}
