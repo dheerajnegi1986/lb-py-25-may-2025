{
 "cells": [
  {
   "cell_type": "markdown",
   "id": "8a75014c-9330-47ea-91b1-eb0d5235d570",
   "metadata": {},
   "source": [
    "# REGULAR EXPERESSIONS"
   ]
  },
  {
   "cell_type": "markdown",
   "id": "0c9ac277-e6bf-41e7-a608-53dba7584b0c",
   "metadata": {},
   "source": [
    "Used for pattern matching\n",
    "\n",
    "ex - email, phone, username, website, etc\n",
    "\n",
    "something@something.something\n",
    "omraj7413@gmail.com\n",
    "\n",
    "1234567890\n",
    "\n",
    "something.somthing\n",
    "learnbay.co\n",
    "\n",
    "| Symbol | Meaning | Example | Matches |\n",
    "| --- | --- | --- | --- |\n",
    "| `.` | Any character except newline | `a.c` | `abc`, `axc`, `a9c` |\n",
    "| `^` | Start of string | `^Hello` | `Hello world` |\n",
    "| `$` | End of string | `world$` | `Hello world` |\n",
    "| `[]` | Any character in brackets | `[aeiou]` | `a`, `e`, `i`, ... |\n",
    "| `[^]` | Not a character in brackets | `[^0-9]` | Any non-digit |\n",
    "| `\\d` | Any digit (0-9) | `\\d` | `1`, `2`, ... |\n",
    "| `\\D` | Not a digit | `\\D` | `a`, `#`, `b`... |\n",
    "| `\\w` | Any word character (a-z, A-Z, 0-9, _) | `\\w` | `a`, `1`, `_` |\n",
    "| `\\W` | Not a word character | `\\W` | `!`, `@` |\n",
    "| `\\s` | Space character | `\\s` | , `\\t`, `\\n` |\n",
    "| `+` | One or more repetitions | `lo+` | `lo`, `loo`, `looo` |\n",
    "| `*` | Zero or more repetitions | `lo*` | `l`, `lo`, `loo` |\n",
    "| `?` | Zero or one repetition | `lo?` | `l`, `lo` |\n",
    "| `{n}` | Exactly n times | `a{3}` | `aaa` |\n",
    "| `{n,}` | n or more times | `a{2,}` | `aa`, `aaa`... |\n",
    "| `{n,m}` | Between n and m times | `a{2,4}` | `aa`, `aaa`, `aaaa` |\n",
    "| ` | ` | OR | `cat |\n",
    "\n",
    "\n",
    "| Function | Description |\n",
    "| --- | --- |\n",
    "| `re.match()` | Checks for a match **at the start** of a string |\n",
    "| `re.search()` | Searches a string for **any match** |\n",
    "| `re.findall()` | Returns **all matches** as a list |\n",
    "| `re.sub()` | **Replaces** pattern with new text |\n",
    "| `re.split()` | **Splits** string based on a pattern |\n"
   ]
  },
  {
   "cell_type": "code",
   "execution_count": 1,
   "id": "df1b6a4b-c3c9-4f09-a275-44ef9f8002fe",
   "metadata": {},
   "outputs": [],
   "source": [
    "import re"
   ]
  },
  {
   "cell_type": "code",
   "execution_count": 7,
   "id": "0f319886-eb10-447d-85ed-bd43d0aad674",
   "metadata": {},
   "outputs": [
    {
     "data": {
      "text/plain": [
       "<re.Match object; span=(0, 5), match='Hello'>"
      ]
     },
     "execution_count": 7,
     "metadata": {},
     "output_type": "execute_result"
    }
   ],
   "source": [
    "# match at beginning\n",
    "result = re.match(r'Hello' , 'Hello world Hello')\n",
    "result"
   ]
  },
  {
   "cell_type": "code",
   "execution_count": 8,
   "id": "522607db-8620-47b6-9e0c-099cbf359a06",
   "metadata": {},
   "outputs": [],
   "source": [
    "result = re.match(r'Hello' , 'world Hello') # not been able to find it\n",
    "result"
   ]
  },
  {
   "cell_type": "code",
   "execution_count": 9,
   "id": "eb0d79ac-72a2-442f-b6b8-5e56190f9c36",
   "metadata": {},
   "outputs": [
    {
     "data": {
      "text/plain": [
       "<re.Match object; span=(6, 11), match='Hello'>"
      ]
     },
     "execution_count": 9,
     "metadata": {},
     "output_type": "execute_result"
    }
   ],
   "source": [
    "# search anywhere\n",
    "re.search(r'Hello' , 'world Hello')"
   ]
  },
  {
   "cell_type": "code",
   "execution_count": 12,
   "id": "87d2e9c3-577e-4300-a180-5e75aa172490",
   "metadata": {},
   "outputs": [
    {
     "data": {
      "text/plain": [
       "['world', 'world']"
      ]
     },
     "execution_count": 12,
     "metadata": {},
     "output_type": "execute_result"
    }
   ],
   "source": [
    "re.findall(r'world', 'hello world, welcome to this worldtour')"
   ]
  },
  {
   "cell_type": "code",
   "execution_count": 13,
   "id": "8c36bac7-bbc6-42df-ab0c-ce08c662a0e3",
   "metadata": {},
   "outputs": [
    {
     "data": {
      "text/plain": [
       "['2', '3']"
      ]
     },
     "execution_count": 13,
     "metadata": {},
     "output_type": "execute_result"
    }
   ],
   "source": [
    "re.findall(r'\\d', 'I have 2 apples and 3 bananas')"
   ]
  },
  {
   "cell_type": "code",
   "execution_count": 16,
   "id": "1bbdccd3-c9db-443e-a50e-6bf39f6071ba",
   "metadata": {},
   "outputs": [
    {
     "data": {
      "text/plain": [
       "['1234567890', '0987654321']"
      ]
     },
     "execution_count": 16,
     "metadata": {},
     "output_type": "execute_result"
    }
   ],
   "source": [
    "re.findall(r'\\d{10}', 'call me at 1234567890 or 0987654321 or 12345')"
   ]
  },
  {
   "cell_type": "code",
   "execution_count": 19,
   "id": "f5b7ffa0-a49a-442c-a1bd-965bbc421931",
   "metadata": {},
   "outputs": [
    {
     "data": {
      "text/plain": [
       "<re.Match object; span=(0, 10), match='1234567890'>"
      ]
     },
     "execution_count": 19,
     "metadata": {},
     "output_type": "execute_result"
    }
   ],
   "source": [
    "re.match(r'^\\d{10}$', '1234567890')"
   ]
  },
  {
   "cell_type": "code",
   "execution_count": 22,
   "id": "70123678-a334-4606-9816-90f98582800f",
   "metadata": {},
   "outputs": [
    {
     "data": {
      "text/plain": [
       "<re.Match object; span=(0, 10), match='8234567890'>"
      ]
     },
     "execution_count": 22,
     "metadata": {},
     "output_type": "execute_result"
    }
   ],
   "source": [
    "# 6-9\n",
    "re.match(r'^[6-9]\\d{9}$', '8234567890')"
   ]
  },
  {
   "cell_type": "code",
   "execution_count": 24,
   "id": "ba767d7f-a243-4773-b909-a7c913e73e8c",
   "metadata": {},
   "outputs": [
    {
     "name": "stdout",
     "output_type": "stream",
     "text": [
      "Invalid email\n"
     ]
    }
   ],
   "source": [
    "# email validation\n",
    "if re.match(r'^[\\w\\.-]+@[\\w\\.-]+\\.\\w+$', 'omraj7413@gmail.com'):\n",
    "    print('valid email address')\n",
    "else:\n",
    "    print('Invalid email')"
   ]
  },
  {
   "cell_type": "code",
   "execution_count": null,
   "id": "50a32226-e665-4469-a501-862d15531545",
   "metadata": {},
   "outputs": [],
   "source": []
  }
 ],
 "metadata": {
  "kernelspec": {
   "display_name": "Python [conda env:base] *",
   "language": "python",
   "name": "conda-base-py"
  },
  "language_info": {
   "codemirror_mode": {
    "name": "ipython",
    "version": 3
   },
   "file_extension": ".py",
   "mimetype": "text/x-python",
   "name": "python",
   "nbconvert_exporter": "python",
   "pygments_lexer": "ipython3",
   "version": "3.12.7"
  }
 },
 "nbformat": 4,
 "nbformat_minor": 5
}
