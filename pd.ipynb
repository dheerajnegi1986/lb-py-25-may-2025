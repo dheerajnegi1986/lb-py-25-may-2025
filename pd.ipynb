{
 "cells": [
  {
   "cell_type": "markdown",
   "id": "2ca9cf02-156c-4298-a4c5-d717a4f6dabc",
   "metadata": {},
   "source": [
    "# Pandas"
   ]
  },
  {
   "cell_type": "markdown",
   "id": "a5a6adf9-b8b7-43bb-81a2-66d90d8fc3a1",
   "metadata": {},
   "source": [
    "Python library for data analysis and manipulation\n",
    "\n",
    "Two main data structures\n",
    "- 1D Series (list)\n",
    "- 2D DataFrame (matrix)\n",
    "\n",
    "Why ?\n",
    "- Support for CSV, Excel, SQL, JSON etc\n",
    "- Powerful data aggregation and grouping\n",
    "- Easy handling of missing\n",
    "- Convenient for filtering, joining, and reshaping"
   ]
  },
  {
   "cell_type": "code",
   "execution_count": 1,
   "id": "c56d9f20-f8a8-4c57-b77f-5de206e570bd",
   "metadata": {},
   "outputs": [],
   "source": [
    "import numpy as np\n",
    "import pandas as pd"
   ]
  },
  {
   "cell_type": "code",
   "execution_count": 3,
   "id": "b7a945a0-6ab1-47fa-ba79-cb99db0de24a",
   "metadata": {},
   "outputs": [],
   "source": [
    "friends = {\n",
    "    'name': ['Nitin', 'Shyam', 'Pavan'],\n",
    "    'city': ['Bangalore', 'Delhi', 'Vishakha'],\n",
    "    'marks': [98, 99, 95]\n",
    "}"
   ]
  },
  {
   "cell_type": "code",
   "execution_count": 4,
   "id": "07cacdff-93db-4f86-a7af-fe0b3c4900cd",
   "metadata": {},
   "outputs": [
    {
     "data": {
      "text/plain": [
       "{'name': ['Nitin', 'Shyam', 'Pavan'],\n",
       " 'city': ['Bangalore', 'Delhi', 'Vishakha'],\n",
       " 'marks': [98, 99, 95]}"
      ]
     },
     "execution_count": 4,
     "metadata": {},
     "output_type": "execute_result"
    }
   ],
   "source": [
    "friends"
   ]
  },
  {
   "cell_type": "code",
   "execution_count": 5,
   "id": "be4f1817-20c4-412f-ac47-5c6312b3862c",
   "metadata": {},
   "outputs": [
    {
     "data": {
      "text/html": [
       "<div>\n",
       "<style scoped>\n",
       "    .dataframe tbody tr th:only-of-type {\n",
       "        vertical-align: middle;\n",
       "    }\n",
       "\n",
       "    .dataframe tbody tr th {\n",
       "        vertical-align: top;\n",
       "    }\n",
       "\n",
       "    .dataframe thead th {\n",
       "        text-align: right;\n",
       "    }\n",
       "</style>\n",
       "<table border=\"1\" class=\"dataframe\">\n",
       "  <thead>\n",
       "    <tr style=\"text-align: right;\">\n",
       "      <th></th>\n",
       "      <th>name</th>\n",
       "      <th>city</th>\n",
       "      <th>marks</th>\n",
       "    </tr>\n",
       "  </thead>\n",
       "  <tbody>\n",
       "    <tr>\n",
       "      <th>0</th>\n",
       "      <td>Nitin</td>\n",
       "      <td>Bangalore</td>\n",
       "      <td>98</td>\n",
       "    </tr>\n",
       "    <tr>\n",
       "      <th>1</th>\n",
       "      <td>Shyam</td>\n",
       "      <td>Delhi</td>\n",
       "      <td>99</td>\n",
       "    </tr>\n",
       "    <tr>\n",
       "      <th>2</th>\n",
       "      <td>Pavan</td>\n",
       "      <td>Vishakha</td>\n",
       "      <td>95</td>\n",
       "    </tr>\n",
       "  </tbody>\n",
       "</table>\n",
       "</div>"
      ],
      "text/plain": [
       "    name       city  marks\n",
       "0  Nitin  Bangalore     98\n",
       "1  Shyam      Delhi     99\n",
       "2  Pavan   Vishakha     95"
      ]
     },
     "execution_count": 5,
     "metadata": {},
     "output_type": "execute_result"
    }
   ],
   "source": [
    "# Create dataframe\n",
    "df = pd.DataFrame(friends)\n",
    "df"
   ]
  },
  {
   "cell_type": "code",
   "execution_count": 7,
   "id": "6e06511c-c3ad-42e0-b237-36f59f0df3cf",
   "metadata": {},
   "outputs": [],
   "source": [
    "# Saving dataframe to files\n",
    "df.to_csv('friends.csv')"
   ]
  },
  {
   "cell_type": "code",
   "execution_count": 8,
   "id": "1c21abdb-accf-4326-b6a8-4b8da43f4616",
   "metadata": {},
   "outputs": [],
   "source": [
    "# Saving dataframe to files without index\n",
    "df.to_csv('friends.csv', index=False)"
   ]
  },
  {
   "cell_type": "code",
   "execution_count": 9,
   "id": "d32d2051-6537-4538-9802-ddd35e7eb145",
   "metadata": {},
   "outputs": [
    {
     "data": {
      "text/html": [
       "<div>\n",
       "<style scoped>\n",
       "    .dataframe tbody tr th:only-of-type {\n",
       "        vertical-align: middle;\n",
       "    }\n",
       "\n",
       "    .dataframe tbody tr th {\n",
       "        vertical-align: top;\n",
       "    }\n",
       "\n",
       "    .dataframe thead th {\n",
       "        text-align: right;\n",
       "    }\n",
       "</style>\n",
       "<table border=\"1\" class=\"dataframe\">\n",
       "  <thead>\n",
       "    <tr style=\"text-align: right;\">\n",
       "      <th></th>\n",
       "      <th>name</th>\n",
       "      <th>city</th>\n",
       "      <th>marks</th>\n",
       "    </tr>\n",
       "  </thead>\n",
       "  <tbody>\n",
       "    <tr>\n",
       "      <th>0</th>\n",
       "      <td>Nitin</td>\n",
       "      <td>Bangalore</td>\n",
       "      <td>98</td>\n",
       "    </tr>\n",
       "    <tr>\n",
       "      <th>1</th>\n",
       "      <td>Shyam</td>\n",
       "      <td>Delhi</td>\n",
       "      <td>99</td>\n",
       "    </tr>\n",
       "    <tr>\n",
       "      <th>2</th>\n",
       "      <td>Pavan</td>\n",
       "      <td>Vishakha</td>\n",
       "      <td>95</td>\n",
       "    </tr>\n",
       "  </tbody>\n",
       "</table>\n",
       "</div>"
      ],
      "text/plain": [
       "    name       city  marks\n",
       "0  Nitin  Bangalore     98\n",
       "1  Shyam      Delhi     99\n",
       "2  Pavan   Vishakha     95"
      ]
     },
     "execution_count": 9,
     "metadata": {},
     "output_type": "execute_result"
    }
   ],
   "source": [
    "# Top of dataframe\n",
    "df.head()"
   ]
  },
  {
   "cell_type": "code",
   "execution_count": 10,
   "id": "ea6a9a55-f487-459b-af56-dd71c127ea3f",
   "metadata": {},
   "outputs": [
    {
     "data": {
      "text/html": [
       "<div>\n",
       "<style scoped>\n",
       "    .dataframe tbody tr th:only-of-type {\n",
       "        vertical-align: middle;\n",
       "    }\n",
       "\n",
       "    .dataframe tbody tr th {\n",
       "        vertical-align: top;\n",
       "    }\n",
       "\n",
       "    .dataframe thead th {\n",
       "        text-align: right;\n",
       "    }\n",
       "</style>\n",
       "<table border=\"1\" class=\"dataframe\">\n",
       "  <thead>\n",
       "    <tr style=\"text-align: right;\">\n",
       "      <th></th>\n",
       "      <th>name</th>\n",
       "      <th>city</th>\n",
       "      <th>marks</th>\n",
       "    </tr>\n",
       "  </thead>\n",
       "  <tbody>\n",
       "    <tr>\n",
       "      <th>0</th>\n",
       "      <td>Nitin</td>\n",
       "      <td>Bangalore</td>\n",
       "      <td>98</td>\n",
       "    </tr>\n",
       "    <tr>\n",
       "      <th>1</th>\n",
       "      <td>Shyam</td>\n",
       "      <td>Delhi</td>\n",
       "      <td>99</td>\n",
       "    </tr>\n",
       "  </tbody>\n",
       "</table>\n",
       "</div>"
      ],
      "text/plain": [
       "    name       city  marks\n",
       "0  Nitin  Bangalore     98\n",
       "1  Shyam      Delhi     99"
      ]
     },
     "execution_count": 10,
     "metadata": {},
     "output_type": "execute_result"
    }
   ],
   "source": [
    "df.head(2)"
   ]
  },
  {
   "cell_type": "code",
   "execution_count": 11,
   "id": "2e716f2b-45b2-4d89-95b2-9c21ae8ca25c",
   "metadata": {},
   "outputs": [
    {
     "data": {
      "text/html": [
       "<div>\n",
       "<style scoped>\n",
       "    .dataframe tbody tr th:only-of-type {\n",
       "        vertical-align: middle;\n",
       "    }\n",
       "\n",
       "    .dataframe tbody tr th {\n",
       "        vertical-align: top;\n",
       "    }\n",
       "\n",
       "    .dataframe thead th {\n",
       "        text-align: right;\n",
       "    }\n",
       "</style>\n",
       "<table border=\"1\" class=\"dataframe\">\n",
       "  <thead>\n",
       "    <tr style=\"text-align: right;\">\n",
       "      <th></th>\n",
       "      <th>name</th>\n",
       "      <th>city</th>\n",
       "      <th>marks</th>\n",
       "    </tr>\n",
       "  </thead>\n",
       "  <tbody>\n",
       "    <tr>\n",
       "      <th>1</th>\n",
       "      <td>Shyam</td>\n",
       "      <td>Delhi</td>\n",
       "      <td>99</td>\n",
       "    </tr>\n",
       "    <tr>\n",
       "      <th>2</th>\n",
       "      <td>Pavan</td>\n",
       "      <td>Vishakha</td>\n",
       "      <td>95</td>\n",
       "    </tr>\n",
       "  </tbody>\n",
       "</table>\n",
       "</div>"
      ],
      "text/plain": [
       "    name      city  marks\n",
       "1  Shyam     Delhi     99\n",
       "2  Pavan  Vishakha     95"
      ]
     },
     "execution_count": 11,
     "metadata": {},
     "output_type": "execute_result"
    }
   ],
   "source": [
    "# Last of dataframe\n",
    "df.tail(2)"
   ]
  },
  {
   "cell_type": "code",
   "execution_count": 12,
   "id": "099c7fea-4e58-4199-9d9a-7ec085132000",
   "metadata": {},
   "outputs": [
    {
     "data": {
      "text/html": [
       "<div>\n",
       "<style scoped>\n",
       "    .dataframe tbody tr th:only-of-type {\n",
       "        vertical-align: middle;\n",
       "    }\n",
       "\n",
       "    .dataframe tbody tr th {\n",
       "        vertical-align: top;\n",
       "    }\n",
       "\n",
       "    .dataframe thead th {\n",
       "        text-align: right;\n",
       "    }\n",
       "</style>\n",
       "<table border=\"1\" class=\"dataframe\">\n",
       "  <thead>\n",
       "    <tr style=\"text-align: right;\">\n",
       "      <th></th>\n",
       "      <th>marks</th>\n",
       "    </tr>\n",
       "  </thead>\n",
       "  <tbody>\n",
       "    <tr>\n",
       "      <th>count</th>\n",
       "      <td>3.000000</td>\n",
       "    </tr>\n",
       "    <tr>\n",
       "      <th>mean</th>\n",
       "      <td>97.333333</td>\n",
       "    </tr>\n",
       "    <tr>\n",
       "      <th>std</th>\n",
       "      <td>2.081666</td>\n",
       "    </tr>\n",
       "    <tr>\n",
       "      <th>min</th>\n",
       "      <td>95.000000</td>\n",
       "    </tr>\n",
       "    <tr>\n",
       "      <th>25%</th>\n",
       "      <td>96.500000</td>\n",
       "    </tr>\n",
       "    <tr>\n",
       "      <th>50%</th>\n",
       "      <td>98.000000</td>\n",
       "    </tr>\n",
       "    <tr>\n",
       "      <th>75%</th>\n",
       "      <td>98.500000</td>\n",
       "    </tr>\n",
       "    <tr>\n",
       "      <th>max</th>\n",
       "      <td>99.000000</td>\n",
       "    </tr>\n",
       "  </tbody>\n",
       "</table>\n",
       "</div>"
      ],
      "text/plain": [
       "           marks\n",
       "count   3.000000\n",
       "mean   97.333333\n",
       "std     2.081666\n",
       "min    95.000000\n",
       "25%    96.500000\n",
       "50%    98.000000\n",
       "75%    98.500000\n",
       "max    99.000000"
      ]
     },
     "execution_count": 12,
     "metadata": {},
     "output_type": "execute_result"
    }
   ],
   "source": [
    "df.describe()"
   ]
  },
  {
   "cell_type": "code",
   "execution_count": 13,
   "id": "412ebee0-fc76-4fe6-9710-753216e23844",
   "metadata": {},
   "outputs": [
    {
     "data": {
      "text/html": [
       "<div>\n",
       "<style scoped>\n",
       "    .dataframe tbody tr th:only-of-type {\n",
       "        vertical-align: middle;\n",
       "    }\n",
       "\n",
       "    .dataframe tbody tr th {\n",
       "        vertical-align: top;\n",
       "    }\n",
       "\n",
       "    .dataframe thead th {\n",
       "        text-align: right;\n",
       "    }\n",
       "</style>\n",
       "<table border=\"1\" class=\"dataframe\">\n",
       "  <thead>\n",
       "    <tr style=\"text-align: right;\">\n",
       "      <th></th>\n",
       "      <th>name</th>\n",
       "      <th>city</th>\n",
       "    </tr>\n",
       "  </thead>\n",
       "  <tbody>\n",
       "    <tr>\n",
       "      <th>count</th>\n",
       "      <td>3</td>\n",
       "      <td>3</td>\n",
       "    </tr>\n",
       "    <tr>\n",
       "      <th>unique</th>\n",
       "      <td>3</td>\n",
       "      <td>3</td>\n",
       "    </tr>\n",
       "    <tr>\n",
       "      <th>top</th>\n",
       "      <td>Nitin</td>\n",
       "      <td>Bangalore</td>\n",
       "    </tr>\n",
       "    <tr>\n",
       "      <th>freq</th>\n",
       "      <td>1</td>\n",
       "      <td>1</td>\n",
       "    </tr>\n",
       "  </tbody>\n",
       "</table>\n",
       "</div>"
      ],
      "text/plain": [
       "         name       city\n",
       "count       3          3\n",
       "unique      3          3\n",
       "top     Nitin  Bangalore\n",
       "freq        1          1"
      ]
     },
     "execution_count": 13,
     "metadata": {},
     "output_type": "execute_result"
    }
   ],
   "source": [
    "df.describe(include=object)"
   ]
  },
  {
   "cell_type": "code",
   "execution_count": 20,
   "id": "928fee05-54c4-443d-8c4b-7dacbd27623d",
   "metadata": {},
   "outputs": [],
   "source": [
    "# Read a csv file\n",
    "friendsRead = pd.read_csv('friends-read.csv')"
   ]
  },
  {
   "cell_type": "code",
   "execution_count": 21,
   "id": "9b63fe12-998f-4577-b59a-ce9080fc481a",
   "metadata": {},
   "outputs": [
    {
     "data": {
      "text/html": [
       "<div>\n",
       "<style scoped>\n",
       "    .dataframe tbody tr th:only-of-type {\n",
       "        vertical-align: middle;\n",
       "    }\n",
       "\n",
       "    .dataframe tbody tr th {\n",
       "        vertical-align: top;\n",
       "    }\n",
       "\n",
       "    .dataframe thead th {\n",
       "        text-align: right;\n",
       "    }\n",
       "</style>\n",
       "<table border=\"1\" class=\"dataframe\">\n",
       "  <thead>\n",
       "    <tr style=\"text-align: right;\">\n",
       "      <th></th>\n",
       "      <th>name</th>\n",
       "      <th>city</th>\n",
       "      <th>marks</th>\n",
       "    </tr>\n",
       "  </thead>\n",
       "  <tbody>\n",
       "    <tr>\n",
       "      <th>0</th>\n",
       "      <td>Nitin</td>\n",
       "      <td>Bangalore</td>\n",
       "      <td>98</td>\n",
       "    </tr>\n",
       "    <tr>\n",
       "      <th>1</th>\n",
       "      <td>Shyam</td>\n",
       "      <td>Delhi</td>\n",
       "      <td>99</td>\n",
       "    </tr>\n",
       "    <tr>\n",
       "      <th>2</th>\n",
       "      <td>PAVAN</td>\n",
       "      <td>Vishakha</td>\n",
       "      <td>100</td>\n",
       "    </tr>\n",
       "    <tr>\n",
       "      <th>3</th>\n",
       "      <td>Anjali</td>\n",
       "      <td>Mumbai</td>\n",
       "      <td>95</td>\n",
       "    </tr>\n",
       "    <tr>\n",
       "      <th>4</th>\n",
       "      <td>Ravi</td>\n",
       "      <td>Chennai</td>\n",
       "      <td>88</td>\n",
       "    </tr>\n",
       "    <tr>\n",
       "      <th>5</th>\n",
       "      <td>Meena</td>\n",
       "      <td>Hyderabad</td>\n",
       "      <td>92</td>\n",
       "    </tr>\n",
       "    <tr>\n",
       "      <th>6</th>\n",
       "      <td>Aman</td>\n",
       "      <td>Pune</td>\n",
       "      <td>85</td>\n",
       "    </tr>\n",
       "    <tr>\n",
       "      <th>7</th>\n",
       "      <td>Sneha</td>\n",
       "      <td>Kolkata</td>\n",
       "      <td>93</td>\n",
       "    </tr>\n",
       "    <tr>\n",
       "      <th>8</th>\n",
       "      <td>Raj</td>\n",
       "      <td>Ahmedabad</td>\n",
       "      <td>90</td>\n",
       "    </tr>\n",
       "    <tr>\n",
       "      <th>9</th>\n",
       "      <td>Divya</td>\n",
       "      <td>Jaipur</td>\n",
       "      <td>97</td>\n",
       "    </tr>\n",
       "  </tbody>\n",
       "</table>\n",
       "</div>"
      ],
      "text/plain": [
       "     name       city  marks\n",
       "0   Nitin  Bangalore     98\n",
       "1   Shyam      Delhi     99\n",
       "2   PAVAN   Vishakha    100\n",
       "3  Anjali     Mumbai     95\n",
       "4    Ravi    Chennai     88\n",
       "5   Meena  Hyderabad     92\n",
       "6    Aman       Pune     85\n",
       "7   Sneha    Kolkata     93\n",
       "8     Raj  Ahmedabad     90\n",
       "9   Divya     Jaipur     97"
      ]
     },
     "execution_count": 21,
     "metadata": {},
     "output_type": "execute_result"
    }
   ],
   "source": [
    "friendsRead"
   ]
  },
  {
   "cell_type": "code",
   "execution_count": 22,
   "id": "2e62ca00-5f99-4588-95fa-64f0542b8df5",
   "metadata": {},
   "outputs": [
    {
     "data": {
      "text/html": [
       "<div>\n",
       "<style scoped>\n",
       "    .dataframe tbody tr th:only-of-type {\n",
       "        vertical-align: middle;\n",
       "    }\n",
       "\n",
       "    .dataframe tbody tr th {\n",
       "        vertical-align: top;\n",
       "    }\n",
       "\n",
       "    .dataframe thead th {\n",
       "        text-align: right;\n",
       "    }\n",
       "</style>\n",
       "<table border=\"1\" class=\"dataframe\">\n",
       "  <thead>\n",
       "    <tr style=\"text-align: right;\">\n",
       "      <th></th>\n",
       "      <th>marks</th>\n",
       "    </tr>\n",
       "  </thead>\n",
       "  <tbody>\n",
       "    <tr>\n",
       "      <th>count</th>\n",
       "      <td>10.00000</td>\n",
       "    </tr>\n",
       "    <tr>\n",
       "      <th>mean</th>\n",
       "      <td>93.70000</td>\n",
       "    </tr>\n",
       "    <tr>\n",
       "      <th>std</th>\n",
       "      <td>4.98999</td>\n",
       "    </tr>\n",
       "    <tr>\n",
       "      <th>min</th>\n",
       "      <td>85.00000</td>\n",
       "    </tr>\n",
       "    <tr>\n",
       "      <th>25%</th>\n",
       "      <td>90.50000</td>\n",
       "    </tr>\n",
       "    <tr>\n",
       "      <th>50%</th>\n",
       "      <td>94.00000</td>\n",
       "    </tr>\n",
       "    <tr>\n",
       "      <th>75%</th>\n",
       "      <td>97.75000</td>\n",
       "    </tr>\n",
       "    <tr>\n",
       "      <th>max</th>\n",
       "      <td>100.00000</td>\n",
       "    </tr>\n",
       "  </tbody>\n",
       "</table>\n",
       "</div>"
      ],
      "text/plain": [
       "           marks\n",
       "count   10.00000\n",
       "mean    93.70000\n",
       "std      4.98999\n",
       "min     85.00000\n",
       "25%     90.50000\n",
       "50%     94.00000\n",
       "75%     97.75000\n",
       "max    100.00000"
      ]
     },
     "execution_count": 22,
     "metadata": {},
     "output_type": "execute_result"
    }
   ],
   "source": [
    "friendsRead.describe()"
   ]
  },
  {
   "cell_type": "code",
   "execution_count": 23,
   "id": "2ecfdd25-a93a-4bd2-b40c-ca373b469982",
   "metadata": {},
   "outputs": [
    {
     "data": {
      "text/plain": [
       "0     Nitin\n",
       "1     Shyam\n",
       "2     PAVAN\n",
       "3    Anjali\n",
       "4      Ravi\n",
       "5     Meena\n",
       "6      Aman\n",
       "7     Sneha\n",
       "8       Raj\n",
       "9     Divya\n",
       "Name: name, dtype: object"
      ]
     },
     "execution_count": 23,
     "metadata": {},
     "output_type": "execute_result"
    }
   ],
   "source": [
    "# Access values - [col][row]\n",
    "friendsRead['name']"
   ]
  },
  {
   "cell_type": "code",
   "execution_count": 24,
   "id": "39db7cc1-2384-42e0-9e3a-c5fa840bf567",
   "metadata": {},
   "outputs": [
    {
     "data": {
      "text/plain": [
       "'Anjali'"
      ]
     },
     "execution_count": 24,
     "metadata": {},
     "output_type": "execute_result"
    }
   ],
   "source": [
    "friendsRead['name'][3]"
   ]
  },
  {
   "cell_type": "code",
   "execution_count": 25,
   "id": "3dbaad7f-4bd0-4091-a678-77a7875fb40a",
   "metadata": {},
   "outputs": [
    {
     "name": "stderr",
     "output_type": "stream",
     "text": [
      "/var/folders/yv/_ddlvjkn6k11_jp7sl8jcy500000gn/T/ipykernel_61474/318388422.py:1: SettingWithCopyWarning: \n",
      "A value is trying to be set on a copy of a slice from a DataFrame\n",
      "\n",
      "See the caveats in the documentation: https://pandas.pydata.org/pandas-docs/stable/user_guide/indexing.html#returning-a-view-versus-a-copy\n",
      "  friendsRead['name'][3] = 'Anjalika'\n"
     ]
    }
   ],
   "source": [
    "friendsRead['name'][3] = 'Anjalika'"
   ]
  },
  {
   "cell_type": "code",
   "execution_count": 26,
   "id": "85767ac1-84e9-41f2-a2fa-8111ad2986d0",
   "metadata": {},
   "outputs": [
    {
     "data": {
      "text/plain": [
       "'Anjalika'"
      ]
     },
     "execution_count": 26,
     "metadata": {},
     "output_type": "execute_result"
    }
   ],
   "source": [
    "friendsRead['name'][3]"
   ]
  },
  {
   "cell_type": "code",
   "execution_count": 29,
   "id": "30dc6172-7171-4359-b63c-6f42a6a5a95e",
   "metadata": {},
   "outputs": [],
   "source": [
    "friendsRead.to_csv('friends-read.csv', index=False)"
   ]
  },
  {
   "cell_type": "code",
   "execution_count": 28,
   "id": "217f912c-cc5e-4eae-b9c0-3216b2c9cdb3",
   "metadata": {},
   "outputs": [
    {
     "data": {
      "text/html": [
       "<div>\n",
       "<style scoped>\n",
       "    .dataframe tbody tr th:only-of-type {\n",
       "        vertical-align: middle;\n",
       "    }\n",
       "\n",
       "    .dataframe tbody tr th {\n",
       "        vertical-align: top;\n",
       "    }\n",
       "\n",
       "    .dataframe thead th {\n",
       "        text-align: right;\n",
       "    }\n",
       "</style>\n",
       "<table border=\"1\" class=\"dataframe\">\n",
       "  <thead>\n",
       "    <tr style=\"text-align: right;\">\n",
       "      <th></th>\n",
       "      <th>name</th>\n",
       "      <th>city</th>\n",
       "      <th>marks</th>\n",
       "    </tr>\n",
       "  </thead>\n",
       "  <tbody>\n",
       "    <tr>\n",
       "      <th>0</th>\n",
       "      <td>Nitin</td>\n",
       "      <td>Bangalore</td>\n",
       "      <td>98</td>\n",
       "    </tr>\n",
       "    <tr>\n",
       "      <th>1</th>\n",
       "      <td>Shyam</td>\n",
       "      <td>Delhi</td>\n",
       "      <td>99</td>\n",
       "    </tr>\n",
       "    <tr>\n",
       "      <th>2</th>\n",
       "      <td>PAVAN</td>\n",
       "      <td>Vishakha</td>\n",
       "      <td>100</td>\n",
       "    </tr>\n",
       "    <tr>\n",
       "      <th>3</th>\n",
       "      <td>Anjalika</td>\n",
       "      <td>Mumbai</td>\n",
       "      <td>95</td>\n",
       "    </tr>\n",
       "    <tr>\n",
       "      <th>4</th>\n",
       "      <td>Ravi</td>\n",
       "      <td>Chennai</td>\n",
       "      <td>88</td>\n",
       "    </tr>\n",
       "    <tr>\n",
       "      <th>5</th>\n",
       "      <td>Meena</td>\n",
       "      <td>Hyderabad</td>\n",
       "      <td>92</td>\n",
       "    </tr>\n",
       "    <tr>\n",
       "      <th>6</th>\n",
       "      <td>Aman</td>\n",
       "      <td>Pune</td>\n",
       "      <td>85</td>\n",
       "    </tr>\n",
       "    <tr>\n",
       "      <th>7</th>\n",
       "      <td>Sneha</td>\n",
       "      <td>Kolkata</td>\n",
       "      <td>93</td>\n",
       "    </tr>\n",
       "    <tr>\n",
       "      <th>8</th>\n",
       "      <td>Raj</td>\n",
       "      <td>Ahmedabad</td>\n",
       "      <td>90</td>\n",
       "    </tr>\n",
       "    <tr>\n",
       "      <th>9</th>\n",
       "      <td>Divya</td>\n",
       "      <td>Jaipur</td>\n",
       "      <td>97</td>\n",
       "    </tr>\n",
       "  </tbody>\n",
       "</table>\n",
       "</div>"
      ],
      "text/plain": [
       "       name       city  marks\n",
       "0     Nitin  Bangalore     98\n",
       "1     Shyam      Delhi     99\n",
       "2     PAVAN   Vishakha    100\n",
       "3  Anjalika     Mumbai     95\n",
       "4      Ravi    Chennai     88\n",
       "5     Meena  Hyderabad     92\n",
       "6      Aman       Pune     85\n",
       "7     Sneha    Kolkata     93\n",
       "8       Raj  Ahmedabad     90\n",
       "9     Divya     Jaipur     97"
      ]
     },
     "execution_count": 28,
     "metadata": {},
     "output_type": "execute_result"
    }
   ],
   "source": [
    "friendsRead"
   ]
  },
  {
   "cell_type": "code",
   "execution_count": 30,
   "id": "0a64292b-f5c0-4818-af43-212f06089d28",
   "metadata": {},
   "outputs": [],
   "source": [
    "friendsRead.index = ['a', 'b', 'c', 'd', 'e', 'f', 'g', 'h', 'i', 'j',]"
   ]
  },
  {
   "cell_type": "code",
   "execution_count": 31,
   "id": "9a367651-a9fa-4fde-a232-dd0b6e9672a4",
   "metadata": {},
   "outputs": [
    {
     "data": {
      "text/html": [
       "<div>\n",
       "<style scoped>\n",
       "    .dataframe tbody tr th:only-of-type {\n",
       "        vertical-align: middle;\n",
       "    }\n",
       "\n",
       "    .dataframe tbody tr th {\n",
       "        vertical-align: top;\n",
       "    }\n",
       "\n",
       "    .dataframe thead th {\n",
       "        text-align: right;\n",
       "    }\n",
       "</style>\n",
       "<table border=\"1\" class=\"dataframe\">\n",
       "  <thead>\n",
       "    <tr style=\"text-align: right;\">\n",
       "      <th></th>\n",
       "      <th>name</th>\n",
       "      <th>city</th>\n",
       "      <th>marks</th>\n",
       "    </tr>\n",
       "  </thead>\n",
       "  <tbody>\n",
       "    <tr>\n",
       "      <th>a</th>\n",
       "      <td>Nitin</td>\n",
       "      <td>Bangalore</td>\n",
       "      <td>98</td>\n",
       "    </tr>\n",
       "    <tr>\n",
       "      <th>b</th>\n",
       "      <td>Shyam</td>\n",
       "      <td>Delhi</td>\n",
       "      <td>99</td>\n",
       "    </tr>\n",
       "    <tr>\n",
       "      <th>c</th>\n",
       "      <td>PAVAN</td>\n",
       "      <td>Vishakha</td>\n",
       "      <td>100</td>\n",
       "    </tr>\n",
       "    <tr>\n",
       "      <th>d</th>\n",
       "      <td>Anjalika</td>\n",
       "      <td>Mumbai</td>\n",
       "      <td>95</td>\n",
       "    </tr>\n",
       "    <tr>\n",
       "      <th>e</th>\n",
       "      <td>Ravi</td>\n",
       "      <td>Chennai</td>\n",
       "      <td>88</td>\n",
       "    </tr>\n",
       "    <tr>\n",
       "      <th>f</th>\n",
       "      <td>Meena</td>\n",
       "      <td>Hyderabad</td>\n",
       "      <td>92</td>\n",
       "    </tr>\n",
       "    <tr>\n",
       "      <th>g</th>\n",
       "      <td>Aman</td>\n",
       "      <td>Pune</td>\n",
       "      <td>85</td>\n",
       "    </tr>\n",
       "    <tr>\n",
       "      <th>h</th>\n",
       "      <td>Sneha</td>\n",
       "      <td>Kolkata</td>\n",
       "      <td>93</td>\n",
       "    </tr>\n",
       "    <tr>\n",
       "      <th>i</th>\n",
       "      <td>Raj</td>\n",
       "      <td>Ahmedabad</td>\n",
       "      <td>90</td>\n",
       "    </tr>\n",
       "    <tr>\n",
       "      <th>j</th>\n",
       "      <td>Divya</td>\n",
       "      <td>Jaipur</td>\n",
       "      <td>97</td>\n",
       "    </tr>\n",
       "  </tbody>\n",
       "</table>\n",
       "</div>"
      ],
      "text/plain": [
       "       name       city  marks\n",
       "a     Nitin  Bangalore     98\n",
       "b     Shyam      Delhi     99\n",
       "c     PAVAN   Vishakha    100\n",
       "d  Anjalika     Mumbai     95\n",
       "e      Ravi    Chennai     88\n",
       "f     Meena  Hyderabad     92\n",
       "g      Aman       Pune     85\n",
       "h     Sneha    Kolkata     93\n",
       "i       Raj  Ahmedabad     90\n",
       "j     Divya     Jaipur     97"
      ]
     },
     "execution_count": 31,
     "metadata": {},
     "output_type": "execute_result"
    }
   ],
   "source": [
    "friendsRead"
   ]
  },
  {
   "cell_type": "code",
   "execution_count": 33,
   "id": "b2e0ae02-8b44-4d02-bfdb-b6a35adc2fd2",
   "metadata": {},
   "outputs": [],
   "source": [
    "friendsRead.to_csv('friends-read.csv')"
   ]
  },
  {
   "cell_type": "markdown",
   "id": "ddaeb884-87ed-408a-adb6-42ba7f2dda0f",
   "metadata": {},
   "source": [
    "### Series Data Structure"
   ]
  },
  {
   "cell_type": "code",
   "execution_count": 35,
   "id": "5c2c8481-6835-4571-9cef-8a8e9b28dcfc",
   "metadata": {},
   "outputs": [
    {
     "data": {
      "text/plain": [
       "0    1\n",
       "1    2\n",
       "2    3\n",
       "3    4\n",
       "4    5\n",
       "dtype: int64"
      ]
     },
     "execution_count": 35,
     "metadata": {},
     "output_type": "execute_result"
    }
   ],
   "source": [
    "sr = pd.Series([1,2,3,4,5])\n",
    "sr"
   ]
  },
  {
   "cell_type": "code",
   "execution_count": 36,
   "id": "e2eae899-282e-4cd0-8e5f-0ed72801a027",
   "metadata": {},
   "outputs": [
    {
     "data": {
      "text/plain": [
       "pandas.core.series.Series"
      ]
     },
     "execution_count": 36,
     "metadata": {},
     "output_type": "execute_result"
    }
   ],
   "source": [
    "type(sr)"
   ]
  },
  {
   "cell_type": "code",
   "execution_count": 37,
   "id": "0529a594-ad1b-455c-a7c3-b560d6d22302",
   "metadata": {},
   "outputs": [
    {
     "data": {
      "text/plain": [
       "pandas.core.frame.DataFrame"
      ]
     },
     "execution_count": 37,
     "metadata": {},
     "output_type": "execute_result"
    }
   ],
   "source": [
    "type(friendsRead)"
   ]
  },
  {
   "cell_type": "code",
   "execution_count": 41,
   "id": "d9c810f9-cdd0-412f-a264-6187fc4796c8",
   "metadata": {},
   "outputs": [
    {
     "data": {
      "text/plain": [
       "0    3\n",
       "1    2\n",
       "2    9\n",
       "3    7\n",
       "4    3\n",
       "5    2\n",
       "6    6\n",
       "7    5\n",
       "8    8\n",
       "9    7\n",
       "dtype: int64"
      ]
     },
     "execution_count": 41,
     "metadata": {},
     "output_type": "execute_result"
    }
   ],
   "source": [
    "# random series\n",
    "randomSr = pd.Series( np.random.randint(1,10, size=10) )\n",
    "randomSr"
   ]
  },
  {
   "cell_type": "code",
   "execution_count": 42,
   "id": "815e6ac7-9c3d-4445-8d65-f53bff14e06c",
   "metadata": {},
   "outputs": [
    {
     "data": {
      "text/html": [
       "<div>\n",
       "<style scoped>\n",
       "    .dataframe tbody tr th:only-of-type {\n",
       "        vertical-align: middle;\n",
       "    }\n",
       "\n",
       "    .dataframe tbody tr th {\n",
       "        vertical-align: top;\n",
       "    }\n",
       "\n",
       "    .dataframe thead th {\n",
       "        text-align: right;\n",
       "    }\n",
       "</style>\n",
       "<table border=\"1\" class=\"dataframe\">\n",
       "  <thead>\n",
       "    <tr style=\"text-align: right;\">\n",
       "      <th></th>\n",
       "      <th>0</th>\n",
       "      <th>1</th>\n",
       "      <th>2</th>\n",
       "      <th>3</th>\n",
       "      <th>4</th>\n",
       "    </tr>\n",
       "  </thead>\n",
       "  <tbody>\n",
       "    <tr>\n",
       "      <th>0</th>\n",
       "      <td>60</td>\n",
       "      <td>3</td>\n",
       "      <td>24</td>\n",
       "      <td>5</td>\n",
       "      <td>10</td>\n",
       "    </tr>\n",
       "    <tr>\n",
       "      <th>1</th>\n",
       "      <td>1</td>\n",
       "      <td>74</td>\n",
       "      <td>77</td>\n",
       "      <td>56</td>\n",
       "      <td>62</td>\n",
       "    </tr>\n",
       "    <tr>\n",
       "      <th>2</th>\n",
       "      <td>92</td>\n",
       "      <td>65</td>\n",
       "      <td>10</td>\n",
       "      <td>70</td>\n",
       "      <td>31</td>\n",
       "    </tr>\n",
       "    <tr>\n",
       "      <th>3</th>\n",
       "      <td>13</td>\n",
       "      <td>79</td>\n",
       "      <td>91</td>\n",
       "      <td>11</td>\n",
       "      <td>85</td>\n",
       "    </tr>\n",
       "    <tr>\n",
       "      <th>4</th>\n",
       "      <td>34</td>\n",
       "      <td>65</td>\n",
       "      <td>18</td>\n",
       "      <td>71</td>\n",
       "      <td>25</td>\n",
       "    </tr>\n",
       "  </tbody>\n",
       "</table>\n",
       "</div>"
      ],
      "text/plain": [
       "    0   1   2   3   4\n",
       "0  60   3  24   5  10\n",
       "1   1  74  77  56  62\n",
       "2  92  65  10  70  31\n",
       "3  13  79  91  11  85\n",
       "4  34  65  18  71  25"
      ]
     },
     "execution_count": 42,
     "metadata": {},
     "output_type": "execute_result"
    }
   ],
   "source": [
    "randomDf = pd.DataFrame(np.random.randint(1,101, size=(5,5)))\n",
    "randomDf"
   ]
  },
  {
   "cell_type": "code",
   "execution_count": 44,
   "id": "c2c36f0e-4c97-48f2-9d92-d5e90f8e5fd4",
   "metadata": {},
   "outputs": [
    {
     "data": {
      "text/html": [
       "<div>\n",
       "<style scoped>\n",
       "    .dataframe tbody tr th:only-of-type {\n",
       "        vertical-align: middle;\n",
       "    }\n",
       "\n",
       "    .dataframe tbody tr th {\n",
       "        vertical-align: top;\n",
       "    }\n",
       "\n",
       "    .dataframe thead th {\n",
       "        text-align: right;\n",
       "    }\n",
       "</style>\n",
       "<table border=\"1\" class=\"dataframe\">\n",
       "  <thead>\n",
       "    <tr style=\"text-align: right;\">\n",
       "      <th></th>\n",
       "      <th>0</th>\n",
       "      <th>1</th>\n",
       "      <th>2</th>\n",
       "      <th>3</th>\n",
       "      <th>4</th>\n",
       "    </tr>\n",
       "  </thead>\n",
       "  <tbody>\n",
       "    <tr>\n",
       "      <th>count</th>\n",
       "      <td>5.00000</td>\n",
       "      <td>5.000000</td>\n",
       "      <td>5.000000</td>\n",
       "      <td>5.000000</td>\n",
       "      <td>5.000000</td>\n",
       "    </tr>\n",
       "    <tr>\n",
       "      <th>mean</th>\n",
       "      <td>40.00000</td>\n",
       "      <td>57.200000</td>\n",
       "      <td>44.000000</td>\n",
       "      <td>42.600000</td>\n",
       "      <td>42.600000</td>\n",
       "    </tr>\n",
       "    <tr>\n",
       "      <th>std</th>\n",
       "      <td>36.70831</td>\n",
       "      <td>30.890128</td>\n",
       "      <td>37.181985</td>\n",
       "      <td>32.207142</td>\n",
       "      <td>30.336447</td>\n",
       "    </tr>\n",
       "    <tr>\n",
       "      <th>min</th>\n",
       "      <td>1.00000</td>\n",
       "      <td>3.000000</td>\n",
       "      <td>10.000000</td>\n",
       "      <td>5.000000</td>\n",
       "      <td>10.000000</td>\n",
       "    </tr>\n",
       "    <tr>\n",
       "      <th>25%</th>\n",
       "      <td>13.00000</td>\n",
       "      <td>65.000000</td>\n",
       "      <td>18.000000</td>\n",
       "      <td>11.000000</td>\n",
       "      <td>25.000000</td>\n",
       "    </tr>\n",
       "    <tr>\n",
       "      <th>50%</th>\n",
       "      <td>34.00000</td>\n",
       "      <td>65.000000</td>\n",
       "      <td>24.000000</td>\n",
       "      <td>56.000000</td>\n",
       "      <td>31.000000</td>\n",
       "    </tr>\n",
       "    <tr>\n",
       "      <th>75%</th>\n",
       "      <td>60.00000</td>\n",
       "      <td>74.000000</td>\n",
       "      <td>77.000000</td>\n",
       "      <td>70.000000</td>\n",
       "      <td>62.000000</td>\n",
       "    </tr>\n",
       "    <tr>\n",
       "      <th>max</th>\n",
       "      <td>92.00000</td>\n",
       "      <td>79.000000</td>\n",
       "      <td>91.000000</td>\n",
       "      <td>71.000000</td>\n",
       "      <td>85.000000</td>\n",
       "    </tr>\n",
       "  </tbody>\n",
       "</table>\n",
       "</div>"
      ],
      "text/plain": [
       "              0          1          2          3          4\n",
       "count   5.00000   5.000000   5.000000   5.000000   5.000000\n",
       "mean   40.00000  57.200000  44.000000  42.600000  42.600000\n",
       "std    36.70831  30.890128  37.181985  32.207142  30.336447\n",
       "min     1.00000   3.000000  10.000000   5.000000  10.000000\n",
       "25%    13.00000  65.000000  18.000000  11.000000  25.000000\n",
       "50%    34.00000  65.000000  24.000000  56.000000  31.000000\n",
       "75%    60.00000  74.000000  77.000000  70.000000  62.000000\n",
       "max    92.00000  79.000000  91.000000  71.000000  85.000000"
      ]
     },
     "execution_count": 44,
     "metadata": {},
     "output_type": "execute_result"
    }
   ],
   "source": [
    "randomDf.describe()"
   ]
  },
  {
   "cell_type": "code",
   "execution_count": 53,
   "id": "5f632bd0-dc4b-4513-b034-41eeb11340aa",
   "metadata": {},
   "outputs": [
    {
     "data": {
      "text/html": [
       "<div>\n",
       "<style scoped>\n",
       "    .dataframe tbody tr th:only-of-type {\n",
       "        vertical-align: middle;\n",
       "    }\n",
       "\n",
       "    .dataframe tbody tr th {\n",
       "        vertical-align: top;\n",
       "    }\n",
       "\n",
       "    .dataframe thead th {\n",
       "        text-align: right;\n",
       "    }\n",
       "</style>\n",
       "<table border=\"1\" class=\"dataframe\">\n",
       "  <thead>\n",
       "    <tr style=\"text-align: right;\">\n",
       "      <th></th>\n",
       "      <th>0</th>\n",
       "      <th>1</th>\n",
       "      <th>2</th>\n",
       "      <th>3</th>\n",
       "      <th>4</th>\n",
       "    </tr>\n",
       "  </thead>\n",
       "  <tbody>\n",
       "    <tr>\n",
       "      <th>0</th>\n",
       "      <td>70</td>\n",
       "      <td>10</td>\n",
       "      <td>50</td>\n",
       "      <td>8</td>\n",
       "      <td>2</td>\n",
       "    </tr>\n",
       "    <tr>\n",
       "      <th>1</th>\n",
       "      <td>90</td>\n",
       "      <td>63</td>\n",
       "      <td>82</td>\n",
       "      <td>14</td>\n",
       "      <td>97</td>\n",
       "    </tr>\n",
       "    <tr>\n",
       "      <th>2</th>\n",
       "      <td>48</td>\n",
       "      <td>13</td>\n",
       "      <td>35</td>\n",
       "      <td>45</td>\n",
       "      <td>56</td>\n",
       "    </tr>\n",
       "    <tr>\n",
       "      <th>3</th>\n",
       "      <td>11</td>\n",
       "      <td>80</td>\n",
       "      <td>56</td>\n",
       "      <td>9</td>\n",
       "      <td>58</td>\n",
       "    </tr>\n",
       "    <tr>\n",
       "      <th>4</th>\n",
       "      <td>84</td>\n",
       "      <td>70</td>\n",
       "      <td>19</td>\n",
       "      <td>11</td>\n",
       "      <td>48</td>\n",
       "    </tr>\n",
       "  </tbody>\n",
       "</table>\n",
       "</div>"
      ],
      "text/plain": [
       "    0   1   2   3   4\n",
       "0  70  10  50   8   2\n",
       "1  90  63  82  14  97\n",
       "2  48  13  35  45  56\n",
       "3  11  80  56   9  58\n",
       "4  84  70  19  11  48"
      ]
     },
     "execution_count": 53,
     "metadata": {},
     "output_type": "execute_result"
    }
   ],
   "source": [
    "randomDf1 = pd.DataFrame(np.random.randint(1,101, size=(200,5)))\n",
    "randomDf1.head()"
   ]
  },
  {
   "cell_type": "code",
   "execution_count": 49,
   "id": "c1fc1e4f-17e0-442c-ba29-f44e43e5dc0f",
   "metadata": {},
   "outputs": [
    {
     "data": {
      "text/html": [
       "<div>\n",
       "<style scoped>\n",
       "    .dataframe tbody tr th:only-of-type {\n",
       "        vertical-align: middle;\n",
       "    }\n",
       "\n",
       "    .dataframe tbody tr th {\n",
       "        vertical-align: top;\n",
       "    }\n",
       "\n",
       "    .dataframe thead th {\n",
       "        text-align: right;\n",
       "    }\n",
       "</style>\n",
       "<table border=\"1\" class=\"dataframe\">\n",
       "  <thead>\n",
       "    <tr style=\"text-align: right;\">\n",
       "      <th></th>\n",
       "      <th>0</th>\n",
       "      <th>1</th>\n",
       "      <th>2</th>\n",
       "      <th>3</th>\n",
       "      <th>4</th>\n",
       "    </tr>\n",
       "  </thead>\n",
       "  <tbody>\n",
       "    <tr>\n",
       "      <th>0</th>\n",
       "      <td>30</td>\n",
       "      <td>78</td>\n",
       "      <td>49</td>\n",
       "      <td>46</td>\n",
       "      <td>66</td>\n",
       "    </tr>\n",
       "    <tr>\n",
       "      <th>1</th>\n",
       "      <td>48</td>\n",
       "      <td>46</td>\n",
       "      <td>7</td>\n",
       "      <td>95</td>\n",
       "      <td>75</td>\n",
       "    </tr>\n",
       "    <tr>\n",
       "      <th>2</th>\n",
       "      <td>42</td>\n",
       "      <td>52</td>\n",
       "      <td>33</td>\n",
       "      <td>47</td>\n",
       "      <td>21</td>\n",
       "    </tr>\n",
       "    <tr>\n",
       "      <th>3</th>\n",
       "      <td>78</td>\n",
       "      <td>53</td>\n",
       "      <td>90</td>\n",
       "      <td>7</td>\n",
       "      <td>43</td>\n",
       "    </tr>\n",
       "    <tr>\n",
       "      <th>4</th>\n",
       "      <td>77</td>\n",
       "      <td>79</td>\n",
       "      <td>57</td>\n",
       "      <td>74</td>\n",
       "      <td>50</td>\n",
       "    </tr>\n",
       "  </tbody>\n",
       "</table>\n",
       "</div>"
      ],
      "text/plain": [
       "    0   1   2   3   4\n",
       "0  30  78  49  46  66\n",
       "1  48  46   7  95  75\n",
       "2  42  52  33  47  21\n",
       "3  78  53  90   7  43\n",
       "4  77  79  57  74  50"
      ]
     },
     "execution_count": 49,
     "metadata": {},
     "output_type": "execute_result"
    }
   ],
   "source": [
    "randomDf1.head()"
   ]
  },
  {
   "cell_type": "code",
   "execution_count": 47,
   "id": "028d0bc1-1ea3-4b5c-8df4-59d32686c2ef",
   "metadata": {},
   "outputs": [
    {
     "data": {
      "text/html": [
       "<div>\n",
       "<style scoped>\n",
       "    .dataframe tbody tr th:only-of-type {\n",
       "        vertical-align: middle;\n",
       "    }\n",
       "\n",
       "    .dataframe tbody tr th {\n",
       "        vertical-align: top;\n",
       "    }\n",
       "\n",
       "    .dataframe thead th {\n",
       "        text-align: right;\n",
       "    }\n",
       "</style>\n",
       "<table border=\"1\" class=\"dataframe\">\n",
       "  <thead>\n",
       "    <tr style=\"text-align: right;\">\n",
       "      <th></th>\n",
       "      <th>0</th>\n",
       "      <th>1</th>\n",
       "      <th>2</th>\n",
       "      <th>3</th>\n",
       "      <th>4</th>\n",
       "    </tr>\n",
       "  </thead>\n",
       "  <tbody>\n",
       "    <tr>\n",
       "      <th>195</th>\n",
       "      <td>28</td>\n",
       "      <td>73</td>\n",
       "      <td>72</td>\n",
       "      <td>65</td>\n",
       "      <td>75</td>\n",
       "    </tr>\n",
       "    <tr>\n",
       "      <th>196</th>\n",
       "      <td>24</td>\n",
       "      <td>76</td>\n",
       "      <td>26</td>\n",
       "      <td>95</td>\n",
       "      <td>37</td>\n",
       "    </tr>\n",
       "    <tr>\n",
       "      <th>197</th>\n",
       "      <td>81</td>\n",
       "      <td>9</td>\n",
       "      <td>26</td>\n",
       "      <td>61</td>\n",
       "      <td>42</td>\n",
       "    </tr>\n",
       "    <tr>\n",
       "      <th>198</th>\n",
       "      <td>78</td>\n",
       "      <td>75</td>\n",
       "      <td>69</td>\n",
       "      <td>7</td>\n",
       "      <td>64</td>\n",
       "    </tr>\n",
       "    <tr>\n",
       "      <th>199</th>\n",
       "      <td>67</td>\n",
       "      <td>20</td>\n",
       "      <td>41</td>\n",
       "      <td>3</td>\n",
       "      <td>26</td>\n",
       "    </tr>\n",
       "  </tbody>\n",
       "</table>\n",
       "</div>"
      ],
      "text/plain": [
       "      0   1   2   3   4\n",
       "195  28  73  72  65  75\n",
       "196  24  76  26  95  37\n",
       "197  81   9  26  61  42\n",
       "198  78  75  69   7  64\n",
       "199  67  20  41   3  26"
      ]
     },
     "execution_count": 47,
     "metadata": {},
     "output_type": "execute_result"
    }
   ],
   "source": [
    "randomDf1.tail()"
   ]
  },
  {
   "cell_type": "code",
   "execution_count": 50,
   "id": "4f035182-bf79-415c-b130-a6b967fbc44c",
   "metadata": {},
   "outputs": [
    {
     "data": {
      "text/plain": [
       "RangeIndex(start=0, stop=200, step=1)"
      ]
     },
     "execution_count": 50,
     "metadata": {},
     "output_type": "execute_result"
    }
   ],
   "source": [
    "randomDf1.index"
   ]
  },
  {
   "cell_type": "code",
   "execution_count": 51,
   "id": "6058840c-e8e2-48d8-8551-c23aa2cec4f2",
   "metadata": {},
   "outputs": [
    {
     "data": {
      "text/plain": [
       "RangeIndex(start=0, stop=5, step=1)"
      ]
     },
     "execution_count": 51,
     "metadata": {},
     "output_type": "execute_result"
    }
   ],
   "source": [
    "randomDf1.columns"
   ]
  },
  {
   "cell_type": "code",
   "execution_count": 52,
   "id": "2d97bdc9-72fd-421b-8650-6e8e0cd56e6a",
   "metadata": {},
   "outputs": [
    {
     "data": {
      "text/plain": [
       "array([[ 30,  78,  49,  46,  66],\n",
       "       [ 48,  46,   7,  95,  75],\n",
       "       [ 42,  52,  33,  47,  21],\n",
       "       [ 78,  53,  90,   7,  43],\n",
       "       [ 77,  79,  57,  74,  50],\n",
       "       [  1,  52,  62,  29,  42],\n",
       "       [ 59,  34,  87,  44,  80],\n",
       "       [ 84,  31,  56,  78,  90],\n",
       "       [ 85,  15,  25,  99,  97],\n",
       "       [ 56,  99,  51,  25,  88],\n",
       "       [ 68,  71,  14,  22,  74],\n",
       "       [ 43,  34,  72,  38,  25],\n",
       "       [ 66,  87,  65,  19,  92],\n",
       "       [ 21,  21,  38,  57,  54],\n",
       "       [  3,  27,  68,  96,  40],\n",
       "       [ 10,  73,  62,  74,  48],\n",
       "       [  2,  21,  71,  77,  84],\n",
       "       [ 64,  15,  29,  83,  29],\n",
       "       [ 90,  28,  59,  45,  41],\n",
       "       [ 75,  50,  54,  81,  31],\n",
       "       [ 31,  36,  46,  58,  60],\n",
       "       [ 89,  65,  72,  88,  64],\n",
       "       [ 82,  53,   8,   4,  19],\n",
       "       [ 47,  68,  24,  38,  55],\n",
       "       [ 54,  24,  38,  43,  17],\n",
       "       [ 62,  67,  35,  36,  30],\n",
       "       [ 64,  81,  87,  47,  94],\n",
       "       [ 24,  65,   9,  43,  27],\n",
       "       [ 14,  22,  79,  92,  17],\n",
       "       [ 46,  17,  31,  72,  63],\n",
       "       [ 53, 100, 100,  99,  75],\n",
       "       [ 31,  74,   7,  80,  74],\n",
       "       [ 13,  88,  64,  60,   6],\n",
       "       [ 38,  35,  81,  65,  30],\n",
       "       [ 54,  60,  63,  90,  98],\n",
       "       [ 13,   9,  85,  55,  21],\n",
       "       [ 28,  90,   2,  26,  12],\n",
       "       [ 30,  97,  37,  57,  76],\n",
       "       [ 35,  10,  83,  77,  25],\n",
       "       [ 14,  43,  17,  18,  91],\n",
       "       [ 59,  39,  87,  93,  25],\n",
       "       [ 79,  30,  80,  78,  42],\n",
       "       [ 91,  65,  39,  35,   5],\n",
       "       [ 14,  69,  10,  57,  29],\n",
       "       [ 76,  23,  14,  41,  59],\n",
       "       [ 68,  75,  60,  18,  34],\n",
       "       [ 41,  16,  90,  68,  47],\n",
       "       [ 14,  88,  15,  90,  39],\n",
       "       [ 50,  77,  30,  10,  43],\n",
       "       [ 95,   6,  88,  81,  22],\n",
       "       [ 46,  59,  15,  77,  15],\n",
       "       [ 73,  78,  35,  88,  79],\n",
       "       [ 12,  31,  39,  77,  67],\n",
       "       [ 12,  57,  47,  35,  22],\n",
       "       [ 32,  13,  28,  38,  78],\n",
       "       [ 97,   5,   5,  69,  84],\n",
       "       [ 49,  51,   9,   4,  54],\n",
       "       [ 20,  73,  29,  61,  66],\n",
       "       [ 30,  18,  13,  49,  64],\n",
       "       [ 49,  61,  27,  46,  60],\n",
       "       [ 79,  98,  49,  98,  24],\n",
       "       [  3,  61,  69,   3,  90],\n",
       "       [ 20,   9,  94,  31,  34],\n",
       "       [ 83,  57,  13,  11,  23],\n",
       "       [ 18,  18,   4,  13,  91],\n",
       "       [ 38,  71,  53,   1,  99],\n",
       "       [ 56,   5,   2,  52,  62],\n",
       "       [ 48,  49,  84,  91,  41],\n",
       "       [ 67,  54,  47,  17,  63],\n",
       "       [ 45,  68,   7,  21,  47],\n",
       "       [ 51,  71,  87,  60,   3],\n",
       "       [ 74,  73,  39,  24,  12],\n",
       "       [ 20,  56,  84,  43,  49],\n",
       "       [ 49,  59,  42,  59,  90],\n",
       "       [ 31,  33,  50,  73,  67],\n",
       "       [ 99,  93,  75,  83,  15],\n",
       "       [  8,  88,   5,  44,  86],\n",
       "       [ 38,  93,  55,  22,   2],\n",
       "       [ 94,  37,  82,  14,  90],\n",
       "       [ 78,  40,  23,  10,  20],\n",
       "       [ 50,  35,  58,   7,  64],\n",
       "       [ 43,  30,  80,  54,   5],\n",
       "       [ 97,  12,  40,  89,  19],\n",
       "       [  7,  47,  92,  42,  31],\n",
       "       [ 22,  92,  93,  98,  74],\n",
       "       [  9,  35,   9,  75,  12],\n",
       "       [ 89,  51,  57,  56,  50],\n",
       "       [ 77,  45,  22,  78,   2],\n",
       "       [ 52,  41,  40,   1,  32],\n",
       "       [ 10,  39,  66,  14,  74],\n",
       "       [ 58,  25,  16,  12,  60],\n",
       "       [ 64,  86,  75,  17,  53],\n",
       "       [ 70,  50,  22,  59,  76],\n",
       "       [ 64,  24,  73,  57,  97],\n",
       "       [  7,  58,  42,  11,  26],\n",
       "       [ 72,  73,  35,  17,  16],\n",
       "       [ 12,  34,  58,  37,  51],\n",
       "       [ 76,  78,  83,  71,  33],\n",
       "       [ 16,  92,  78,  93, 100],\n",
       "       [ 97,  44,  47,  59,  46],\n",
       "       [ 65,  88,  60,  95,  33],\n",
       "       [ 92,  84,  61,  79,  51],\n",
       "       [ 57,  57,   2,  18,  61],\n",
       "       [ 45,  28,  62,  62,  62],\n",
       "       [ 21,   4,  88,  87,  69],\n",
       "       [  9,  93,  22,  21,  96],\n",
       "       [ 63,   5,  20,  63,  49],\n",
       "       [ 76,  29,  26,  50,  53],\n",
       "       [ 87,  96,  52,  90,  97],\n",
       "       [ 41,  57,  57,  68,  82],\n",
       "       [ 41,  19,  83,  50,  16],\n",
       "       [ 58,  24,  72,   3,  94],\n",
       "       [ 10,  19,  65,  84,  90],\n",
       "       [  4,  46,  97, 100,   4],\n",
       "       [ 32,  71,   6,  24,  50],\n",
       "       [ 82,  73,  84,  21,  46],\n",
       "       [ 70,  96,  29,  87,  54],\n",
       "       [ 43,  88,  24,   9,  77],\n",
       "       [ 30,  80,  38,  63,  67],\n",
       "       [ 67,  54,   4,  99,  29],\n",
       "       [ 86,  86,  70,  46,  26],\n",
       "       [ 58,  67,  19,  54,  27],\n",
       "       [ 83, 100,  37,  28,  92],\n",
       "       [ 76,  24,  34,  86,  30],\n",
       "       [  8,  22,  85,  69,  17],\n",
       "       [ 70,  38,  69,  68,  84],\n",
       "       [ 74,  67,  75,  62,  54],\n",
       "       [ 10,  15,   3,  85,  53],\n",
       "       [ 54,  76,  28,   8,  20],\n",
       "       [ 19,  74,  56,  49,  75],\n",
       "       [ 22,   1,   2,   4,  70],\n",
       "       [ 30,  46,  90,  42,  36],\n",
       "       [ 94,  77,   4,  54,  13],\n",
       "       [ 55,  83,  98,  72,  63],\n",
       "       [ 75,  25,  31,  77,  64],\n",
       "       [ 64,  69,  66,  96,  66],\n",
       "       [ 93,  10,  11,  59,   1],\n",
       "       [ 37,  51,  66,  80,  60],\n",
       "       [ 80,  74,   1,  92,  91],\n",
       "       [  8,  79,  95,  85,  41],\n",
       "       [ 61,  52,  40,  75,  25],\n",
       "       [ 36,  93,  35,  79,  33],\n",
       "       [ 23,  24,   3,  84,  26],\n",
       "       [ 27,  48,   6,  59,  31],\n",
       "       [ 51,  61,  88,   9,  29],\n",
       "       [ 29,  52,  72,  59,  62],\n",
       "       [ 61,  94,  30,  57,  14],\n",
       "       [ 92,  92,  81,  59,  81],\n",
       "       [ 46,  23,  19,  69,  58],\n",
       "       [ 86,  47,  59,  28,  85],\n",
       "       [ 47,   6,  54,  25,  65],\n",
       "       [ 42,  43,   6,  23,  18],\n",
       "       [ 65,  67,  24,  60,  47],\n",
       "       [ 16,  64,  35,   8,   3],\n",
       "       [ 36,   8,  52,  37,  68],\n",
       "       [ 35,  13,  43,   5,  62],\n",
       "       [ 13,  57,  80,  45,  23],\n",
       "       [ 95,  96,  26,  10,  53],\n",
       "       [ 41,  93,  30,  82,   5],\n",
       "       [ 44,  58,   7,  31,  14],\n",
       "       [ 13,  22,  34,  74,  27],\n",
       "       [ 42,  34,  43,  20,  37],\n",
       "       [ 20,  59,  72,  35,  85],\n",
       "       [ 46,  91,  61,  42,  48],\n",
       "       [ 14,  41,  39,  94,  59],\n",
       "       [ 70,  95,  83,  43,  31],\n",
       "       [ 35,  11,   8,  12,  89],\n",
       "       [  8, 100,  51,  24,  92],\n",
       "       [ 21,  20,  98,  43,  54],\n",
       "       [ 56,  10,  70,  56,  89],\n",
       "       [ 35,  54,  43,  26,   7],\n",
       "       [ 79,  46, 100,  31,  61],\n",
       "       [ 59,  63,  63,  82,  44],\n",
       "       [ 66,  42,  78,   1,  92],\n",
       "       [ 71,  88,   4,   3,  67],\n",
       "       [ 52,  16,  17,  95,  51],\n",
       "       [ 61,   6,  60,  56,  20],\n",
       "       [ 29,  88,  28,  46,  10],\n",
       "       [ 92,  13,  37,  87,  44],\n",
       "       [ 53,  32,  35,  53,  75],\n",
       "       [ 94,  28,  67,  55,  87],\n",
       "       [ 72,   3,  58,  74,  10],\n",
       "       [ 58,  71,  18,  89,  72],\n",
       "       [ 14,  87,   3,  79,  81],\n",
       "       [ 17,  99,  87,   3,  94],\n",
       "       [ 49,  31,  97,  70,  48],\n",
       "       [ 63,  53,  86,  95,  79],\n",
       "       [ 96,  86,  76,   3,  82],\n",
       "       [ 41,  96,  95,  30,  24],\n",
       "       [ 76,   7,  44,  68,  15],\n",
       "       [ 91,  14,  19,  92,  47],\n",
       "       [ 78,  29,  70,  51,  84],\n",
       "       [ 66,  88,  40,   7,  75],\n",
       "       [  5,  10,  72,  13,  15],\n",
       "       [ 44,  87,  66,  31,  10],\n",
       "       [ 28,  73,  72,  65,  75],\n",
       "       [ 24,  76,  26,  95,  37],\n",
       "       [ 81,   9,  26,  61,  42],\n",
       "       [ 78,  75,  69,   7,  64],\n",
       "       [ 67,  20,  41,   3,  26]])"
      ]
     },
     "execution_count": 52,
     "metadata": {},
     "output_type": "execute_result"
    }
   ],
   "source": [
    "randomDf1.to_numpy()"
   ]
  },
  {
   "cell_type": "code",
   "execution_count": 55,
   "id": "f34d2634-e6dc-45fc-87fb-878d15293760",
   "metadata": {},
   "outputs": [
    {
     "data": {
      "text/plain": [
       "a    1\n",
       "b    2\n",
       "c    3\n",
       "dtype: int64"
      ]
     },
     "execution_count": 55,
     "metadata": {},
     "output_type": "execute_result"
    }
   ],
   "source": [
    "sr2 = pd.Series([1,2,3], index=['a', 'b', 'c'])\n",
    "sr2"
   ]
  },
  {
   "cell_type": "code",
   "execution_count": 56,
   "id": "df5abf54-e6bf-40e2-a6f0-a0faa64ff291",
   "metadata": {},
   "outputs": [
    {
     "data": {
      "text/plain": [
       "3"
      ]
     },
     "execution_count": 56,
     "metadata": {},
     "output_type": "execute_result"
    }
   ],
   "source": [
    "sr2['c']"
   ]
  },
  {
   "cell_type": "code",
   "execution_count": 57,
   "id": "37c291e4-388b-4f7a-84bf-4207e95eebec",
   "metadata": {},
   "outputs": [
    {
     "data": {
      "text/html": [
       "<div>\n",
       "<style scoped>\n",
       "    .dataframe tbody tr th:only-of-type {\n",
       "        vertical-align: middle;\n",
       "    }\n",
       "\n",
       "    .dataframe tbody tr th {\n",
       "        vertical-align: top;\n",
       "    }\n",
       "\n",
       "    .dataframe thead th {\n",
       "        text-align: right;\n",
       "    }\n",
       "</style>\n",
       "<table border=\"1\" class=\"dataframe\">\n",
       "  <thead>\n",
       "    <tr style=\"text-align: right;\">\n",
       "      <th></th>\n",
       "      <th>Name</th>\n",
       "      <th>Age</th>\n",
       "    </tr>\n",
       "  </thead>\n",
       "  <tbody>\n",
       "    <tr>\n",
       "      <th>0</th>\n",
       "      <td>Tom</td>\n",
       "      <td>28</td>\n",
       "    </tr>\n",
       "    <tr>\n",
       "      <th>1</th>\n",
       "      <td>Jerry</td>\n",
       "      <td>31</td>\n",
       "    </tr>\n",
       "  </tbody>\n",
       "</table>\n",
       "</div>"
      ],
      "text/plain": [
       "    Name  Age\n",
       "0    Tom   28\n",
       "1  Jerry   31"
      ]
     },
     "execution_count": 57,
     "metadata": {},
     "output_type": "execute_result"
    }
   ],
   "source": [
    "df2 = pd.DataFrame([\n",
    "    ['Tom', 28],\n",
    "    ['Jerry', 31]\n",
    "], columns=['Name', 'Age'])\n",
    "df2"
   ]
  },
  {
   "cell_type": "code",
   "execution_count": 58,
   "id": "8aa47d60-7013-4136-9ba5-f5f02fd229fd",
   "metadata": {},
   "outputs": [],
   "source": [
    "df2['City'] = ['Delhi', 'Mumbai']"
   ]
  },
  {
   "cell_type": "code",
   "execution_count": 59,
   "id": "799de367-36c5-437f-bdef-6e8d7f64c963",
   "metadata": {},
   "outputs": [
    {
     "data": {
      "text/html": [
       "<div>\n",
       "<style scoped>\n",
       "    .dataframe tbody tr th:only-of-type {\n",
       "        vertical-align: middle;\n",
       "    }\n",
       "\n",
       "    .dataframe tbody tr th {\n",
       "        vertical-align: top;\n",
       "    }\n",
       "\n",
       "    .dataframe thead th {\n",
       "        text-align: right;\n",
       "    }\n",
       "</style>\n",
       "<table border=\"1\" class=\"dataframe\">\n",
       "  <thead>\n",
       "    <tr style=\"text-align: right;\">\n",
       "      <th></th>\n",
       "      <th>Name</th>\n",
       "      <th>Age</th>\n",
       "      <th>City</th>\n",
       "    </tr>\n",
       "  </thead>\n",
       "  <tbody>\n",
       "    <tr>\n",
       "      <th>0</th>\n",
       "      <td>Tom</td>\n",
       "      <td>28</td>\n",
       "      <td>Delhi</td>\n",
       "    </tr>\n",
       "    <tr>\n",
       "      <th>1</th>\n",
       "      <td>Jerry</td>\n",
       "      <td>31</td>\n",
       "      <td>Mumbai</td>\n",
       "    </tr>\n",
       "  </tbody>\n",
       "</table>\n",
       "</div>"
      ],
      "text/plain": [
       "    Name  Age    City\n",
       "0    Tom   28   Delhi\n",
       "1  Jerry   31  Mumbai"
      ]
     },
     "execution_count": 59,
     "metadata": {},
     "output_type": "execute_result"
    }
   ],
   "source": [
    "df2"
   ]
  },
  {
   "cell_type": "code",
   "execution_count": 60,
   "id": "8dda7f40-4aaa-4618-84bb-36e3c138deac",
   "metadata": {},
   "outputs": [
    {
     "data": {
      "text/html": [
       "<div>\n",
       "<style scoped>\n",
       "    .dataframe tbody tr th:only-of-type {\n",
       "        vertical-align: middle;\n",
       "    }\n",
       "\n",
       "    .dataframe tbody tr th {\n",
       "        vertical-align: top;\n",
       "    }\n",
       "\n",
       "    .dataframe thead th {\n",
       "        text-align: right;\n",
       "    }\n",
       "</style>\n",
       "<table border=\"1\" class=\"dataframe\">\n",
       "  <thead>\n",
       "    <tr style=\"text-align: right;\">\n",
       "      <th></th>\n",
       "      <th>Name</th>\n",
       "      <th>City</th>\n",
       "    </tr>\n",
       "  </thead>\n",
       "  <tbody>\n",
       "    <tr>\n",
       "      <th>0</th>\n",
       "      <td>Tom</td>\n",
       "      <td>Delhi</td>\n",
       "    </tr>\n",
       "    <tr>\n",
       "      <th>1</th>\n",
       "      <td>Jerry</td>\n",
       "      <td>Mumbai</td>\n",
       "    </tr>\n",
       "  </tbody>\n",
       "</table>\n",
       "</div>"
      ],
      "text/plain": [
       "    Name    City\n",
       "0    Tom   Delhi\n",
       "1  Jerry  Mumbai"
      ]
     },
     "execution_count": 60,
     "metadata": {},
     "output_type": "execute_result"
    }
   ],
   "source": [
    "df2.drop('Age', axis=1)"
   ]
  },
  {
   "cell_type": "code",
   "execution_count": 61,
   "id": "7bf6fe0e-b9a6-4744-b756-9393412cdcd7",
   "metadata": {},
   "outputs": [
    {
     "data": {
      "text/html": [
       "<div>\n",
       "<style scoped>\n",
       "    .dataframe tbody tr th:only-of-type {\n",
       "        vertical-align: middle;\n",
       "    }\n",
       "\n",
       "    .dataframe tbody tr th {\n",
       "        vertical-align: top;\n",
       "    }\n",
       "\n",
       "    .dataframe thead th {\n",
       "        text-align: right;\n",
       "    }\n",
       "</style>\n",
       "<table border=\"1\" class=\"dataframe\">\n",
       "  <thead>\n",
       "    <tr style=\"text-align: right;\">\n",
       "      <th></th>\n",
       "      <th>Name</th>\n",
       "      <th>Age</th>\n",
       "      <th>City</th>\n",
       "    </tr>\n",
       "  </thead>\n",
       "  <tbody>\n",
       "    <tr>\n",
       "      <th>0</th>\n",
       "      <td>Tom</td>\n",
       "      <td>28</td>\n",
       "      <td>Delhi</td>\n",
       "    </tr>\n",
       "    <tr>\n",
       "      <th>1</th>\n",
       "      <td>Jerry</td>\n",
       "      <td>31</td>\n",
       "      <td>Mumbai</td>\n",
       "    </tr>\n",
       "  </tbody>\n",
       "</table>\n",
       "</div>"
      ],
      "text/plain": [
       "    Name  Age    City\n",
       "0    Tom   28   Delhi\n",
       "1  Jerry   31  Mumbai"
      ]
     },
     "execution_count": 61,
     "metadata": {},
     "output_type": "execute_result"
    }
   ],
   "source": [
    "df2"
   ]
  },
  {
   "cell_type": "code",
   "execution_count": 62,
   "id": "6c2ead1f-3708-401b-b96c-046b18567c3c",
   "metadata": {},
   "outputs": [],
   "source": [
    "df2.drop('Age', axis=1, inplace=True)"
   ]
  },
  {
   "cell_type": "code",
   "execution_count": 63,
   "id": "81bfa127-8864-41af-96a3-45727de39149",
   "metadata": {},
   "outputs": [
    {
     "data": {
      "text/html": [
       "<div>\n",
       "<style scoped>\n",
       "    .dataframe tbody tr th:only-of-type {\n",
       "        vertical-align: middle;\n",
       "    }\n",
       "\n",
       "    .dataframe tbody tr th {\n",
       "        vertical-align: top;\n",
       "    }\n",
       "\n",
       "    .dataframe thead th {\n",
       "        text-align: right;\n",
       "    }\n",
       "</style>\n",
       "<table border=\"1\" class=\"dataframe\">\n",
       "  <thead>\n",
       "    <tr style=\"text-align: right;\">\n",
       "      <th></th>\n",
       "      <th>Name</th>\n",
       "      <th>City</th>\n",
       "    </tr>\n",
       "  </thead>\n",
       "  <tbody>\n",
       "    <tr>\n",
       "      <th>0</th>\n",
       "      <td>Tom</td>\n",
       "      <td>Delhi</td>\n",
       "    </tr>\n",
       "    <tr>\n",
       "      <th>1</th>\n",
       "      <td>Jerry</td>\n",
       "      <td>Mumbai</td>\n",
       "    </tr>\n",
       "  </tbody>\n",
       "</table>\n",
       "</div>"
      ],
      "text/plain": [
       "    Name    City\n",
       "0    Tom   Delhi\n",
       "1  Jerry  Mumbai"
      ]
     },
     "execution_count": 63,
     "metadata": {},
     "output_type": "execute_result"
    }
   ],
   "source": [
    "df2"
   ]
  },
  {
   "cell_type": "code",
   "execution_count": null,
   "id": "ffb7b7fa-a688-4274-be6a-7ca256253621",
   "metadata": {},
   "outputs": [],
   "source": []
  },
  {
   "cell_type": "code",
   "execution_count": null,
   "id": "df1d5b8c-47e0-4255-961a-3865f02ad965",
   "metadata": {},
   "outputs": [],
   "source": []
  },
  {
   "cell_type": "code",
   "execution_count": null,
   "id": "5dd84dd6-e904-459b-9927-7be855c6f917",
   "metadata": {},
   "outputs": [],
   "source": []
  },
  {
   "cell_type": "code",
   "execution_count": null,
   "id": "520ecaca-c6e3-4492-83af-0c10a9db0a55",
   "metadata": {},
   "outputs": [],
   "source": []
  }
 ],
 "metadata": {
  "kernelspec": {
   "display_name": "Python [conda env:base] *",
   "language": "python",
   "name": "conda-base-py"
  },
  "language_info": {
   "codemirror_mode": {
    "name": "ipython",
    "version": 3
   },
   "file_extension": ".py",
   "mimetype": "text/x-python",
   "name": "python",
   "nbconvert_exporter": "python",
   "pygments_lexer": "ipython3",
   "version": "3.12.7"
  }
 },
 "nbformat": 4,
 "nbformat_minor": 5
}
