{
 "cells": [
  {
   "cell_type": "markdown",
   "id": "0aa1cb08-4030-4dc1-9b5d-063d8864b4f0",
   "metadata": {},
   "source": [
    "# Functions"
   ]
  },
  {
   "cell_type": "markdown",
   "id": "ca95d6b0-9bec-4b03-b2dc-740e9d06f108",
   "metadata": {},
   "source": [
    "Problem without a function"
   ]
  },
  {
   "cell_type": "code",
   "execution_count": 1,
   "id": "a6ad0e35-6ad9-4f6a-b68c-56abc39e5f11",
   "metadata": {},
   "outputs": [
    {
     "name": "stdout",
     "output_type": "stream",
     "text": [
      "15\n"
     ]
    }
   ],
   "source": [
    "a = 5\n",
    "b = 10\n",
    "print(a + b)"
   ]
  },
  {
   "cell_type": "code",
   "execution_count": 2,
   "id": "5fe6f3f0-5523-4361-b844-6130b380e105",
   "metadata": {},
   "outputs": [
    {
     "name": "stdout",
     "output_type": "stream",
     "text": [
      "10\n"
     ]
    }
   ],
   "source": [
    "x = 7\n",
    "y = 3\n",
    "print(x + y)"
   ]
  },
  {
   "cell_type": "markdown",
   "id": "1dfd5afe-8297-431a-9c1b-3dbce52e6774",
   "metadata": {},
   "source": [
    "Repeating code leads to:\n",
    "- code duplication\n",
    "- hard to maintain\n",
    "- low reusability"
   ]
  },
  {
   "cell_type": "markdown",
   "id": "320ae5ea-d122-4b20-9ae7-c163bb10a47f",
   "metadata": {},
   "source": [
    "Benefits of functions:\n",
    "- Organised code into blocks\n",
    "- Reusability\n",
    "- Readability\n",
    "- Debugging\n",
    "- Avoid repetitions"
   ]
  },
  {
   "cell_type": "code",
   "execution_count": 4,
   "id": "d6dbcabb-c489-4db7-89c6-0d56d7ce8c01",
   "metadata": {},
   "outputs": [],
   "source": [
    "def add_numbers(a, b): # a,b - parameter\n",
    "    print(a + b)"
   ]
  },
  {
   "cell_type": "code",
   "execution_count": 5,
   "id": "3de9ba80-ea58-49f3-b7b7-27664100bc88",
   "metadata": {},
   "outputs": [
    {
     "name": "stdout",
     "output_type": "stream",
     "text": [
      "15\n"
     ]
    }
   ],
   "source": [
    "add_numbers(5,10)"
   ]
  },
  {
   "cell_type": "code",
   "execution_count": 6,
   "id": "723019f6-9c56-4d7c-aca2-37251232e8e5",
   "metadata": {},
   "outputs": [
    {
     "name": "stdout",
     "output_type": "stream",
     "text": [
      "10\n"
     ]
    }
   ],
   "source": [
    "add_numbers(7,3)"
   ]
  },
  {
   "cell_type": "code",
   "execution_count": 7,
   "id": "57a79b99-2e58-477d-ab1a-3c5294dc22bc",
   "metadata": {},
   "outputs": [],
   "source": [
    "def greet():\n",
    "    print(\"Hello sir/madam, Welcome to learnbay. Keep learning\")"
   ]
  },
  {
   "cell_type": "code",
   "execution_count": 9,
   "id": "639e75ba-f100-42b4-a063-b32434ea5fc8",
   "metadata": {},
   "outputs": [
    {
     "name": "stdout",
     "output_type": "stream",
     "text": [
      "Hello sir/madam, Welcome to learnbay. Keep learning\n",
      "Hello sir/madam, Welcome to learnbay. Keep learning\n",
      "Hello sir/madam, Welcome to learnbay. Keep learning\n",
      "Hello sir/madam, Welcome to learnbay. Keep learning\n",
      "Hello sir/madam, Welcome to learnbay. Keep learning\n",
      "Hello sir/madam, Welcome to learnbay. Keep learning\n"
     ]
    }
   ],
   "source": [
    "greet()\n",
    "greet()\n",
    "greet()\n",
    "greet()\n",
    "greet()\n",
    "greet()\n"
   ]
  },
  {
   "cell_type": "markdown",
   "id": "22f0727f-ee98-4fd3-9eb9-60f87081ac83",
   "metadata": {},
   "source": [
    "### DEFAULT ARGUMENTS"
   ]
  },
  {
   "cell_type": "code",
   "execution_count": 11,
   "id": "254ae608-b10b-49e7-863c-ebf6773b50a2",
   "metadata": {},
   "outputs": [],
   "source": [
    "def greet1(name):\n",
    "    print(f'Hi {name} sir/madam, welcome to learnbay. Will learn something interesting')"
   ]
  },
  {
   "cell_type": "code",
   "execution_count": 12,
   "id": "d90cd22d-2fdd-4f34-aad4-52695969f040",
   "metadata": {},
   "outputs": [
    {
     "name": "stdout",
     "output_type": "stream",
     "text": [
      "Hi Omraj sir/madam, welcome to learnbay. Will learn something interesting\n"
     ]
    }
   ],
   "source": [
    "greet1('Omraj')"
   ]
  },
  {
   "cell_type": "code",
   "execution_count": 13,
   "id": "69680857-c377-4a43-96f7-7ef20d3199e9",
   "metadata": {},
   "outputs": [
    {
     "name": "stdout",
     "output_type": "stream",
     "text": [
      "Hi Anupam sir/madam, welcome to learnbay. Will learn something interesting\n"
     ]
    }
   ],
   "source": [
    "greet1('Anupam')"
   ]
  },
  {
   "cell_type": "code",
   "execution_count": 14,
   "id": "cacb7d22-9c08-4b85-846d-06ad16265d14",
   "metadata": {},
   "outputs": [
    {
     "ename": "TypeError",
     "evalue": "greet1() missing 1 required positional argument: 'name'",
     "output_type": "error",
     "traceback": [
      "\u001b[0;31m---------------------------------------------------------------------------\u001b[0m",
      "\u001b[0;31mTypeError\u001b[0m                                 Traceback (most recent call last)",
      "Cell \u001b[0;32mIn[14], line 1\u001b[0m\n\u001b[0;32m----> 1\u001b[0m greet1()\n",
      "\u001b[0;31mTypeError\u001b[0m: greet1() missing 1 required positional argument: 'name'"
     ]
    }
   ],
   "source": [
    "greet1()"
   ]
  },
  {
   "cell_type": "code",
   "execution_count": 15,
   "id": "d65c4bbf-c5bd-47e8-b7df-1bd34c64fe5c",
   "metadata": {},
   "outputs": [],
   "source": [
    "def greet1(name = 'Learner'):\n",
    "    print(f'Hi {name} sir/madam, welcome to learnbay. Will learn something interesting')"
   ]
  },
  {
   "cell_type": "code",
   "execution_count": 16,
   "id": "79207700-8a54-4fc2-ae22-d70ebfc705e8",
   "metadata": {},
   "outputs": [
    {
     "name": "stdout",
     "output_type": "stream",
     "text": [
      "Hi Anupam sir/madam, welcome to learnbay. Will learn something interesting\n"
     ]
    }
   ],
   "source": [
    "greet1('Anupam')"
   ]
  },
  {
   "cell_type": "code",
   "execution_count": 17,
   "id": "f3ed9ab2-47d5-4ab0-9cbd-57a05d419207",
   "metadata": {},
   "outputs": [
    {
     "name": "stdout",
     "output_type": "stream",
     "text": [
      "Hi Learner sir/madam, welcome to learnbay. Will learn something interesting\n"
     ]
    }
   ],
   "source": [
    "greet1()"
   ]
  },
  {
   "cell_type": "code",
   "execution_count": 30,
   "id": "f8717d02-40ec-43d9-a4be-72b2fa2c69f7",
   "metadata": {},
   "outputs": [
    {
     "name": "stdout",
     "output_type": "stream",
     "text": [
      "Welcome Shyamraj Sharma To learnbay. We will be learning something interesting today\n"
     ]
    }
   ],
   "source": [
    "firstName = 'Shyamraj'\n",
    "lastName = 'Sharma'\n",
    "print(f'Welcome {firstName} {lastName} To learnbay. We will be learning something interesting today')"
   ]
  },
  {
   "cell_type": "code",
   "execution_count": 25,
   "id": "79fe9aee-8757-4a94-9b78-801fbe0be18a",
   "metadata": {},
   "outputs": [
    {
     "name": "stdout",
     "output_type": "stream",
     "text": [
      "15\n",
      "13\n",
      "17\n"
     ]
    }
   ],
   "source": [
    "def summup(a=6,b=7):\n",
    "  print(a+b)\n",
    "summup(5,10)\n",
    "summup()\n",
    "summup(10,)"
   ]
  },
  {
   "cell_type": "code",
   "execution_count": 27,
   "id": "b516a48d-5140-4f70-8073-455b24b0ab1d",
   "metadata": {},
   "outputs": [
    {
     "name": "stdout",
     "output_type": "stream",
     "text": [
      "16\n"
     ]
    }
   ],
   "source": [
    "summup(b=10)"
   ]
  },
  {
   "cell_type": "code",
   "execution_count": 28,
   "id": "28edaeab-9fcc-41d9-9403-d28b0f2c2805",
   "metadata": {},
   "outputs": [
    {
     "name": "stdout",
     "output_type": "stream",
     "text": [
      "17\n"
     ]
    }
   ],
   "source": [
    "summup(10)"
   ]
  },
  {
   "cell_type": "markdown",
   "id": "3221128f-9d63-4e5c-939a-3b2f1a0691e2",
   "metadata": {},
   "source": [
    "### ARGUMENT ORDER"
   ]
  },
  {
   "cell_type": "code",
   "execution_count": 34,
   "id": "6576bc89-0096-4cf1-a495-2fb7b913b891",
   "metadata": {},
   "outputs": [
    {
     "name": "stdout",
     "output_type": "stream",
     "text": [
      "25\n"
     ]
    }
   ],
   "source": [
    "add_numbers(b=10, a=15)"
   ]
  },
  {
   "cell_type": "markdown",
   "id": "1541aa24-479d-4432-80ae-ae20b4652b4d",
   "metadata": {},
   "source": [
    "### VARIABLES LENGTH ARGUMENTS"
   ]
  },
  {
   "cell_type": "code",
   "execution_count": 35,
   "id": "c462102e-eb64-42b4-8468-95ce545288a4",
   "metadata": {},
   "outputs": [
    {
     "ename": "TypeError",
     "evalue": "add_numbers() takes 2 positional arguments but 5 were given",
     "output_type": "error",
     "traceback": [
      "\u001b[0;31m---------------------------------------------------------------------------\u001b[0m",
      "\u001b[0;31mTypeError\u001b[0m                                 Traceback (most recent call last)",
      "Cell \u001b[0;32mIn[35], line 1\u001b[0m\n\u001b[0;32m----> 1\u001b[0m add_numbers(\u001b[38;5;241m1\u001b[39m,\u001b[38;5;241m2\u001b[39m,\u001b[38;5;241m3\u001b[39m,\u001b[38;5;241m4\u001b[39m,\u001b[38;5;241m5\u001b[39m)\n",
      "\u001b[0;31mTypeError\u001b[0m: add_numbers() takes 2 positional arguments but 5 were given"
     ]
    }
   ],
   "source": [
    "add_numbers(1,2,3,4,5)"
   ]
  },
  {
   "cell_type": "code",
   "execution_count": 36,
   "id": "7ff9c741-be34-4d56-a30c-3626a7810df5",
   "metadata": {},
   "outputs": [],
   "source": [
    "def add_multiple_numbers(*nums):\n",
    "    print(nums)"
   ]
  },
  {
   "cell_type": "code",
   "execution_count": 38,
   "id": "4713f4f6-2fac-4206-a39d-e8bb2fb39e98",
   "metadata": {},
   "outputs": [
    {
     "name": "stdout",
     "output_type": "stream",
     "text": [
      "(1, 2, 3, 4, 5)\n"
     ]
    }
   ],
   "source": [
    "add_multiple_numbers(1,2,3,4,5)"
   ]
  },
  {
   "cell_type": "code",
   "execution_count": 39,
   "id": "94666047-9aee-41ef-b548-213c21c89361",
   "metadata": {},
   "outputs": [
    {
     "name": "stdout",
     "output_type": "stream",
     "text": [
      "(1, 2)\n"
     ]
    }
   ],
   "source": [
    "add_multiple_numbers(1,2)"
   ]
  },
  {
   "cell_type": "code",
   "execution_count": 40,
   "id": "3b31b267-cfad-463e-a889-e721370f4303",
   "metadata": {},
   "outputs": [],
   "source": [
    "def add_multiple_numbers(*nums):\n",
    "    currentSum = 0\n",
    "    for num in nums:\n",
    "        currentSum += num\n",
    "    print(currentSum)"
   ]
  },
  {
   "cell_type": "code",
   "execution_count": 41,
   "id": "9935bb43-ac34-4613-8315-55e26a26e054",
   "metadata": {},
   "outputs": [
    {
     "name": "stdout",
     "output_type": "stream",
     "text": [
      "15\n"
     ]
    }
   ],
   "source": [
    "add_multiple_numbers(1,2,3,4,5)"
   ]
  },
  {
   "cell_type": "code",
   "execution_count": 42,
   "id": "721b45eb-d0c3-47f0-8db4-8e67feb72089",
   "metadata": {},
   "outputs": [
    {
     "name": "stdout",
     "output_type": "stream",
     "text": [
      "3\n"
     ]
    }
   ],
   "source": [
    "add_multiple_numbers(1,2)"
   ]
  },
  {
   "cell_type": "code",
   "execution_count": 43,
   "id": "f596ad5e-6471-4076-a1ad-d8293dde2b87",
   "metadata": {},
   "outputs": [
    {
     "name": "stdout",
     "output_type": "stream",
     "text": [
      "55\n"
     ]
    }
   ],
   "source": [
    "add_multiple_numbers(1,2,3,4,5,6,7,8,9,10)"
   ]
  },
  {
   "cell_type": "markdown",
   "id": "8b870758-4546-495a-befd-658fa040c4f6",
   "metadata": {},
   "source": [
    "### RETURN"
   ]
  },
  {
   "cell_type": "markdown",
   "id": "291cd818-2adc-4860-95ab-d1bed13b3691",
   "metadata": {},
   "source": [
    "a function can return a value"
   ]
  },
  {
   "cell_type": "code",
   "execution_count": 50,
   "id": "f33ba1c9-7119-4839-9aae-50df44cb0097",
   "metadata": {},
   "outputs": [],
   "source": [
    "def square(x):\n",
    "    return x * x"
   ]
  },
  {
   "cell_type": "code",
   "execution_count": 45,
   "id": "6e0b7bce-659d-46cc-b3c4-f9ca91561ed8",
   "metadata": {},
   "outputs": [
    {
     "name": "stdout",
     "output_type": "stream",
     "text": [
      "4\n"
     ]
    }
   ],
   "source": [
    "result = square(2)\n",
    "print(result)"
   ]
  },
  {
   "cell_type": "markdown",
   "id": "159a186c-7a5e-4f93-a576-eae74db80ff7",
   "metadata": {},
   "source": [
    "### LAMBDA/ ANONYMOUS FUNCTION"
   ]
  },
  {
   "cell_type": "code",
   "execution_count": 51,
   "id": "a2e95a7f-63c6-4668-9756-470970cf72bf",
   "metadata": {},
   "outputs": [],
   "source": [
    "square1 = lambda x: x * x"
   ]
  },
  {
   "cell_type": "code",
   "execution_count": 47,
   "id": "2414857b-f810-4337-b0e3-5d061e6c1d31",
   "metadata": {},
   "outputs": [
    {
     "name": "stdout",
     "output_type": "stream",
     "text": [
      "25\n"
     ]
    }
   ],
   "source": [
    "print(square1(5))"
   ]
  },
  {
   "cell_type": "code",
   "execution_count": 48,
   "id": "20684610-f2e9-4d37-b4d9-ca9e6d56e794",
   "metadata": {},
   "outputs": [
    {
     "name": "stdout",
     "output_type": "stream",
     "text": [
      "100\n"
     ]
    }
   ],
   "source": [
    "print(square1(10))"
   ]
  },
  {
   "cell_type": "code",
   "execution_count": 52,
   "id": "1de6937a-8c18-4316-b531-8b749f802413",
   "metadata": {},
   "outputs": [],
   "source": [
    "omraj = square1"
   ]
  },
  {
   "cell_type": "code",
   "execution_count": 53,
   "id": "898cf513-38b6-4658-969a-facb35f38e75",
   "metadata": {},
   "outputs": [
    {
     "name": "stdout",
     "output_type": "stream",
     "text": [
      "144\n"
     ]
    }
   ],
   "source": [
    "print(omraj(12))"
   ]
  },
  {
   "cell_type": "code",
   "execution_count": null,
   "id": "d52bbb3c-ba68-4fef-ab3f-ad3bf8eea163",
   "metadata": {},
   "outputs": [],
   "source": []
  }
 ],
 "metadata": {
  "kernelspec": {
   "display_name": "Python 3 (ipykernel)",
   "language": "python",
   "name": "python3"
  },
  "language_info": {
   "codemirror_mode": {
    "name": "ipython",
    "version": 3
   },
   "file_extension": ".py",
   "mimetype": "text/x-python",
   "name": "python",
   "nbconvert_exporter": "python",
   "pygments_lexer": "ipython3",
   "version": "3.12.7"
  }
 },
 "nbformat": 4,
 "nbformat_minor": 5
}
